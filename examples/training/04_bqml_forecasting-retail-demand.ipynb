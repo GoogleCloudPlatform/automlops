{
 "cells": [
  {
   "cell_type": "code",
   "execution_count": null,
   "id": "12b45b0b",
   "metadata": {},
   "outputs": [],
   "source": [
    "# Copyright 2024 Google LLC\n",
    "#\n",
    "# Licensed under the Apache License, Version 2.0 (the \"License\");\n",
    "# you may not use this file except in compliance with the License.\n",
    "# You may obtain a copy of the License at\n",
    "#\n",
    "#     https://www.apache.org/licenses/LICENSE-2.0\n",
    "#\n",
    "# Unless required by applicable law or agreed to in writing, software\n",
    "# distributed under the License is distributed on an \"AS IS\" BASIS,\n",
    "# WITHOUT WARRANTIES OR CONDITIONS OF ANY KIND, either express or implied.\n",
    "# See the License for the specific language governing permissions and\n",
    "# limitations under the License."
   ]
  },
  {
   "cell_type": "markdown",
   "id": "8790d7ed",
   "metadata": {},
   "source": [
    "# AutoMLOps - Forecasting retail demand with Vertex AI and BigQuery ML \n",
    "\n",
    "<table align=\"left\">\n",
    "  <td>\n",
    "    <a href=\"https://colab.research.google.com/github/GoogleCloudPlatform/automlops/blob/main/examples/training/04_bqml_forecasting-retail-demand.ipynb\">\n",
    "      <img src=\"https://cloud.google.com/ml-engine/images/colab-logo-32px.png\" alt=\"Colab logo\"> Run in Colab\n",
    "    </a>\n",
    "  </td>\n",
    "  <td>\n",
    "    <a href=\"https://github.com/GoogleCloudPlatform/automlops/blob/main/examples/training/04_bqml_forecasting-retail-demand.ipynb\">\n",
    "      <img src=\"https://cloud.google.com/ml-engine/images/github-logo-32px.png\" alt=\"GitHub logo\">\n",
    "      View on GitHub\n",
    "    </a>\n",
    "  </td>\n",
    "  <td>\n",
    "    <a href=\"https://console.cloud.google.com/vertex-ai/workbench/deploy-notebook?download_url=https://raw.githubusercontent.com/GoogleCloudPlatform/automlops/main/examples/training/04_bqml_forecasting-retail-demand.ipynb\">\n",
    "        <img src=\"https://lh3.googleusercontent.com/UiNooY4LUgW_oTvpsNhPpQzsstV5W8F7rYgxgGBD85cWJoLmrOzhVs_ksK_vgx40SHs7jCqkTkCk=e14-rj-sc0xffffff-h130-w32\" alt=\"Vertex AI logo\">\n",
    "      Open in Vertex AI Workbench\n",
    "    </a>\n",
    "  </td>\n",
    "</table>\n",
    "<br/><br/><br/>"
   ]
  },
  {
   "cell_type": "markdown",
   "id": "6f938540",
   "metadata": {},
   "source": [
    "# Overview\n",
    "\n",
    "This tutorial explores using AutoMLOps for demand forecasting using a BigQuery public retail dataset. Being able to measure and forecast customer demand can help retailers better understand their customers, stock shelves with the right products, offer targeted promotions, and generally, better plan and manage their budgets. This notebook applies an ARIMA (Autoregressive integrated moving average) model from BigQuery ML on retail data. This notebook demonstrates how to train and evaluate a BigQuery ML model for demand forecasting datasets and extract actionable future insights.\n",
    "\n",
    "#### ARIMA Modeling with BigQuery ML \n",
    "\n",
    "The <a href='https://en.wikipedia.org/wiki/Autoregressive_integrated_moving_average'>ARIMA model</a> is designed to analyze historical data, spot patterns over time, and project them into the future--in other words, forecasting. The model is available inside BigQuery ML and enables users to create and execute machine learning models directly in BigQuery using SQL queries. Working with BigQuery ML is advantageous, as it already has access to the data, it can handle most of the modeling details automatically if desired, and will store both the model and any predictions also inside BigQuery. "
   ]
  },
  {
   "cell_type": "markdown",
   "id": "b3cd4abb-64e5-453f-b501-207a070c9005",
   "metadata": {},
   "source": [
    "### This tutorial is broken into 2 parts\n",
    "\n",
    "[Part 1 : Data science exploration](#data_science_exploration)\n",
    "\n",
    "[Part 2 : Automating pipeline creationg with AutoMLOps](#automlops)"
   ]
  },
  {
   "cell_type": "markdown",
   "id": "22881a6a",
   "metadata": {},
   "source": [
    "# Objective\n",
    "\n",
    "In this tutorial, you learn how to build ARIMA (Autoregressive integrated moving average) model from BigQuery ML on retail data. You will then learn how to create and run MLOps pipelines integrated with CI/CD. The pipeline goes through the following steps:\n",
    "\n",
    "1. prepare_sales_table: Custom component that prepares the sales table.\n",
    "2. create_training_dataset: Custom component that creates training data, ranging from today to N year(s) ago.\n",
    "3. train_model: Train an ARIMA model on the training dataset.\n",
    "4. evaluate_model: Evaluate the trained ARIMA model.\n",
    "5. forecast: Custom component that runs a forecast for a given horizon period.\n",
    "\n",
    "# Prerequisites\n",
    "\n",
    "In order to use AutoMLOps, the following are required:\n",
    "\n",
    "- Python 3.7 - 3.10\n",
    "- [Google Cloud SDK 407.0.0](https://cloud.google.com/sdk/gcloud/reference)\n",
    "- [beta 2022.10.21](https://cloud.google.com/sdk/gcloud/reference/beta)\n",
    "- `git` installed\n",
    "- `git` logged-in:\n",
    "```\n",
    "  git config --global user.email \"you@example.com\"\n",
    "  git config --global user.name \"Your Name\"\n",
    "```\n",
    "- [Application Default Credentials (ADC)](https://cloud.google.com/docs/authentication/provide-credentials-adc) are setup. This can be done through the following commands:\n",
    "```\n",
    "gcloud auth application-default login\n",
    "gcloud config set account <account@example.com>\n",
    "```\n",
    "\n",
    "# APIs & IAM\n",
    "Based on the user options selection, AutoMLOps will enable up to the following APIs during the provision step:\n",
    "- [aiplatform.googleapis.com](https://cloud.google.com/vertex-ai/docs/reference/rest)\n",
    "- [artifactregistry.googleapis.com](https://cloud.google.com/artifact-registry/docs/reference/rest)\n",
    "- [cloudbuild.googleapis.com](https://cloud.google.com/build/docs/api/reference/rest)\n",
    "- [cloudfunctions.googleapis.com](https://cloud.google.com/functions/docs/reference/rest)\n",
    "- [cloudresourcemanager.googleapis.com](https://cloud.google.com/resource-manager/reference/rest)\n",
    "- [cloudscheduler.googleapis.com](https://cloud.google.com/scheduler/docs/reference/rest)\n",
    "- [compute.googleapis.com](https://cloud.google.com/compute/docs/reference/rest/v1)\n",
    "- [iam.googleapis.com](https://cloud.google.com/iam/docs/reference/rest)\n",
    "- [iamcredentials.googleapis.com](https://cloud.google.com/iam/docs/reference/credentials/rest)\n",
    "- [logging.googleapis.com](https://cloud.google.com/logging/docs/reference/v2/rest)\n",
    "- [pubsub.googleapis.com](https://cloud.google.com/pubsub/docs/reference/rest)\n",
    "- [run.googleapis.com](https://cloud.google.com/run/docs/reference/rest)\n",
    "- [storage.googleapis.com](https://cloud.google.com/storage/docs/apis)\n",
    "- [sourcerepo.googleapis.com](https://cloud.google.com/source-repositories/docs/reference/rest)\n",
    "\n",
    "\n",
    "AutoMLOps will create the following service account and update [IAM permissions](https://cloud.google.com/iam/docs/understanding-roles) during the provision step:\n",
    "1. Pipeline Runner Service Account (defaults to: vertex-pipelines@PROJECT_ID.iam.gserviceaccount.com). Roles added:\n",
    "- roles/aiplatform.user\n",
    "- roles/artifactregistry.reader\n",
    "- roles/bigquery.user\n",
    "- roles/bigquery.dataEditor\n",
    "- roles/iam.serviceAccountUser\n",
    "- roles/storage.admin\n",
    "- roles/cloudfunctions.admin\n",
    "\n",
    "# User Guide\n",
    "\n",
    "For a user-guide, please view these [slides](../../AutoMLOps_User_Guide.pdf).\n",
    "\n",
    "# Costs\n",
    "\n",
    "This tutorial uses billable components of Google Cloud:\n",
    "- Vertex AI\n",
    "- Artifact Registry\n",
    "- Cloud Storage\n",
    "- Cloud Source Repository\n",
    "- Cloud Build\n",
    "- Cloud Run\n",
    "- Cloud Scheduler\n",
    "- Cloud Pub/Sub\n",
    "\n",
    "Learn about [Vertex AI pricing](https://cloud.google.com/vertex-ai/pricing), and use the [Pricing Calculator](https://cloud.google.com/products/calculator/) to generate a cost estimate based on your projected usage.\n",
    "\n",
    "# Ground-rules for using AutoMLOps\n",
    "1. Do not use variables, functions, code, etc. not defined within the scope of a custom component. These custom components will become containers and will have no reference to the out of scope code.\n",
    "2. Import statements and helper functions must be added inside the function. Provide parameter type hints.\n",
    "3. Test each of your components for accuracy and correctness before running them using AutoMLOps. We cannot fix bugs automatically; bugs are much more difficult to fix once they are made into pipelines.\n",
    "4. If you are using Kubeflow, be sure to define all the requirements needed to run the custom component - it can be easy to leave out packages which will cause the container to fail when running within a pipeline. \n"
   ]
  },
  {
   "cell_type": "markdown",
   "id": "12381413",
   "metadata": {},
   "source": [
    "## Dataset\n",
    "\n",
    "This notebook uses the BigQuery public retail data set from [BigQuery public datasets](https://cloud.google.com/bigquery/public-data).\n",
    "The data covers 10 US stores and includes item level, department, product categories, and store details. In addition, it has explanatory variables such as price and gross margin."
   ]
  },
  {
   "cell_type": "markdown",
   "id": "a231b629",
   "metadata": {},
   "source": [
    "## Setup Git\n",
    "Set up your git configuration below"
   ]
  },
  {
   "cell_type": "code",
   "execution_count": null,
   "id": "92f90b44",
   "metadata": {},
   "outputs": [],
   "source": [
    "!git config --global user.email 'you@example.com'\n",
    "!git config --global user.name 'Your Name'"
   ]
  },
  {
   "cell_type": "markdown",
   "id": "d5e4d190",
   "metadata": {},
   "source": [
    "## Install AutoMLOps\n",
    "\n",
    "Install AutoMLOps from [PyPI](https://pypi.org/project/google-cloud-automlops/), or locally by cloning the repo and running `pip install .`"
   ]
  },
  {
   "cell_type": "code",
   "execution_count": null,
   "id": "94451868",
   "metadata": {},
   "outputs": [],
   "source": [
    "!pip3 install google-cloud-automlops --user"
   ]
  },
  {
   "cell_type": "markdown",
   "id": "17db55d5",
   "metadata": {},
   "source": [
    "## Restart the kernel\n",
    "Once you've installed the AutoMLOps package, you need to restart the notebook kernel so it can find the package.\n",
    "\n",
    "**Note: Once this cell has finished running, continue on. You do not need to re-run any of the cells above.**"
   ]
  },
  {
   "cell_type": "code",
   "execution_count": 1,
   "id": "57c53b86",
   "metadata": {},
   "outputs": [],
   "source": [
    "import os\n",
    "\n",
    "if not os.getenv('IS_TESTING'):\n",
    "    # Automatically restart kernel after installs\n",
    "    import IPython\n",
    "\n",
    "    app = IPython.Application.instance()\n",
    "    app.kernel.do_shutdown(True)"
   ]
  },
  {
   "cell_type": "markdown",
   "id": "250d511b",
   "metadata": {},
   "source": [
    "## Set your project ID\n",
    "Set your project ID below. If you don't know your project ID, leave the field blank and the following cells may be able to find it."
   ]
  },
  {
   "cell_type": "code",
   "execution_count": 1,
   "id": "931ff517",
   "metadata": {},
   "outputs": [],
   "source": [
    "PROJECT_ID = '[your-project-id]'  # @param {type:\"string\"}"
   ]
  },
  {
   "cell_type": "code",
   "execution_count": 2,
   "id": "be0be295",
   "metadata": {},
   "outputs": [
    {
     "name": "stdout",
     "output_type": "stream",
     "text": [
      "Project ID: automlops-sandbox\n"
     ]
    }
   ],
   "source": [
    "if PROJECT_ID == '' or PROJECT_ID is None or PROJECT_ID == '[your-project-id]':\n",
    "    # Get your GCP project id from gcloud\n",
    "    shell_output = !gcloud config list --format 'value(core.project)' 2>/dev/null\n",
    "    PROJECT_ID = shell_output[0]\n",
    "    print('Project ID:', PROJECT_ID)"
   ]
  },
  {
   "cell_type": "code",
   "execution_count": 3,
   "id": "2c36482d",
   "metadata": {},
   "outputs": [
    {
     "name": "stdout",
     "output_type": "stream",
     "text": [
      "Updated property [core/project].\n"
     ]
    }
   ],
   "source": [
    "! gcloud config set project $PROJECT_ID"
   ]
  },
  {
   "cell_type": "markdown",
   "id": "d50f9178",
   "metadata": {},
   "source": [
    "Set your Model_ID below:"
   ]
  },
  {
   "cell_type": "code",
   "execution_count": null,
   "id": "289c5307",
   "metadata": {},
   "outputs": [],
   "source": [
    "MODEL_ID = 'demand-forecasting-arima'"
   ]
  },
  {
   "cell_type": "markdown",
   "id": "b802d468-50ac-4f7b-921e-911edf34e4ad",
   "metadata": {},
   "source": [
    "## Import libraries and define variables"
   ]
  },
  {
   "cell_type": "code",
   "execution_count": 4,
   "id": "8b8c230d-8777-4e15-8f4f-e30ce97c1600",
   "metadata": {},
   "outputs": [],
   "source": [
    "import random\n",
    "import string\n",
    "\n",
    "import matplotlib.pyplot as plt\n",
    "import pandas as pd\n",
    "from google.cloud import bigquery\n",
    "from sklearn.metrics import (mean_absolute_error,\n",
    "                             mean_absolute_percentage_error,\n",
    "                             mean_squared_error)\n",
    "%matplotlib inline\n",
    "\n",
    "import warnings\n",
    "warnings.filterwarnings('ignore')\n",
    "\n",
    "SALES_TABLE = 'training_data_table'\n",
    "\n",
    "# Construct a BigQuery client object.\n",
    "bq_client = bigquery.Client(project=PROJECT_ID)\n",
    "dataset_id = 'demandforecasting'"
   ]
  },
  {
   "cell_type": "markdown",
   "id": "06124795-e7f7-4eb5-8f57-9f6ba454d43d",
   "metadata": {
    "jp-MarkdownHeadingCollapsed": true,
    "tags": []
   },
   "source": [
    "# Part 1 : Data science exploration<a id='data_science_exploration'></a>"
   ]
  },
  {
   "cell_type": "markdown",
   "id": "503f4a85-c357-4ec4-8ea5-0eeb2c8afd39",
   "metadata": {},
   "source": [
    "## Create an empty Biquery Dataset\n",
    "This will create a BQ dataset. Note that this is running a SQL query using the Bigquery API client."
   ]
  },
  {
   "cell_type": "code",
   "execution_count": 5,
   "id": "28557b2d-598c-466b-8116-bc1e34ba090d",
   "metadata": {},
   "outputs": [
    {
     "name": "stdout",
     "output_type": "stream",
     "text": [
      "<google.cloud.bigquery.table._EmptyRowIterator object at 0x7fe89108b990>\n"
     ]
    }
   ],
   "source": [
    "query = f'''\n",
    "CREATE SCHEMA IF NOT EXISTS `{PROJECT_ID}.{dataset_id}`\n",
    "OPTIONS(\n",
    "  location=\"us\"\n",
    "  )\n",
    "'''\n",
    "query_job = bq_client.query(query)\n",
    "print(query_job.result())"
   ]
  },
  {
   "cell_type": "markdown",
   "id": "7750604b-176a-4203-bb67-497281224c96",
   "metadata": {},
   "source": [
    "## Exploratory Data Analysis"
   ]
  },
  {
   "cell_type": "code",
   "execution_count": 6,
   "id": "97965da8-6542-40df-ad2b-d0aa852e8f2c",
   "metadata": {},
   "outputs": [],
   "source": [
    "query = '''\n",
    "SELECT * FROM `looker-private-demo.retail.transaction_detail`\n",
    "'''\n",
    "query_job = bq_client.query(query)"
   ]
  },
  {
   "cell_type": "markdown",
   "id": "0358ec83-fa7e-4b5c-8e48-ca467b3f7136",
   "metadata": {},
   "source": [
    "## Raw dataset"
   ]
  },
  {
   "cell_type": "code",
   "execution_count": 7,
   "id": "ec011f0b-e9f8-4ea3-a21e-1c4ed16dfd72",
   "metadata": {},
   "outputs": [
    {
     "data": {
      "text/html": [
       "<div>\n",
       "<style scoped>\n",
       "    .dataframe tbody tr th:only-of-type {\n",
       "        vertical-align: middle;\n",
       "    }\n",
       "\n",
       "    .dataframe tbody tr th {\n",
       "        vertical-align: top;\n",
       "    }\n",
       "\n",
       "    .dataframe thead th {\n",
       "        text-align: right;\n",
       "    }\n",
       "</style>\n",
       "<table border=\"1\" class=\"dataframe\">\n",
       "  <thead>\n",
       "    <tr style=\"text-align: right;\">\n",
       "      <th></th>\n",
       "      <th>transaction_timestamp</th>\n",
       "      <th>transaction_id</th>\n",
       "      <th>store_id</th>\n",
       "      <th>channel_id</th>\n",
       "      <th>customer_id</th>\n",
       "      <th>line_items</th>\n",
       "    </tr>\n",
       "  </thead>\n",
       "  <tbody>\n",
       "    <tr>\n",
       "      <th>0</th>\n",
       "      <td>2020-03-02 02:47:36+00:00</td>\n",
       "      <td>11239</td>\n",
       "      <td>1</td>\n",
       "      <td>1</td>\n",
       "      <td>&lt;NA&gt;</td>\n",
       "      <td>[{'product_id': 2456, 'sale_price': 24.5599994...</td>\n",
       "    </tr>\n",
       "    <tr>\n",
       "      <th>1</th>\n",
       "      <td>2020-03-02 22:23:44+00:00</td>\n",
       "      <td>195015</td>\n",
       "      <td>1</td>\n",
       "      <td>2</td>\n",
       "      <td>&lt;NA&gt;</td>\n",
       "      <td>[{'product_id': 7137, 'sale_price': 29.9899997...</td>\n",
       "    </tr>\n",
       "    <tr>\n",
       "      <th>2</th>\n",
       "      <td>2020-03-02 14:17:24+00:00</td>\n",
       "      <td>247527</td>\n",
       "      <td>1</td>\n",
       "      <td>2</td>\n",
       "      <td>&lt;NA&gt;</td>\n",
       "      <td>[{'product_id': 22713, 'sale_price': 27.989999...</td>\n",
       "    </tr>\n",
       "    <tr>\n",
       "      <th>3</th>\n",
       "      <td>2020-03-02 10:43:01+00:00</td>\n",
       "      <td>74896</td>\n",
       "      <td>1</td>\n",
       "      <td>2</td>\n",
       "      <td>&lt;NA&gt;</td>\n",
       "      <td>[{'product_id': 23641, 'sale_price': 59.950000...</td>\n",
       "    </tr>\n",
       "    <tr>\n",
       "      <th>4</th>\n",
       "      <td>2020-03-02 19:21:05+00:00</td>\n",
       "      <td>236207</td>\n",
       "      <td>1</td>\n",
       "      <td>3</td>\n",
       "      <td>5455</td>\n",
       "      <td>[{'product_id': 20542, 'sale_price': 68.0, 'gr...</td>\n",
       "    </tr>\n",
       "    <tr>\n",
       "      <th>...</th>\n",
       "      <td>...</td>\n",
       "      <td>...</td>\n",
       "      <td>...</td>\n",
       "      <td>...</td>\n",
       "      <td>...</td>\n",
       "      <td>...</td>\n",
       "    </tr>\n",
       "    <tr>\n",
       "      <th>297392</th>\n",
       "      <td>2019-05-05 14:42:23+00:00</td>\n",
       "      <td>109342</td>\n",
       "      <td>10</td>\n",
       "      <td>4</td>\n",
       "      <td>3272</td>\n",
       "      <td>[{'product_id': 13596, 'sale_price': 75.110000...</td>\n",
       "    </tr>\n",
       "    <tr>\n",
       "      <th>297393</th>\n",
       "      <td>2018-11-28 22:06:50+00:00</td>\n",
       "      <td>1675</td>\n",
       "      <td>10</td>\n",
       "      <td>3</td>\n",
       "      <td>1774</td>\n",
       "      <td>[{'product_id': 12761, 'sale_price': 53.5, 'gr...</td>\n",
       "    </tr>\n",
       "    <tr>\n",
       "      <th>297394</th>\n",
       "      <td>2018-11-28 06:35:24+00:00</td>\n",
       "      <td>125086</td>\n",
       "      <td>10</td>\n",
       "      <td>4</td>\n",
       "      <td>32</td>\n",
       "      <td>[{'product_id': 8305, 'sale_price': 69.9899978...</td>\n",
       "    </tr>\n",
       "    <tr>\n",
       "      <th>297395</th>\n",
       "      <td>2018-11-28 23:20:39+00:00</td>\n",
       "      <td>1700</td>\n",
       "      <td>10</td>\n",
       "      <td>1</td>\n",
       "      <td>&lt;NA&gt;</td>\n",
       "      <td>[{'product_id': 25390, 'sale_price': 25.600000...</td>\n",
       "    </tr>\n",
       "    <tr>\n",
       "      <th>297396</th>\n",
       "      <td>2018-11-28 22:35:51+00:00</td>\n",
       "      <td>170820</td>\n",
       "      <td>10</td>\n",
       "      <td>3</td>\n",
       "      <td>113</td>\n",
       "      <td>[{'product_id': 20551, 'sale_price': 58.0, 'gr...</td>\n",
       "    </tr>\n",
       "  </tbody>\n",
       "</table>\n",
       "<p>297397 rows × 6 columns</p>\n",
       "</div>"
      ],
      "text/plain": [
       "           transaction_timestamp  transaction_id  store_id  channel_id  \\\n",
       "0      2020-03-02 02:47:36+00:00           11239         1           1   \n",
       "1      2020-03-02 22:23:44+00:00          195015         1           2   \n",
       "2      2020-03-02 14:17:24+00:00          247527         1           2   \n",
       "3      2020-03-02 10:43:01+00:00           74896         1           2   \n",
       "4      2020-03-02 19:21:05+00:00          236207         1           3   \n",
       "...                          ...             ...       ...         ...   \n",
       "297392 2019-05-05 14:42:23+00:00          109342        10           4   \n",
       "297393 2018-11-28 22:06:50+00:00            1675        10           3   \n",
       "297394 2018-11-28 06:35:24+00:00          125086        10           4   \n",
       "297395 2018-11-28 23:20:39+00:00            1700        10           1   \n",
       "297396 2018-11-28 22:35:51+00:00          170820        10           3   \n",
       "\n",
       "        customer_id                                         line_items  \n",
       "0              <NA>  [{'product_id': 2456, 'sale_price': 24.5599994...  \n",
       "1              <NA>  [{'product_id': 7137, 'sale_price': 29.9899997...  \n",
       "2              <NA>  [{'product_id': 22713, 'sale_price': 27.989999...  \n",
       "3              <NA>  [{'product_id': 23641, 'sale_price': 59.950000...  \n",
       "4              5455  [{'product_id': 20542, 'sale_price': 68.0, 'gr...  \n",
       "...             ...                                                ...  \n",
       "297392         3272  [{'product_id': 13596, 'sale_price': 75.110000...  \n",
       "297393         1774  [{'product_id': 12761, 'sale_price': 53.5, 'gr...  \n",
       "297394           32  [{'product_id': 8305, 'sale_price': 69.9899978...  \n",
       "297395         <NA>  [{'product_id': 25390, 'sale_price': 25.600000...  \n",
       "297396          113  [{'product_id': 20551, 'sale_price': 58.0, 'gr...  \n",
       "\n",
       "[297397 rows x 6 columns]"
      ]
     },
     "execution_count": 7,
     "metadata": {},
     "output_type": "execute_result"
    }
   ],
   "source": [
    "query_job.to_dataframe()"
   ]
  },
  {
   "cell_type": "markdown",
   "id": "6925b204-626e-4b25-8371-0026974a3bd7",
   "metadata": {
    "id": "6d52803e14f2"
   },
   "source": [
    "**Create a view named `important_fields` using only the `transaction_timestamp` and `line_items` fields, where the store ID is 10.**"
   ]
  },
  {
   "cell_type": "code",
   "execution_count": 8,
   "id": "49fd86ae-cc7a-4cf9-a1ae-47c229186c5c",
   "metadata": {
    "id": "uDgu3GWtp94B"
   },
   "outputs": [
    {
     "name": "stdout",
     "output_type": "stream",
     "text": [
      "<google.cloud.bigquery.table._EmptyRowIterator object at 0x7fe8807460d0>\n"
     ]
    }
   ],
   "source": [
    "query = f'''\n",
    "CREATE OR REPLACE VIEW {dataset_id}.important_fields AS\n",
    "(\n",
    "    SELECT transaction_timestamp,line_items from `looker-private-demo.retail.transaction_detail` WHERE store_id = 10\n",
    ")   \n",
    "'''\n",
    "query_job = bq_client.query(query)\n",
    "print(query_job.result())"
   ]
  },
  {
   "cell_type": "markdown",
   "id": "f03c2cb2-c9fd-4794-bb02-d329583d403e",
   "metadata": {
    "id": "a9ca8a8bbf82"
   },
   "source": [
    "**Look at the data in the `important_fields` view.**"
   ]
  },
  {
   "cell_type": "code",
   "execution_count": 9,
   "id": "240b55f1-7d6b-429d-8305-935d080687b3",
   "metadata": {
    "id": "J4CN-N_op94B"
   },
   "outputs": [
    {
     "data": {
      "text/html": [
       "<div>\n",
       "<style scoped>\n",
       "    .dataframe tbody tr th:only-of-type {\n",
       "        vertical-align: middle;\n",
       "    }\n",
       "\n",
       "    .dataframe tbody tr th {\n",
       "        vertical-align: top;\n",
       "    }\n",
       "\n",
       "    .dataframe thead th {\n",
       "        text-align: right;\n",
       "    }\n",
       "</style>\n",
       "<table border=\"1\" class=\"dataframe\">\n",
       "  <thead>\n",
       "    <tr style=\"text-align: right;\">\n",
       "      <th></th>\n",
       "      <th>transaction_timestamp</th>\n",
       "      <th>line_items</th>\n",
       "    </tr>\n",
       "  </thead>\n",
       "  <tbody>\n",
       "    <tr>\n",
       "      <th>0</th>\n",
       "      <td>2022-11-07 17:46:14+00:00</td>\n",
       "      <td>[{'product_id': 25416, 'sale_price': 29.0, 'gr...</td>\n",
       "    </tr>\n",
       "    <tr>\n",
       "      <th>1</th>\n",
       "      <td>2022-11-07 03:18:45+00:00</td>\n",
       "      <td>[{'product_id': 25598, 'sale_price': 21.0, 'gr...</td>\n",
       "    </tr>\n",
       "    <tr>\n",
       "      <th>2</th>\n",
       "      <td>2022-11-07 08:07:54+00:00</td>\n",
       "      <td>[{'product_id': 12803, 'sale_price': 70.949996...</td>\n",
       "    </tr>\n",
       "    <tr>\n",
       "      <th>3</th>\n",
       "      <td>2022-11-07 11:47:29+00:00</td>\n",
       "      <td>[{'product_id': 24956, 'sale_price': 23.0, 'gr...</td>\n",
       "    </tr>\n",
       "    <tr>\n",
       "      <th>4</th>\n",
       "      <td>2022-11-07 13:37:30+00:00</td>\n",
       "      <td>[{'product_id': 22707, 'sale_price': 60.990001...</td>\n",
       "    </tr>\n",
       "    <tr>\n",
       "      <th>...</th>\n",
       "      <td>...</td>\n",
       "      <td>...</td>\n",
       "    </tr>\n",
       "    <tr>\n",
       "      <th>29668</th>\n",
       "      <td>2022-08-01 17:31:53+00:00</td>\n",
       "      <td>[{'product_id': 7384, 'sale_price': 29.9500007...</td>\n",
       "    </tr>\n",
       "    <tr>\n",
       "      <th>29669</th>\n",
       "      <td>2020-01-04 05:59:13+00:00</td>\n",
       "      <td>[{'product_id': 12728, 'sale_price': 29.950000...</td>\n",
       "    </tr>\n",
       "    <tr>\n",
       "      <th>29670</th>\n",
       "      <td>2018-08-21 03:49:33+00:00</td>\n",
       "      <td>[{'product_id': 28316, 'sale_price': 29.950000...</td>\n",
       "    </tr>\n",
       "    <tr>\n",
       "      <th>29671</th>\n",
       "      <td>2023-03-18 09:53:30+00:00</td>\n",
       "      <td>[{'product_id': 12728, 'sale_price': 29.950000...</td>\n",
       "    </tr>\n",
       "    <tr>\n",
       "      <th>29672</th>\n",
       "      <td>2023-02-08 15:50:06+00:00</td>\n",
       "      <td>[{'product_id': 12728, 'sale_price': 29.950000...</td>\n",
       "    </tr>\n",
       "  </tbody>\n",
       "</table>\n",
       "<p>29673 rows × 2 columns</p>\n",
       "</div>"
      ],
      "text/plain": [
       "          transaction_timestamp  \\\n",
       "0     2022-11-07 17:46:14+00:00   \n",
       "1     2022-11-07 03:18:45+00:00   \n",
       "2     2022-11-07 08:07:54+00:00   \n",
       "3     2022-11-07 11:47:29+00:00   \n",
       "4     2022-11-07 13:37:30+00:00   \n",
       "...                         ...   \n",
       "29668 2022-08-01 17:31:53+00:00   \n",
       "29669 2020-01-04 05:59:13+00:00   \n",
       "29670 2018-08-21 03:49:33+00:00   \n",
       "29671 2023-03-18 09:53:30+00:00   \n",
       "29672 2023-02-08 15:50:06+00:00   \n",
       "\n",
       "                                              line_items  \n",
       "0      [{'product_id': 25416, 'sale_price': 29.0, 'gr...  \n",
       "1      [{'product_id': 25598, 'sale_price': 21.0, 'gr...  \n",
       "2      [{'product_id': 12803, 'sale_price': 70.949996...  \n",
       "3      [{'product_id': 24956, 'sale_price': 23.0, 'gr...  \n",
       "4      [{'product_id': 22707, 'sale_price': 60.990001...  \n",
       "...                                                  ...  \n",
       "29668  [{'product_id': 7384, 'sale_price': 29.9500007...  \n",
       "29669  [{'product_id': 12728, 'sale_price': 29.950000...  \n",
       "29670  [{'product_id': 28316, 'sale_price': 29.950000...  \n",
       "29671  [{'product_id': 12728, 'sale_price': 29.950000...  \n",
       "29672  [{'product_id': 12728, 'sale_price': 29.950000...  \n",
       "\n",
       "[29673 rows x 2 columns]"
      ]
     },
     "execution_count": 9,
     "metadata": {},
     "output_type": "execute_result"
    }
   ],
   "source": [
    "query = f'''\n",
    "SELECT * FROM {dataset_id}.important_fields\n",
    "'''\n",
    "query_job = bq_client.query(query)\n",
    "query_job.to_dataframe()"
   ]
  },
  {
   "cell_type": "markdown",
   "id": "08fbb4d4-153f-40b8-92b7-0813f3f8fe1f",
   "metadata": {
    "id": "5f03b43de905"
   },
   "source": [
    "**Convert the `transaction_timestamp` field into a date.**"
   ]
  },
  {
   "cell_type": "code",
   "execution_count": 10,
   "id": "111063dd-620a-4bac-b8f7-6b1662bbaa8b",
   "metadata": {
    "id": "DGq3a0aUp94C"
   },
   "outputs": [
    {
     "name": "stdout",
     "output_type": "stream",
     "text": [
      "<google.cloud.bigquery.table._EmptyRowIterator object at 0x7fe82c2ac710>\n"
     ]
    }
   ],
   "source": [
    "query = f'''\n",
    "CREATE OR REPLACE VIEW {dataset_id}.data_after_converting_timestamp_to_date AS\n",
    "(\n",
    "    SELECT EXTRACT(DATE FROM transaction_timestamp AT TIME ZONE \"UTC\") AS date,line_items from {dataset_id}.important_fields\n",
    ")   \n",
    "'''\n",
    "query_job = bq_client.query(query)\n",
    "print(query_job.result())"
   ]
  },
  {
   "cell_type": "markdown",
   "id": "7c4f4612-e9f3-4f92-9869-9d4d06475424",
   "metadata": {
    "id": "f0babc4a23fa"
   },
   "source": [
    "**View the data and check the `date` field values.**"
   ]
  },
  {
   "cell_type": "code",
   "execution_count": 11,
   "id": "7dc8e1b8-d004-4fab-a1d0-bf853a8de92e",
   "metadata": {
    "id": "_1mz0KD1p94C"
   },
   "outputs": [
    {
     "data": {
      "text/html": [
       "<div>\n",
       "<style scoped>\n",
       "    .dataframe tbody tr th:only-of-type {\n",
       "        vertical-align: middle;\n",
       "    }\n",
       "\n",
       "    .dataframe tbody tr th {\n",
       "        vertical-align: top;\n",
       "    }\n",
       "\n",
       "    .dataframe thead th {\n",
       "        text-align: right;\n",
       "    }\n",
       "</style>\n",
       "<table border=\"1\" class=\"dataframe\">\n",
       "  <thead>\n",
       "    <tr style=\"text-align: right;\">\n",
       "      <th></th>\n",
       "      <th>date</th>\n",
       "      <th>line_items</th>\n",
       "    </tr>\n",
       "  </thead>\n",
       "  <tbody>\n",
       "    <tr>\n",
       "      <th>0</th>\n",
       "      <td>2021-08-25</td>\n",
       "      <td>[{'product_id': 811, 'sale_price': 13.98999977...</td>\n",
       "    </tr>\n",
       "    <tr>\n",
       "      <th>1</th>\n",
       "      <td>2021-08-25</td>\n",
       "      <td>[{'product_id': 13602, 'sale_price': 7.8499999...</td>\n",
       "    </tr>\n",
       "    <tr>\n",
       "      <th>2</th>\n",
       "      <td>2021-08-25</td>\n",
       "      <td>[{'product_id': 22708, 'sale_price': 27.989999...</td>\n",
       "    </tr>\n",
       "    <tr>\n",
       "      <th>3</th>\n",
       "      <td>2021-08-25</td>\n",
       "      <td>[{'product_id': 19338, 'sale_price': 56.0, 'gr...</td>\n",
       "    </tr>\n",
       "    <tr>\n",
       "      <th>4</th>\n",
       "      <td>2021-08-25</td>\n",
       "      <td>[{'product_id': 28818, 'sale_price': 39.950000...</td>\n",
       "    </tr>\n",
       "    <tr>\n",
       "      <th>...</th>\n",
       "      <td>...</td>\n",
       "      <td>...</td>\n",
       "    </tr>\n",
       "    <tr>\n",
       "      <th>29668</th>\n",
       "      <td>2022-01-04</td>\n",
       "      <td>[{'product_id': 28302, 'sale_price': 6.0700001...</td>\n",
       "    </tr>\n",
       "    <tr>\n",
       "      <th>29669</th>\n",
       "      <td>2022-01-06</td>\n",
       "      <td>[{'product_id': 28302, 'sale_price': 6.0700001...</td>\n",
       "    </tr>\n",
       "    <tr>\n",
       "      <th>29670</th>\n",
       "      <td>2022-02-12</td>\n",
       "      <td>[{'product_id': 28302, 'sale_price': 6.0700001...</td>\n",
       "    </tr>\n",
       "    <tr>\n",
       "      <th>29671</th>\n",
       "      <td>2022-01-08</td>\n",
       "      <td>[{'product_id': 28302, 'sale_price': 6.0700001...</td>\n",
       "    </tr>\n",
       "    <tr>\n",
       "      <th>29672</th>\n",
       "      <td>2018-11-30</td>\n",
       "      <td>[{'product_id': 28302, 'sale_price': 6.0700001...</td>\n",
       "    </tr>\n",
       "  </tbody>\n",
       "</table>\n",
       "<p>29673 rows × 2 columns</p>\n",
       "</div>"
      ],
      "text/plain": [
       "             date                                         line_items\n",
       "0      2021-08-25  [{'product_id': 811, 'sale_price': 13.98999977...\n",
       "1      2021-08-25  [{'product_id': 13602, 'sale_price': 7.8499999...\n",
       "2      2021-08-25  [{'product_id': 22708, 'sale_price': 27.989999...\n",
       "3      2021-08-25  [{'product_id': 19338, 'sale_price': 56.0, 'gr...\n",
       "4      2021-08-25  [{'product_id': 28818, 'sale_price': 39.950000...\n",
       "...           ...                                                ...\n",
       "29668  2022-01-04  [{'product_id': 28302, 'sale_price': 6.0700001...\n",
       "29669  2022-01-06  [{'product_id': 28302, 'sale_price': 6.0700001...\n",
       "29670  2022-02-12  [{'product_id': 28302, 'sale_price': 6.0700001...\n",
       "29671  2022-01-08  [{'product_id': 28302, 'sale_price': 6.0700001...\n",
       "29672  2018-11-30  [{'product_id': 28302, 'sale_price': 6.0700001...\n",
       "\n",
       "[29673 rows x 2 columns]"
      ]
     },
     "execution_count": 11,
     "metadata": {},
     "output_type": "execute_result"
    }
   ],
   "source": [
    "query = f'''\n",
    "SELECT * FROM {dataset_id}.data_after_converting_timestamp_to_date\n",
    "'''\n",
    "query_job = bq_client.query(query)\n",
    "query_job.to_dataframe()"
   ]
  },
  {
   "cell_type": "markdown",
   "id": "846497e0-8e90-49b6-8989-5b175f15d7a5",
   "metadata": {
    "id": "990d04eab2e1"
   },
   "source": [
    "**Load the data into a dataframe.**"
   ]
  },
  {
   "cell_type": "code",
   "execution_count": 12,
   "id": "0f58ca01-0ae9-482a-8886-f3553a3fb272",
   "metadata": {
    "id": "2d3a85f95f9d"
   },
   "outputs": [],
   "source": [
    "df_intermediary = query_job.to_dataframe()"
   ]
  },
  {
   "cell_type": "markdown",
   "id": "e166453e-7209-42dd-b689-d3d199d34858",
   "metadata": {
    "id": "f25cf5322fbc"
   },
   "source": [
    "**Check the data types of your dataframe's fields.**"
   ]
  },
  {
   "cell_type": "code",
   "execution_count": 13,
   "id": "a6948de2-1866-4e44-9e22-7b8674d29130",
   "metadata": {
    "id": "40a78a81c379"
   },
   "outputs": [
    {
     "data": {
      "text/plain": [
       "date          dbdate\n",
       "line_items    object\n",
       "dtype: object"
      ]
     },
     "execution_count": 13,
     "metadata": {},
     "output_type": "execute_result"
    }
   ],
   "source": [
    "df_intermediary.dtypes"
   ]
  },
  {
   "cell_type": "markdown",
   "id": "13fd6bfd-60e7-4bf7-98bb-017958e3164e",
   "metadata": {
    "id": "f2f685f15000"
   },
   "source": [
    "The `line_items` field is an array of structs. Split the array into its component parts, `product_id`, `sale_price`, and `gross_margin`."
   ]
  },
  {
   "cell_type": "code",
   "execution_count": 14,
   "id": "a0fcdb2f-be7c-4daa-8378-022e1c617861",
   "metadata": {
    "id": "33zixGvkp94E"
   },
   "outputs": [
    {
     "name": "stdout",
     "output_type": "stream",
     "text": [
      "<google.cloud.bigquery.table._EmptyRowIterator object at 0x7fe82c208a10>\n"
     ]
    }
   ],
   "source": [
    "query = f'''\n",
    "CREATE OR REPLACE VIEW {dataset_id}.split_array_of_structs AS\n",
    " \n",
    "(SELECT date,line_items\n",
    "FROM {dataset_id}.data_after_converting_timestamp_to_date, UNNEST(line_items) AS line_items)\n",
    "'''\n",
    "query_job = bq_client.query(query)\n",
    "print(query_job.result())"
   ]
  },
  {
   "cell_type": "markdown",
   "id": "5f2aeba2-f24d-45ef-a914-c7806f6441fd",
   "metadata": {
    "id": "6c677762b34a"
   },
   "source": [
    "**View the data.**"
   ]
  },
  {
   "cell_type": "code",
   "execution_count": 15,
   "id": "d59c479f-9061-4bfe-ab86-5df09adc27f3",
   "metadata": {
    "id": "wRmYwn7Vp94F"
   },
   "outputs": [
    {
     "data": {
      "text/html": [
       "<div>\n",
       "<style scoped>\n",
       "    .dataframe tbody tr th:only-of-type {\n",
       "        vertical-align: middle;\n",
       "    }\n",
       "\n",
       "    .dataframe tbody tr th {\n",
       "        vertical-align: top;\n",
       "    }\n",
       "\n",
       "    .dataframe thead th {\n",
       "        text-align: right;\n",
       "    }\n",
       "</style>\n",
       "<table border=\"1\" class=\"dataframe\">\n",
       "  <thead>\n",
       "    <tr style=\"text-align: right;\">\n",
       "      <th></th>\n",
       "      <th>date</th>\n",
       "      <th>line_items</th>\n",
       "    </tr>\n",
       "  </thead>\n",
       "  <tbody>\n",
       "    <tr>\n",
       "      <th>0</th>\n",
       "      <td>2020-04-22</td>\n",
       "      <td>{'product_id': 15287, 'sale_price': 31.0, 'gro...</td>\n",
       "    </tr>\n",
       "    <tr>\n",
       "      <th>1</th>\n",
       "      <td>2020-04-22</td>\n",
       "      <td>{'product_id': 211, 'sale_price': 31.979999542...</td>\n",
       "    </tr>\n",
       "    <tr>\n",
       "      <th>2</th>\n",
       "      <td>2020-04-22</td>\n",
       "      <td>{'product_id': 20547, 'sale_price': 68.0, 'gro...</td>\n",
       "    </tr>\n",
       "    <tr>\n",
       "      <th>3</th>\n",
       "      <td>2020-04-22</td>\n",
       "      <td>{'product_id': 28329, 'sale_price': 8.98999977...</td>\n",
       "    </tr>\n",
       "    <tr>\n",
       "      <th>4</th>\n",
       "      <td>2020-04-22</td>\n",
       "      <td>{'product_id': 28305, 'sale_price': 75.1100006...</td>\n",
       "    </tr>\n",
       "    <tr>\n",
       "      <th>...</th>\n",
       "      <td>...</td>\n",
       "      <td>...</td>\n",
       "    </tr>\n",
       "    <tr>\n",
       "      <th>30690</th>\n",
       "      <td>2020-10-31</td>\n",
       "      <td>{'product_id': 28305, 'sale_price': 75.1100006...</td>\n",
       "    </tr>\n",
       "    <tr>\n",
       "      <th>30691</th>\n",
       "      <td>2020-10-31</td>\n",
       "      <td>{'product_id': 17102, 'sale_price': 59.9500007...</td>\n",
       "    </tr>\n",
       "    <tr>\n",
       "      <th>30692</th>\n",
       "      <td>2020-10-31</td>\n",
       "      <td>{'product_id': 21832, 'sale_price': 49.9900016...</td>\n",
       "    </tr>\n",
       "    <tr>\n",
       "      <th>30693</th>\n",
       "      <td>2020-10-31</td>\n",
       "      <td>{'product_id': 1297, 'sale_price': 86.61000061...</td>\n",
       "    </tr>\n",
       "    <tr>\n",
       "      <th>30694</th>\n",
       "      <td>2020-10-31</td>\n",
       "      <td>{'product_id': 4321, 'sale_price': 31.75, 'gro...</td>\n",
       "    </tr>\n",
       "  </tbody>\n",
       "</table>\n",
       "<p>30695 rows × 2 columns</p>\n",
       "</div>"
      ],
      "text/plain": [
       "             date                                         line_items\n",
       "0      2020-04-22  {'product_id': 15287, 'sale_price': 31.0, 'gro...\n",
       "1      2020-04-22  {'product_id': 211, 'sale_price': 31.979999542...\n",
       "2      2020-04-22  {'product_id': 20547, 'sale_price': 68.0, 'gro...\n",
       "3      2020-04-22  {'product_id': 28329, 'sale_price': 8.98999977...\n",
       "4      2020-04-22  {'product_id': 28305, 'sale_price': 75.1100006...\n",
       "...           ...                                                ...\n",
       "30690  2020-10-31  {'product_id': 28305, 'sale_price': 75.1100006...\n",
       "30691  2020-10-31  {'product_id': 17102, 'sale_price': 59.9500007...\n",
       "30692  2020-10-31  {'product_id': 21832, 'sale_price': 49.9900016...\n",
       "30693  2020-10-31  {'product_id': 1297, 'sale_price': 86.61000061...\n",
       "30694  2020-10-31  {'product_id': 4321, 'sale_price': 31.75, 'gro...\n",
       "\n",
       "[30695 rows x 2 columns]"
      ]
     },
     "execution_count": 15,
     "metadata": {},
     "output_type": "execute_result"
    }
   ],
   "source": [
    "query = f'''\n",
    "SELECT * FROM {dataset_id}.split_array_of_structs\n",
    "'''\n",
    "query_job = bq_client.query(query)\n",
    "query_job.to_dataframe()"
   ]
  },
  {
   "cell_type": "markdown",
   "id": "ededdfd4-327a-4911-ab8d-1e44654f0cfe",
   "metadata": {
    "id": "7acc57476f1c"
   },
   "source": [
    "**Remove the extra columns to keep only `date` and `product_id`.**"
   ]
  },
  {
   "cell_type": "code",
   "execution_count": 16,
   "id": "7ed79b41-b51e-4c66-899a-da8232be5c4c",
   "metadata": {
    "id": "2UamlX9Np94F"
   },
   "outputs": [
    {
     "name": "stdout",
     "output_type": "stream",
     "text": [
      "<google.cloud.bigquery.table._EmptyRowIterator object at 0x7fe827d3d950>\n"
     ]
    }
   ],
   "source": [
    "query = f'''\n",
    "CREATE OR REPLACE VIEW {dataset_id}.splitting_struct_columns AS\n",
    " \n",
    "(SELECT date,line_items.product_id as product_id\n",
    "FROM {dataset_id}.split_array_of_structs)\n",
    "'''\n",
    "query_job = bq_client.query(query)\n",
    "print(query_job.result())"
   ]
  },
  {
   "cell_type": "markdown",
   "id": "b8baea78-f537-43f0-b47e-d2f3a1eecc7e",
   "metadata": {
    "id": "4f9d72c483e8"
   },
   "source": [
    "**View the data.**"
   ]
  },
  {
   "cell_type": "code",
   "execution_count": 17,
   "id": "e255e14d-cb09-4f87-a165-cd021ec1742c",
   "metadata": {
    "id": "Bnv0lr4-p94G"
   },
   "outputs": [
    {
     "data": {
      "text/html": [
       "<div>\n",
       "<style scoped>\n",
       "    .dataframe tbody tr th:only-of-type {\n",
       "        vertical-align: middle;\n",
       "    }\n",
       "\n",
       "    .dataframe tbody tr th {\n",
       "        vertical-align: top;\n",
       "    }\n",
       "\n",
       "    .dataframe thead th {\n",
       "        text-align: right;\n",
       "    }\n",
       "</style>\n",
       "<table border=\"1\" class=\"dataframe\">\n",
       "  <thead>\n",
       "    <tr style=\"text-align: right;\">\n",
       "      <th></th>\n",
       "      <th>date</th>\n",
       "      <th>product_id</th>\n",
       "    </tr>\n",
       "  </thead>\n",
       "  <tbody>\n",
       "    <tr>\n",
       "      <th>0</th>\n",
       "      <td>2023-04-17</td>\n",
       "      <td>2482</td>\n",
       "    </tr>\n",
       "    <tr>\n",
       "      <th>1</th>\n",
       "      <td>2023-04-17</td>\n",
       "      <td>22822</td>\n",
       "    </tr>\n",
       "    <tr>\n",
       "      <th>2</th>\n",
       "      <td>2023-04-17</td>\n",
       "      <td>174</td>\n",
       "    </tr>\n",
       "    <tr>\n",
       "      <th>3</th>\n",
       "      <td>2023-04-17</td>\n",
       "      <td>20547</td>\n",
       "    </tr>\n",
       "    <tr>\n",
       "      <th>4</th>\n",
       "      <td>2023-04-17</td>\n",
       "      <td>27417</td>\n",
       "    </tr>\n",
       "    <tr>\n",
       "      <th>...</th>\n",
       "      <td>...</td>\n",
       "      <td>...</td>\n",
       "    </tr>\n",
       "    <tr>\n",
       "      <th>30690</th>\n",
       "      <td>2021-10-11</td>\n",
       "      <td>147</td>\n",
       "    </tr>\n",
       "    <tr>\n",
       "      <th>30691</th>\n",
       "      <td>2021-10-11</td>\n",
       "      <td>17279</td>\n",
       "    </tr>\n",
       "    <tr>\n",
       "      <th>30692</th>\n",
       "      <td>2021-10-11</td>\n",
       "      <td>10340</td>\n",
       "    </tr>\n",
       "    <tr>\n",
       "      <th>30693</th>\n",
       "      <td>2021-10-11</td>\n",
       "      <td>16119</td>\n",
       "    </tr>\n",
       "    <tr>\n",
       "      <th>30694</th>\n",
       "      <td>2021-10-11</td>\n",
       "      <td>16513</td>\n",
       "    </tr>\n",
       "  </tbody>\n",
       "</table>\n",
       "<p>30695 rows × 2 columns</p>\n",
       "</div>"
      ],
      "text/plain": [
       "             date  product_id\n",
       "0      2023-04-17        2482\n",
       "1      2023-04-17       22822\n",
       "2      2023-04-17         174\n",
       "3      2023-04-17       20547\n",
       "4      2023-04-17       27417\n",
       "...           ...         ...\n",
       "30690  2021-10-11         147\n",
       "30691  2021-10-11       17279\n",
       "30692  2021-10-11       10340\n",
       "30693  2021-10-11       16119\n",
       "30694  2021-10-11       16513\n",
       "\n",
       "[30695 rows x 2 columns]"
      ]
     },
     "execution_count": 17,
     "metadata": {},
     "output_type": "execute_result"
    }
   ],
   "source": [
    "query = f'''\n",
    "SELECT * FROM {dataset_id}.splitting_struct_columns \n",
    "'''\n",
    "query_job = bq_client.query(query)\n",
    "query_job.to_dataframe()"
   ]
  },
  {
   "cell_type": "markdown",
   "id": "5e31d188-60d8-49d0-a9f2-0f2409a014dc",
   "metadata": {
    "id": "7c0c4245acb7"
   },
   "source": [
    "**Count the sales of a product for each date.**"
   ]
  },
  {
   "cell_type": "code",
   "execution_count": 18,
   "id": "1f51e6c0-6761-467e-a11f-67949798adce",
   "metadata": {
    "id": "MBeBKffvp94G"
   },
   "outputs": [
    {
     "name": "stdout",
     "output_type": "stream",
     "text": [
      "<google.cloud.bigquery.table._EmptyRowIterator object at 0x7fe89103d190>\n"
     ]
    }
   ],
   "source": [
    "query = f'''\n",
    "CREATE OR REPLACE VIEW {dataset_id}.sales_count_per_date AS\n",
    " \n",
    "(SELECT date,product_id,COUNT(*) as sales_count\n",
    "FROM {dataset_id}.splitting_struct_columns GROUP BY date,product_id)\n",
    "'''\n",
    "query_job = bq_client.query(query)\n",
    "print(query_job.result())"
   ]
  },
  {
   "cell_type": "code",
   "execution_count": 19,
   "id": "c3127a81-dd6b-46c1-9fd5-6ea0387bc0b3",
   "metadata": {
    "id": "oN-5H8w3p94H"
   },
   "outputs": [
    {
     "data": {
      "text/html": [
       "<div>\n",
       "<style scoped>\n",
       "    .dataframe tbody tr th:only-of-type {\n",
       "        vertical-align: middle;\n",
       "    }\n",
       "\n",
       "    .dataframe tbody tr th {\n",
       "        vertical-align: top;\n",
       "    }\n",
       "\n",
       "    .dataframe thead th {\n",
       "        text-align: right;\n",
       "    }\n",
       "</style>\n",
       "<table border=\"1\" class=\"dataframe\">\n",
       "  <thead>\n",
       "    <tr style=\"text-align: right;\">\n",
       "      <th></th>\n",
       "      <th>date</th>\n",
       "      <th>product_id</th>\n",
       "      <th>sales_count</th>\n",
       "    </tr>\n",
       "  </thead>\n",
       "  <tbody>\n",
       "    <tr>\n",
       "      <th>0</th>\n",
       "      <td>2019-10-31</td>\n",
       "      <td>19855</td>\n",
       "      <td>1</td>\n",
       "    </tr>\n",
       "    <tr>\n",
       "      <th>1</th>\n",
       "      <td>2023-01-15</td>\n",
       "      <td>18052</td>\n",
       "      <td>1</td>\n",
       "    </tr>\n",
       "    <tr>\n",
       "      <th>2</th>\n",
       "      <td>2023-05-04</td>\n",
       "      <td>7110</td>\n",
       "      <td>1</td>\n",
       "    </tr>\n",
       "    <tr>\n",
       "      <th>3</th>\n",
       "      <td>2021-07-22</td>\n",
       "      <td>27461</td>\n",
       "      <td>1</td>\n",
       "    </tr>\n",
       "    <tr>\n",
       "      <th>4</th>\n",
       "      <td>2023-01-17</td>\n",
       "      <td>24482</td>\n",
       "      <td>1</td>\n",
       "    </tr>\n",
       "    <tr>\n",
       "      <th>...</th>\n",
       "      <td>...</td>\n",
       "      <td>...</td>\n",
       "      <td>...</td>\n",
       "    </tr>\n",
       "    <tr>\n",
       "      <th>29499</th>\n",
       "      <td>2020-07-26</td>\n",
       "      <td>21659</td>\n",
       "      <td>1</td>\n",
       "    </tr>\n",
       "    <tr>\n",
       "      <th>29500</th>\n",
       "      <td>2022-03-20</td>\n",
       "      <td>28304</td>\n",
       "      <td>1</td>\n",
       "    </tr>\n",
       "    <tr>\n",
       "      <th>29501</th>\n",
       "      <td>2022-02-18</td>\n",
       "      <td>19804</td>\n",
       "      <td>1</td>\n",
       "    </tr>\n",
       "    <tr>\n",
       "      <th>29502</th>\n",
       "      <td>2020-11-23</td>\n",
       "      <td>141</td>\n",
       "      <td>1</td>\n",
       "    </tr>\n",
       "    <tr>\n",
       "      <th>29503</th>\n",
       "      <td>2020-10-14</td>\n",
       "      <td>16258</td>\n",
       "      <td>1</td>\n",
       "    </tr>\n",
       "  </tbody>\n",
       "</table>\n",
       "<p>29504 rows × 3 columns</p>\n",
       "</div>"
      ],
      "text/plain": [
       "             date  product_id  sales_count\n",
       "0      2019-10-31       19855            1\n",
       "1      2023-01-15       18052            1\n",
       "2      2023-05-04        7110            1\n",
       "3      2021-07-22       27461            1\n",
       "4      2023-01-17       24482            1\n",
       "...           ...         ...          ...\n",
       "29499  2020-07-26       21659            1\n",
       "29500  2022-03-20       28304            1\n",
       "29501  2022-02-18       19804            1\n",
       "29502  2020-11-23         141            1\n",
       "29503  2020-10-14       16258            1\n",
       "\n",
       "[29504 rows x 3 columns]"
      ]
     },
     "execution_count": 19,
     "metadata": {},
     "output_type": "execute_result"
    }
   ],
   "source": [
    "query = f'''\n",
    "SELECT * FROM {dataset_id}.sales_count_per_date\n",
    "'''\n",
    "query_job = bq_client.query(query)\n",
    "query_job.to_dataframe()"
   ]
  },
  {
   "cell_type": "markdown",
   "id": "f1391da9-d032-449f-8968-5b280083f6a2",
   "metadata": {
    "id": "722fd013c28c"
   },
   "source": [
    "**Create a view for the five products that have sold the most units over the entire date range.**"
   ]
  },
  {
   "cell_type": "code",
   "execution_count": 20,
   "id": "c6a92d78-8ee4-48d9-99dd-9650636f94b9",
   "metadata": {
    "id": "KgRwHUjrp94H"
   },
   "outputs": [
    {
     "name": "stdout",
     "output_type": "stream",
     "text": [
      "<google.cloud.bigquery.table._EmptyRowIterator object at 0x7fe8806cb590>\n"
     ]
    }
   ],
   "source": [
    "query = f'''\n",
    "CREATE OR REPLACE VIEW {dataset_id}.top_five_products AS (\n",
    "    WITH topsellingitems AS(\n",
    "         SELECT \n",
    "            product_id,\n",
    "            sum(sales_count) sum_sales\n",
    "        FROM\n",
    "            `{dataset_id}.sales_count_per_date` \n",
    "        GROUP BY \n",
    "            product_id\n",
    "        ORDER BY sum_sales DESC\n",
    "        LIMIT 5 #Top N\n",
    "    )\n",
    "    SELECT \n",
    "        date,\n",
    "        product_id,\n",
    "        sales_count\n",
    "    FROM\n",
    "        `{dataset_id}.sales_count_per_date` \n",
    "    WHERE\n",
    "        product_id IN (SELECT product_id FROM topsellingitems)\n",
    "    )\n",
    "'''\n",
    "query_job = bq_client.query(query)\n",
    "print(query_job.result())"
   ]
  },
  {
   "cell_type": "code",
   "execution_count": 21,
   "id": "582e79e3-638e-4369-86d6-9af60ee93d80",
   "metadata": {
    "id": "BXochSk_p94I"
   },
   "outputs": [
    {
     "data": {
      "text/html": [
       "<div>\n",
       "<style scoped>\n",
       "    .dataframe tbody tr th:only-of-type {\n",
       "        vertical-align: middle;\n",
       "    }\n",
       "\n",
       "    .dataframe tbody tr th {\n",
       "        vertical-align: top;\n",
       "    }\n",
       "\n",
       "    .dataframe thead th {\n",
       "        text-align: right;\n",
       "    }\n",
       "</style>\n",
       "<table border=\"1\" class=\"dataframe\">\n",
       "  <thead>\n",
       "    <tr style=\"text-align: right;\">\n",
       "      <th></th>\n",
       "      <th>date</th>\n",
       "      <th>product_id</th>\n",
       "      <th>sales_count</th>\n",
       "    </tr>\n",
       "  </thead>\n",
       "  <tbody>\n",
       "    <tr>\n",
       "      <th>0</th>\n",
       "      <td>2021-12-25</td>\n",
       "      <td>20547</td>\n",
       "      <td>2</td>\n",
       "    </tr>\n",
       "    <tr>\n",
       "      <th>1</th>\n",
       "      <td>2021-06-10</td>\n",
       "      <td>23641</td>\n",
       "      <td>1</td>\n",
       "    </tr>\n",
       "    <tr>\n",
       "      <th>2</th>\n",
       "      <td>2022-12-01</td>\n",
       "      <td>28305</td>\n",
       "      <td>3</td>\n",
       "    </tr>\n",
       "    <tr>\n",
       "      <th>3</th>\n",
       "      <td>2020-11-26</td>\n",
       "      <td>13596</td>\n",
       "      <td>2</td>\n",
       "    </tr>\n",
       "    <tr>\n",
       "      <th>4</th>\n",
       "      <td>2022-10-03</td>\n",
       "      <td>23641</td>\n",
       "      <td>1</td>\n",
       "    </tr>\n",
       "    <tr>\n",
       "      <th>...</th>\n",
       "      <td>...</td>\n",
       "      <td>...</td>\n",
       "      <td>...</td>\n",
       "    </tr>\n",
       "    <tr>\n",
       "      <th>2492</th>\n",
       "      <td>2020-12-08</td>\n",
       "      <td>20552</td>\n",
       "      <td>2</td>\n",
       "    </tr>\n",
       "    <tr>\n",
       "      <th>2493</th>\n",
       "      <td>2022-06-16</td>\n",
       "      <td>13596</td>\n",
       "      <td>1</td>\n",
       "    </tr>\n",
       "    <tr>\n",
       "      <th>2494</th>\n",
       "      <td>2019-07-17</td>\n",
       "      <td>23641</td>\n",
       "      <td>1</td>\n",
       "    </tr>\n",
       "    <tr>\n",
       "      <th>2495</th>\n",
       "      <td>2022-03-31</td>\n",
       "      <td>20552</td>\n",
       "      <td>2</td>\n",
       "    </tr>\n",
       "    <tr>\n",
       "      <th>2496</th>\n",
       "      <td>2022-01-11</td>\n",
       "      <td>20552</td>\n",
       "      <td>1</td>\n",
       "    </tr>\n",
       "  </tbody>\n",
       "</table>\n",
       "<p>2497 rows × 3 columns</p>\n",
       "</div>"
      ],
      "text/plain": [
       "            date  product_id  sales_count\n",
       "0     2021-12-25       20547            2\n",
       "1     2021-06-10       23641            1\n",
       "2     2022-12-01       28305            3\n",
       "3     2020-11-26       13596            2\n",
       "4     2022-10-03       23641            1\n",
       "...          ...         ...          ...\n",
       "2492  2020-12-08       20552            2\n",
       "2493  2022-06-16       13596            1\n",
       "2494  2019-07-17       23641            1\n",
       "2495  2022-03-31       20552            2\n",
       "2496  2022-01-11       20552            1\n",
       "\n",
       "[2497 rows x 3 columns]"
      ]
     },
     "execution_count": 21,
     "metadata": {},
     "output_type": "execute_result"
    }
   ],
   "source": [
    "query = f'''\n",
    "SELECT * FROM {dataset_id}.top_five_products\n",
    "'''\n",
    "query_job = bq_client.query(query)\n",
    "query_job.to_dataframe()"
   ]
  },
  {
   "cell_type": "markdown",
   "id": "9817c864-2435-436c-a447-3485d5e6e06c",
   "metadata": {
    "id": "292855967806"
   },
   "source": [
    "**Load the data into a dataframe and view the data.**"
   ]
  },
  {
   "cell_type": "code",
   "execution_count": 22,
   "id": "319cf403-39a2-4954-aff0-42cd5a2d2cee",
   "metadata": {
    "id": "495c76e598a6"
   },
   "outputs": [
    {
     "name": "stdout",
     "output_type": "stream",
     "text": [
      "            date  product_id  sales_count\n",
      "0     2021-12-25       20547            2\n",
      "1     2021-06-10       23641            1\n",
      "2     2022-12-01       28305            3\n",
      "3     2020-11-26       13596            2\n",
      "4     2022-10-03       23641            1\n",
      "...          ...         ...          ...\n",
      "2492  2020-12-08       20552            2\n",
      "2493  2022-06-16       13596            1\n",
      "2494  2019-07-17       23641            1\n",
      "2495  2022-03-31       20552            2\n",
      "2496  2022-01-11       20552            1\n",
      "\n",
      "[2497 rows x 3 columns]\n"
     ]
    }
   ],
   "source": [
    "df = query_job.to_dataframe()\n",
    "print(df)"
   ]
  },
  {
   "cell_type": "markdown",
   "id": "a21b2e32-5bc2-4a38-a7f0-7d9c79da2e8e",
   "metadata": {
    "id": "5c78641e2881"
   },
   "source": [
    "**Check the data types of your dataframe's fields.**"
   ]
  },
  {
   "cell_type": "code",
   "execution_count": 23,
   "id": "cdc92f37-352e-4f7b-9a34-b8050c1b2564",
   "metadata": {
    "id": "bb63bbdcead4"
   },
   "outputs": [
    {
     "data": {
      "text/plain": [
       "date           dbdate\n",
       "product_id      Int64\n",
       "sales_count     Int64\n",
       "dtype: object"
      ]
     },
     "execution_count": 23,
     "metadata": {},
     "output_type": "execute_result"
    }
   ],
   "source": [
    "df.dtypes"
   ]
  },
  {
   "cell_type": "markdown",
   "id": "65db3785-f7a6-49c2-803a-965776479327",
   "metadata": {
    "id": "ef761dcd0109"
   },
   "source": [
    "**Convert the `date` field's data type to `datetime`.**"
   ]
  },
  {
   "cell_type": "code",
   "execution_count": 24,
   "id": "ce2c59b1-2626-4fdf-b61e-f7448b691eaa",
   "metadata": {
    "id": "0534d564d09e"
   },
   "outputs": [],
   "source": [
    "df['date'] = pd.to_datetime(df['date'], format='%Y-%m-%d')"
   ]
  },
  {
   "cell_type": "markdown",
   "id": "28d67608-05d3-4cb1-b80f-0db924914733",
   "metadata": {
    "id": "8ec5fa4b1ea0"
   },
   "source": [
    "For this forecasting model, date values need to be present for all dates, for each product.\n",
    "\n",
    "To construct a dataframe with `0` values for the `sales_count` field, on dates in which products were not sold, determine the minimum and maximum dates so that you know which dates need `0` values.\n",
    "\n",
    "**First, get the earliest (minimum) date.**"
   ]
  },
  {
   "cell_type": "code",
   "execution_count": 25,
   "id": "6a3563b2-363d-4db8-9309-2875d93043fb",
   "metadata": {
    "id": "iCCEozWrp94K"
   },
   "outputs": [
    {
     "data": {
      "text/html": [
       "<div>\n",
       "<style scoped>\n",
       "    .dataframe tbody tr th:only-of-type {\n",
       "        vertical-align: middle;\n",
       "    }\n",
       "\n",
       "    .dataframe tbody tr th {\n",
       "        vertical-align: top;\n",
       "    }\n",
       "\n",
       "    .dataframe thead th {\n",
       "        text-align: right;\n",
       "    }\n",
       "</style>\n",
       "<table border=\"1\" class=\"dataframe\">\n",
       "  <thead>\n",
       "    <tr style=\"text-align: right;\">\n",
       "      <th></th>\n",
       "      <th>min_date</th>\n",
       "    </tr>\n",
       "  </thead>\n",
       "  <tbody>\n",
       "    <tr>\n",
       "      <th>0</th>\n",
       "      <td>2018-08-21</td>\n",
       "    </tr>\n",
       "  </tbody>\n",
       "</table>\n",
       "</div>"
      ],
      "text/plain": [
       "     min_date\n",
       "0  2018-08-21"
      ]
     },
     "execution_count": 25,
     "metadata": {},
     "output_type": "execute_result"
    }
   ],
   "source": [
    "query = f'''\n",
    "SELECT MIN(DATE) AS min_date FROM {dataset_id}.top_five_products\n",
    "'''\n",
    "query_job = bq_client.query(query)\n",
    "min_date = query_job.to_dataframe()\n",
    "min_date"
   ]
  },
  {
   "cell_type": "markdown",
   "id": "27eccb52-940d-4f85-a568-aadbd7f4e397",
   "metadata": {
    "id": "fbb934199011"
   },
   "source": [
    "**Get the latest (maximum) date.**"
   ]
  },
  {
   "cell_type": "code",
   "execution_count": 26,
   "id": "622ce17d-38ee-4caf-b76f-b6295467f95b",
   "metadata": {
    "id": "uIJX3B8dp94K"
   },
   "outputs": [
    {
     "data": {
      "text/html": [
       "<div>\n",
       "<style scoped>\n",
       "    .dataframe tbody tr th:only-of-type {\n",
       "        vertical-align: middle;\n",
       "    }\n",
       "\n",
       "    .dataframe tbody tr th {\n",
       "        vertical-align: top;\n",
       "    }\n",
       "\n",
       "    .dataframe thead th {\n",
       "        text-align: right;\n",
       "    }\n",
       "</style>\n",
       "<table border=\"1\" class=\"dataframe\">\n",
       "  <thead>\n",
       "    <tr style=\"text-align: right;\">\n",
       "      <th></th>\n",
       "      <th>max_date</th>\n",
       "    </tr>\n",
       "  </thead>\n",
       "  <tbody>\n",
       "    <tr>\n",
       "      <th>0</th>\n",
       "      <td>2023-06-13</td>\n",
       "    </tr>\n",
       "  </tbody>\n",
       "</table>\n",
       "</div>"
      ],
      "text/plain": [
       "     max_date\n",
       "0  2023-06-13"
      ]
     },
     "execution_count": 26,
     "metadata": {},
     "output_type": "execute_result"
    }
   ],
   "source": [
    "query = f'''\n",
    "SELECT MAX(DATE) AS max_date FROM {dataset_id}.top_five_products\n",
    "'''\n",
    "query_job = bq_client.query(query)\n",
    "max_date = query_job.to_dataframe()\n",
    "max_date"
   ]
  },
  {
   "cell_type": "markdown",
   "id": "537e27f6-c537-48a2-8071-468031727a3f",
   "metadata": {
    "id": "247a08d866ef"
   },
   "source": [
    "**Add the full date range of values to a dataframe.**"
   ]
  },
  {
   "cell_type": "code",
   "execution_count": 27,
   "id": "218bcc19-f9f7-4fb3-8551-6db1d9856608",
   "metadata": {
    "id": "d41c099464ac"
   },
   "outputs": [],
   "source": [
    "dates = pd.date_range(start=str(min_date.values[0][0]), end=str(max_date.values[0][0])).to_frame()"
   ]
  },
  {
   "cell_type": "markdown",
   "id": "85e151f7-3871-4943-87d0-993564f573d7",
   "metadata": {
    "id": "b9d3afc9f7cd"
   },
   "source": [
    "**Get a description of the `dates` dataframe.**"
   ]
  },
  {
   "cell_type": "code",
   "execution_count": 28,
   "id": "8d699dce-d149-4a20-9a77-8f92207ae57e",
   "metadata": {
    "id": "1b1f67e375fc"
   },
   "outputs": [
    {
     "name": "stdout",
     "output_type": "stream",
     "text": [
      "<class 'pandas.core.frame.DataFrame'>\n",
      "DatetimeIndex: 1758 entries, 2018-08-21 to 2023-06-13\n",
      "Freq: D\n",
      "Data columns (total 1 columns):\n",
      " #   Column  Non-Null Count  Dtype         \n",
      "---  ------  --------------  -----         \n",
      " 0   0       1758 non-null   datetime64[ns]\n",
      "dtypes: datetime64[ns](1)\n",
      "memory usage: 27.5 KB\n"
     ]
    }
   ],
   "source": [
    "dates.info()"
   ]
  },
  {
   "cell_type": "markdown",
   "id": "099d52f4-8d7d-4018-9a31-1aa652b0e1db",
   "metadata": {
    "id": "49eb81d44b65"
   },
   "source": [
    "**View the data for one of the products, sorted by date, to show that many dates are not present in the dataset.**"
   ]
  },
  {
   "cell_type": "code",
   "execution_count": 29,
   "id": "d875f753-e43e-478f-9860-bb218ed04853",
   "metadata": {
    "id": "7194f59c71b5"
   },
   "outputs": [
    {
     "data": {
      "text/html": [
       "<div>\n",
       "<style scoped>\n",
       "    .dataframe tbody tr th:only-of-type {\n",
       "        vertical-align: middle;\n",
       "    }\n",
       "\n",
       "    .dataframe tbody tr th {\n",
       "        vertical-align: top;\n",
       "    }\n",
       "\n",
       "    .dataframe thead th {\n",
       "        text-align: right;\n",
       "    }\n",
       "</style>\n",
       "<table border=\"1\" class=\"dataframe\">\n",
       "  <thead>\n",
       "    <tr style=\"text-align: right;\">\n",
       "      <th></th>\n",
       "      <th>date</th>\n",
       "      <th>product_id</th>\n",
       "      <th>sales_count</th>\n",
       "    </tr>\n",
       "  </thead>\n",
       "  <tbody>\n",
       "    <tr>\n",
       "      <th>370</th>\n",
       "      <td>2018-09-22</td>\n",
       "      <td>20552</td>\n",
       "      <td>1</td>\n",
       "    </tr>\n",
       "    <tr>\n",
       "      <th>398</th>\n",
       "      <td>2018-10-24</td>\n",
       "      <td>20552</td>\n",
       "      <td>1</td>\n",
       "    </tr>\n",
       "    <tr>\n",
       "      <th>1293</th>\n",
       "      <td>2018-10-27</td>\n",
       "      <td>20552</td>\n",
       "      <td>1</td>\n",
       "    </tr>\n",
       "    <tr>\n",
       "      <th>1415</th>\n",
       "      <td>2018-11-16</td>\n",
       "      <td>20552</td>\n",
       "      <td>1</td>\n",
       "    </tr>\n",
       "    <tr>\n",
       "      <th>1793</th>\n",
       "      <td>2018-11-27</td>\n",
       "      <td>20552</td>\n",
       "      <td>1</td>\n",
       "    </tr>\n",
       "    <tr>\n",
       "      <th>...</th>\n",
       "      <td>...</td>\n",
       "      <td>...</td>\n",
       "      <td>...</td>\n",
       "    </tr>\n",
       "    <tr>\n",
       "      <th>362</th>\n",
       "      <td>2023-06-06</td>\n",
       "      <td>20552</td>\n",
       "      <td>4</td>\n",
       "    </tr>\n",
       "    <tr>\n",
       "      <th>2239</th>\n",
       "      <td>2023-06-07</td>\n",
       "      <td>20552</td>\n",
       "      <td>1</td>\n",
       "    </tr>\n",
       "    <tr>\n",
       "      <th>824</th>\n",
       "      <td>2023-06-09</td>\n",
       "      <td>20552</td>\n",
       "      <td>2</td>\n",
       "    </tr>\n",
       "    <tr>\n",
       "      <th>1497</th>\n",
       "      <td>2023-06-10</td>\n",
       "      <td>20552</td>\n",
       "      <td>1</td>\n",
       "    </tr>\n",
       "    <tr>\n",
       "      <th>2141</th>\n",
       "      <td>2023-06-13</td>\n",
       "      <td>20552</td>\n",
       "      <td>1</td>\n",
       "    </tr>\n",
       "  </tbody>\n",
       "</table>\n",
       "<p>693 rows × 3 columns</p>\n",
       "</div>"
      ],
      "text/plain": [
       "           date  product_id  sales_count\n",
       "370  2018-09-22       20552            1\n",
       "398  2018-10-24       20552            1\n",
       "1293 2018-10-27       20552            1\n",
       "1415 2018-11-16       20552            1\n",
       "1793 2018-11-27       20552            1\n",
       "...         ...         ...          ...\n",
       "362  2023-06-06       20552            4\n",
       "2239 2023-06-07       20552            1\n",
       "824  2023-06-09       20552            2\n",
       "1497 2023-06-10       20552            1\n",
       "2141 2023-06-13       20552            1\n",
       "\n",
       "[693 rows x 3 columns]"
      ]
     },
     "execution_count": 29,
     "metadata": {},
     "output_type": "execute_result"
    }
   ],
   "source": [
    "df.loc[df['product_id'] == 20552].sort_values(by=['date'])"
   ]
  },
  {
   "cell_type": "markdown",
   "id": "05d40f5b-62da-4888-95ee-0ea82b696f0c",
   "metadata": {
    "id": "326f4f48f5cc"
   },
   "source": [
    "To make a dataframe in which each product has zero missing dates, merge each of the five products' data with the `dates` dataframe.\n",
    "\n",
    "Start with `product_id` `20552`."
   ]
  },
  {
   "cell_type": "code",
   "execution_count": 30,
   "id": "ae88f9df-84c4-4ec2-9add-376895e9399f",
   "metadata": {
    "id": "a0b443c8d160"
   },
   "outputs": [
    {
     "name": "stdout",
     "output_type": "stream",
     "text": [
      "data after converting for a product with product_id 20552\n",
      "           date  product_id  sales_count\n",
      "0    2018-08-21       20552            0\n",
      "1    2018-08-22       20552            0\n",
      "2    2018-08-23       20552            0\n",
      "3    2018-08-24       20552            0\n",
      "4    2018-08-25       20552            0\n",
      "...         ...         ...          ...\n",
      "1753 2023-06-09       20552            2\n",
      "1754 2023-06-10       20552            1\n",
      "1755 2023-06-11       20552            0\n",
      "1756 2023-06-12       20552            0\n",
      "1757 2023-06-13       20552            1\n",
      "\n",
      "[1758 rows x 3 columns]\n",
      "           date  product_id  sales_count\n",
      "0    2018-08-21       13596            0\n",
      "1    2018-08-22       13596            0\n",
      "2    2018-08-23       13596            0\n",
      "3    2018-08-24       13596            0\n",
      "4    2018-08-25       13596            0\n",
      "...         ...         ...          ...\n",
      "1753 2023-06-09       13596            1\n",
      "1754 2023-06-10       13596            3\n",
      "1755 2023-06-11       13596            0\n",
      "1756 2023-06-12       13596            0\n",
      "1757 2023-06-13       13596            0\n",
      "\n",
      "[1758 rows x 3 columns]\n",
      "           date  product_id  sales_count\n",
      "0    2018-08-21       23641            0\n",
      "1    2018-08-22       23641            0\n",
      "2    2018-08-23       23641            0\n",
      "3    2018-08-24       23641            0\n",
      "4    2018-08-25       23641            0\n",
      "...         ...         ...          ...\n",
      "1753 2023-06-09       23641            1\n",
      "1754 2023-06-10       23641            0\n",
      "1755 2023-06-11       23641            2\n",
      "1756 2023-06-12       23641            1\n",
      "1757 2023-06-13       23641            1\n",
      "\n",
      "[1758 rows x 3 columns]\n",
      "           date  product_id  sales_count\n",
      "0    2018-08-21       28305            1\n",
      "1    2018-08-22       28305            0\n",
      "2    2018-08-23       28305            1\n",
      "3    2018-08-24       28305            0\n",
      "4    2018-08-25       28305            0\n",
      "...         ...         ...          ...\n",
      "1753 2023-06-09       28305            0\n",
      "1754 2023-06-10       28305            1\n",
      "1755 2023-06-11       28305            1\n",
      "1756 2023-06-12       28305            1\n",
      "1757 2023-06-13       28305            0\n",
      "\n",
      "[1758 rows x 3 columns]\n",
      "           date  product_id  sales_count\n",
      "0    2018-08-21       20547            0\n",
      "1    2018-08-22       20547            0\n",
      "2    2018-08-23       20547            0\n",
      "3    2018-08-24       20547            0\n",
      "4    2018-08-25       20547            0\n",
      "...         ...         ...          ...\n",
      "1753 2023-06-09       20547            0\n",
      "1754 2023-06-10       20547            0\n",
      "1755 2023-06-11       20547            1\n",
      "1756 2023-06-12       20547            2\n",
      "1757 2023-06-13       20547            0\n",
      "\n",
      "[1758 rows x 3 columns]\n"
     ]
    }
   ],
   "source": [
    "df1 = (\n",
    "    pd.merge(\n",
    "        df.loc[df['product_id'] == 20552],\n",
    "        dates,\n",
    "        left_on='date',\n",
    "        right_on=0,\n",
    "        how='outer',\n",
    "    )\n",
    "    .sort_values(by=['date'])\n",
    "    .drop(columns=0)\n",
    ")  # merging dates dataframe with product_id matching rows\n",
    "df1['product_id'] = 20552  # product_id will be null so making it the specified values\n",
    "df1.reset_index(inplace=True, drop=True)  # making index to start from 0\n",
    "df1 = df1.fillna(0)  # for sales_count making null values as 0\n",
    "df1['sales_count'] = df1['sales_count'].astype(\n",
    "    'int'\n",
    ")  # convert sales_count column to integer\n",
    "print('data after converting for a product with product_id 20552')\n",
    "print(df1)\n",
    "\n",
    "df2 = (\n",
    "    pd.merge(\n",
    "        df.loc[df['product_id'] == 13596],\n",
    "        dates,\n",
    "        left_on='date',\n",
    "        right_on=0,\n",
    "        how='outer',\n",
    "    )\n",
    "    .sort_values(by=['date'])\n",
    "    .drop(columns=0)\n",
    ")  # merging dates dataframe with product_id matching rows\n",
    "df2['product_id'] = 13596  # product_id will be null so making it the specified values\n",
    "df2.reset_index(inplace=True, drop=True)  # making index to start from 0\n",
    "df2 = df2.fillna(0)  # for sales_count making null values as 0\n",
    "df2['sales_count'] = df2['sales_count'].astype(\n",
    "    'int'\n",
    ")  # convert sales_count column to integer\n",
    "print(df2)\n",
    "\n",
    "df3 = (\n",
    "    pd.merge(\n",
    "        df.loc[df['product_id'] == 23641],\n",
    "        dates,\n",
    "        left_on='date',\n",
    "        right_on=0,\n",
    "        how='outer',\n",
    "    )\n",
    "    .sort_values(by=['date'])\n",
    "    .drop(columns=0)\n",
    ")  # merging dates dataframe with product_id matching rows\n",
    "df3['product_id'] = 23641  # product_id will be null so making it the specified values\n",
    "df3.reset_index(inplace=True, drop=True)  # making index to start from 0\n",
    "df3 = df3.fillna(0)  # for sales_count making null values as 0\n",
    "df3['sales_count'] = df3['sales_count'].astype(\n",
    "    'int'\n",
    ")  # convert sales_count column to integer\n",
    "print(df3)\n",
    "\n",
    "df4 = (\n",
    "    pd.merge(\n",
    "        df.loc[df['product_id'] == 28305],\n",
    "        dates,\n",
    "        left_on='date',\n",
    "        right_on=0,\n",
    "        how='outer',\n",
    "    )\n",
    "    .sort_values(by=['date'])\n",
    "    .drop(columns=0)\n",
    ")  # merging dates dataframe with product_id matching rows\n",
    "df4['product_id'] = 28305  # product_id will be null so making it the specified values\n",
    "df4.reset_index(inplace=True, drop=True)  # making index to start from 0\n",
    "df4 = df4.fillna(0)  # for sales_count making null values as 0\n",
    "df4['sales_count'] = df4['sales_count'].astype(\n",
    "    'int'\n",
    ")  # convert sales_count column to integer\n",
    "print(df4)\n",
    "\n",
    "df5 = (\n",
    "    pd.merge(\n",
    "        df.loc[df['product_id'] == 20547],\n",
    "        dates,\n",
    "        left_on='date',\n",
    "        right_on=0,\n",
    "        how='outer',\n",
    "    )\n",
    "    .sort_values(by=['date'])\n",
    "    .drop(columns=0)\n",
    ")  # merging dates dataframe with product_id matching rows\n",
    "df5['product_id'] = 20547  # product_id will be null so making it the specified values\n",
    "df5.reset_index(inplace=True, drop=True)  # making index to start from 0\n",
    "df5 = df5.fillna(0)  # for sales_count making null values as 0\n",
    "df5['sales_count'] = df5['sales_count'].astype(\n",
    "    'int'\n",
    ")  # convert sales_count column to integer\n",
    "print(df5)"
   ]
  },
  {
   "cell_type": "markdown",
   "id": "6d617237-0020-4367-9707-eba18c91de5a",
   "metadata": {
    "id": "6a2d033b733e"
   },
   "source": [
    "**Merge all five dataframes into one new dataframe.**"
   ]
  },
  {
   "cell_type": "code",
   "execution_count": 31,
   "id": "d2fc40bb-07ba-4a94-8969-de0a2d27a35d",
   "metadata": {
    "id": "bf570c0c6913"
   },
   "outputs": [
    {
     "data": {
      "text/html": [
       "<div>\n",
       "<style scoped>\n",
       "    .dataframe tbody tr th:only-of-type {\n",
       "        vertical-align: middle;\n",
       "    }\n",
       "\n",
       "    .dataframe tbody tr th {\n",
       "        vertical-align: top;\n",
       "    }\n",
       "\n",
       "    .dataframe thead th {\n",
       "        text-align: right;\n",
       "    }\n",
       "</style>\n",
       "<table border=\"1\" class=\"dataframe\">\n",
       "  <thead>\n",
       "    <tr style=\"text-align: right;\">\n",
       "      <th></th>\n",
       "      <th>date</th>\n",
       "      <th>product_id</th>\n",
       "      <th>sales_count</th>\n",
       "    </tr>\n",
       "  </thead>\n",
       "  <tbody>\n",
       "    <tr>\n",
       "      <th>0</th>\n",
       "      <td>2018-08-21</td>\n",
       "      <td>20552</td>\n",
       "      <td>0</td>\n",
       "    </tr>\n",
       "    <tr>\n",
       "      <th>1</th>\n",
       "      <td>2018-08-22</td>\n",
       "      <td>20552</td>\n",
       "      <td>0</td>\n",
       "    </tr>\n",
       "    <tr>\n",
       "      <th>2</th>\n",
       "      <td>2018-08-23</td>\n",
       "      <td>20552</td>\n",
       "      <td>0</td>\n",
       "    </tr>\n",
       "    <tr>\n",
       "      <th>3</th>\n",
       "      <td>2018-08-24</td>\n",
       "      <td>20552</td>\n",
       "      <td>0</td>\n",
       "    </tr>\n",
       "    <tr>\n",
       "      <th>4</th>\n",
       "      <td>2018-08-25</td>\n",
       "      <td>20552</td>\n",
       "      <td>0</td>\n",
       "    </tr>\n",
       "    <tr>\n",
       "      <th>...</th>\n",
       "      <td>...</td>\n",
       "      <td>...</td>\n",
       "      <td>...</td>\n",
       "    </tr>\n",
       "    <tr>\n",
       "      <th>1753</th>\n",
       "      <td>2023-06-09</td>\n",
       "      <td>20547</td>\n",
       "      <td>0</td>\n",
       "    </tr>\n",
       "    <tr>\n",
       "      <th>1754</th>\n",
       "      <td>2023-06-10</td>\n",
       "      <td>20547</td>\n",
       "      <td>0</td>\n",
       "    </tr>\n",
       "    <tr>\n",
       "      <th>1755</th>\n",
       "      <td>2023-06-11</td>\n",
       "      <td>20547</td>\n",
       "      <td>1</td>\n",
       "    </tr>\n",
       "    <tr>\n",
       "      <th>1756</th>\n",
       "      <td>2023-06-12</td>\n",
       "      <td>20547</td>\n",
       "      <td>2</td>\n",
       "    </tr>\n",
       "    <tr>\n",
       "      <th>1757</th>\n",
       "      <td>2023-06-13</td>\n",
       "      <td>20547</td>\n",
       "      <td>0</td>\n",
       "    </tr>\n",
       "  </tbody>\n",
       "</table>\n",
       "<p>8790 rows × 3 columns</p>\n",
       "</div>"
      ],
      "text/plain": [
       "           date  product_id  sales_count\n",
       "0    2018-08-21       20552            0\n",
       "1    2018-08-22       20552            0\n",
       "2    2018-08-23       20552            0\n",
       "3    2018-08-24       20552            0\n",
       "4    2018-08-25       20552            0\n",
       "...         ...         ...          ...\n",
       "1753 2023-06-09       20547            0\n",
       "1754 2023-06-10       20547            0\n",
       "1755 2023-06-11       20547            1\n",
       "1756 2023-06-12       20547            2\n",
       "1757 2023-06-13       20547            0\n",
       "\n",
       "[8790 rows x 3 columns]"
      ]
     },
     "execution_count": 31,
     "metadata": {},
     "output_type": "execute_result"
    }
   ],
   "source": [
    "pdList = [df1, df2, df3, df4, df5]  # List of your dataframes\n",
    "new_df = pd.concat(pdList)\n",
    "new_df"
   ]
  },
  {
   "cell_type": "markdown",
   "id": "e8fa40c3-7882-4bd4-9406-51b899b4c047",
   "metadata": {
    "id": "4a75fa1dc8dc"
   },
   "source": [
    "**Reset the index of the dataframe.**"
   ]
  },
  {
   "cell_type": "code",
   "execution_count": 32,
   "id": "28bb2577-5870-46cd-818f-3d048c5ae0f1",
   "metadata": {
    "id": "7d258952fc71"
   },
   "outputs": [
    {
     "name": "stdout",
     "output_type": "stream",
     "text": [
      "           date  product_id  sales_count\n",
      "0    2018-08-21       20552            0\n",
      "1    2018-08-22       20552            0\n",
      "2    2018-08-23       20552            0\n",
      "3    2018-08-24       20552            0\n",
      "4    2018-08-25       20552            0\n",
      "...         ...         ...          ...\n",
      "8785 2023-06-09       20547            0\n",
      "8786 2023-06-10       20547            0\n",
      "8787 2023-06-11       20547            1\n",
      "8788 2023-06-12       20547            2\n",
      "8789 2023-06-13       20547            0\n",
      "\n",
      "[8790 rows x 3 columns]\n"
     ]
    }
   ],
   "source": [
    "new_df.reset_index(inplace=True, drop=True)\n",
    "print(new_df)"
   ]
  },
  {
   "cell_type": "markdown",
   "id": "d7af4b88-2d90-4f6c-8e94-25709d9495ee",
   "metadata": {
    "id": "97e1289b2106"
   },
   "source": [
    "**View the five product IDs.**"
   ]
  },
  {
   "cell_type": "code",
   "execution_count": 33,
   "id": "6c132e17-960b-4a88-b50e-86d2932cd37f",
   "metadata": {
    "id": "5Gjad6uSp94O"
   },
   "outputs": [],
   "source": [
    "query = f'''\n",
    "SELECT DISTINCT product_id from {dataset_id}.top_five_products\n",
    "'''\n",
    "query_job = bq_client.query(query)"
   ]
  },
  {
   "cell_type": "code",
   "execution_count": 34,
   "id": "12caf37f-a6d0-41f9-99c9-62d99e62d37f",
   "metadata": {
    "id": "MUynE3dnp94O"
   },
   "outputs": [
    {
     "data": {
      "text/html": [
       "<div>\n",
       "<style scoped>\n",
       "    .dataframe tbody tr th:only-of-type {\n",
       "        vertical-align: middle;\n",
       "    }\n",
       "\n",
       "    .dataframe tbody tr th {\n",
       "        vertical-align: top;\n",
       "    }\n",
       "\n",
       "    .dataframe thead th {\n",
       "        text-align: right;\n",
       "    }\n",
       "</style>\n",
       "<table border=\"1\" class=\"dataframe\">\n",
       "  <thead>\n",
       "    <tr style=\"text-align: right;\">\n",
       "      <th></th>\n",
       "      <th>product_id</th>\n",
       "    </tr>\n",
       "  </thead>\n",
       "  <tbody>\n",
       "    <tr>\n",
       "      <th>0</th>\n",
       "      <td>23641</td>\n",
       "    </tr>\n",
       "    <tr>\n",
       "      <th>1</th>\n",
       "      <td>13596</td>\n",
       "    </tr>\n",
       "    <tr>\n",
       "      <th>2</th>\n",
       "      <td>20552</td>\n",
       "    </tr>\n",
       "    <tr>\n",
       "      <th>3</th>\n",
       "      <td>20547</td>\n",
       "    </tr>\n",
       "    <tr>\n",
       "      <th>4</th>\n",
       "      <td>28305</td>\n",
       "    </tr>\n",
       "  </tbody>\n",
       "</table>\n",
       "</div>"
      ],
      "text/plain": [
       "   product_id\n",
       "0       23641\n",
       "1       13596\n",
       "2       20552\n",
       "3       20547\n",
       "4       28305"
      ]
     },
     "execution_count": 34,
     "metadata": {},
     "output_type": "execute_result"
    }
   ],
   "source": [
    "query_job.to_dataframe()"
   ]
  },
  {
   "cell_type": "markdown",
   "id": "7795c3cc-2344-450a-8c8a-0a1e84603eaa",
   "metadata": {
    "id": "aa06b0e893cb"
   },
   "source": [
    "**Plot `sales_count` over time, for each product.**"
   ]
  },
  {
   "cell_type": "code",
   "execution_count": 35,
   "id": "ea28607e-69b9-4cf9-9bcf-959767d8796f",
   "metadata": {
    "id": "9cdce0080aa1"
   },
   "outputs": [
    {
     "data": {
      "text/plain": [
       "(array([17532., 17897., 18262., 18628., 18993., 19358.]),\n",
       " [Text(0, 0, ''),\n",
       "  Text(0, 0, ''),\n",
       "  Text(0, 0, ''),\n",
       "  Text(0, 0, ''),\n",
       "  Text(0, 0, ''),\n",
       "  Text(0, 0, '')])"
      ]
     },
     "execution_count": 35,
     "metadata": {},
     "output_type": "execute_result"
    },
    {
     "data": {
      "image/png": "[encoded data removed]",
      "text/plain": [
       "<Figure size 640x480 with 1 Axes>"
      ]
     },
     "metadata": {},
     "output_type": "display_data"
    }
   ],
   "source": [
    "plt.plot(\n",
    "    new_df.loc[new_df['product_id'] == 20552]['date'],\n",
    "    new_df.loc[new_df['product_id'] == 20552]['sales_count'],\n",
    ")\n",
    "plt.xticks(rotation='vertical')"
   ]
  },
  {
   "cell_type": "code",
   "execution_count": 36,
   "id": "33cdeed8-400f-4e28-bc6b-4f5258978ca2",
   "metadata": {
    "id": "6fef99223f63"
   },
   "outputs": [
    {
     "data": {
      "text/plain": [
       "(array([17532., 17897., 18262., 18628., 18993., 19358.]),\n",
       " [Text(0, 0, ''),\n",
       "  Text(0, 0, ''),\n",
       "  Text(0, 0, ''),\n",
       "  Text(0, 0, ''),\n",
       "  Text(0, 0, ''),\n",
       "  Text(0, 0, '')])"
      ]
     },
     "execution_count": 36,
     "metadata": {},
     "output_type": "execute_result"
    },
    {
     "data": {
      "image/png": "[encoded data removed]",
      "text/plain": [
       "<Figure size 640x480 with 1 Axes>"
      ]
     },
     "metadata": {},
     "output_type": "display_data"
    }
   ],
   "source": [
    "plt.plot(\n",
    "    new_df.loc[new_df['product_id'] == 20547]['date'],\n",
    "    new_df.loc[new_df['product_id'] == 20547]['sales_count'],\n",
    ")\n",
    "plt.xticks(rotation='vertical')"
   ]
  },
  {
   "cell_type": "code",
   "execution_count": 37,
   "id": "440bff17-509b-478e-8e7d-b043953b5bd1",
   "metadata": {
    "id": "d281151b0e2a"
   },
   "outputs": [
    {
     "data": {
      "text/plain": [
       "(array([17532., 17897., 18262., 18628., 18993., 19358.]),\n",
       " [Text(0, 0, ''),\n",
       "  Text(0, 0, ''),\n",
       "  Text(0, 0, ''),\n",
       "  Text(0, 0, ''),\n",
       "  Text(0, 0, ''),\n",
       "  Text(0, 0, '')])"
      ]
     },
     "execution_count": 37,
     "metadata": {},
     "output_type": "execute_result"
    },
    {
     "data": {
      "image/png": "[encoded data removed]",
      "text/plain": [
       "<Figure size 640x480 with 1 Axes>"
      ]
     },
     "metadata": {},
     "output_type": "display_data"
    }
   ],
   "source": [
    "plt.plot(\n",
    "    new_df.loc[new_df['product_id'] == 28305]['date'],\n",
    "    new_df.loc[new_df['product_id'] == 28305]['sales_count'],\n",
    ")\n",
    "plt.xticks(rotation='vertical')"
   ]
  },
  {
   "cell_type": "code",
   "execution_count": 38,
   "id": "2420e099-16dc-44a2-8e23-d1e344f192a3",
   "metadata": {
    "id": "a50eeeeaedb0"
   },
   "outputs": [
    {
     "data": {
      "text/plain": [
       "(array([17532., 17897., 18262., 18628., 18993., 19358.]),\n",
       " [Text(0, 0, ''),\n",
       "  Text(0, 0, ''),\n",
       "  Text(0, 0, ''),\n",
       "  Text(0, 0, ''),\n",
       "  Text(0, 0, ''),\n",
       "  Text(0, 0, '')])"
      ]
     },
     "execution_count": 38,
     "metadata": {},
     "output_type": "execute_result"
    },
    {
     "data": {
      "image/png": "[encoded data removed]",
      "text/plain": [
       "<Figure size 640x480 with 1 Axes>"
      ]
     },
     "metadata": {},
     "output_type": "display_data"
    }
   ],
   "source": [
    "plt.plot(\n",
    "    new_df.loc[new_df['product_id'] == 23641]['date'],\n",
    "    new_df.loc[new_df['product_id'] == 23641]['sales_count'],\n",
    ")\n",
    "plt.xticks(rotation='vertical')"
   ]
  },
  {
   "cell_type": "code",
   "execution_count": 39,
   "id": "1af92145-fc64-4f72-bb9c-5d628b26254d",
   "metadata": {
    "id": "4d002f0717ee"
   },
   "outputs": [
    {
     "data": {
      "text/plain": [
       "(array([17532., 17897., 18262., 18628., 18993., 19358.]),\n",
       " [Text(0, 0, ''),\n",
       "  Text(0, 0, ''),\n",
       "  Text(0, 0, ''),\n",
       "  Text(0, 0, ''),\n",
       "  Text(0, 0, ''),\n",
       "  Text(0, 0, '')])"
      ]
     },
     "execution_count": 39,
     "metadata": {},
     "output_type": "execute_result"
    },
    {
     "data": {
      "image/png": "[encoded data removed]",
      "text/plain": [
       "<Figure size 640x480 with 1 Axes>"
      ]
     },
     "metadata": {},
     "output_type": "display_data"
    }
   ],
   "source": [
    "plt.plot(\n",
    "    new_df.loc[new_df['product_id'] == 13596]['date'],\n",
    "    new_df.loc[new_df['product_id'] == 13596]['sales_count'],\n",
    ")\n",
    "plt.xticks(rotation='vertical')"
   ]
  },
  {
   "cell_type": "markdown",
   "id": "7a128469-9cfb-443b-b036-44d92bd08dd7",
   "metadata": {
    "id": "755a811fbad5"
   },
   "source": [
    "**List the data types for the `new_df` dataframe.**"
   ]
  },
  {
   "cell_type": "code",
   "execution_count": 40,
   "id": "13b8b930-708a-42d4-9749-9400899f2d82",
   "metadata": {
    "id": "220ec814875c"
   },
   "outputs": [
    {
     "data": {
      "text/plain": [
       "date           datetime64[ns]\n",
       "product_id              int64\n",
       "sales_count             int64\n",
       "dtype: object"
      ]
     },
     "execution_count": 40,
     "metadata": {},
     "output_type": "execute_result"
    }
   ],
   "source": [
    "new_df.dtypes"
   ]
  },
  {
   "cell_type": "markdown",
   "id": "03b70976-5470-40c6-9b7e-df16d6c24f7b",
   "metadata": {
    "id": "ff06b56ffa7a"
   },
   "source": [
    "**Create a new BigQuery table out of the `new_df` dataframe.**"
   ]
  },
  {
   "cell_type": "code",
   "execution_count": 41,
   "id": "7a4e6b69-df76-44d2-a9b2-ce1308dbb195",
   "metadata": {
    "id": "2d303f1cfd90"
   },
   "outputs": [
    {
     "data": {
      "text/plain": [
       "LoadJob<project=automlops-sandbox, location=US, id=1a57939e-d30a-43b2-afe9-5681a9d7c7f9>"
      ]
     },
     "execution_count": 41,
     "metadata": {},
     "output_type": "execute_result"
    }
   ],
   "source": [
    "job_config = bigquery.LoadJobConfig(\n",
    "    # Specify a (partial) schema. All columns are always written to the\n",
    "    # table. The schema is used to assist in data type definitions.\n",
    "    schema=[\n",
    "        bigquery.SchemaField('product_id', bigquery.enums.SqlTypeNames.INTEGER),\n",
    "        bigquery.SchemaField('date', bigquery.enums.SqlTypeNames.DATE),\n",
    "        bigquery.SchemaField('sales_count', bigquery.enums.SqlTypeNames.INTEGER),\n",
    "    ],\n",
    "    # Optionally, set the write disposition. BigQuery appends loaded rows\n",
    "    # to an existing table by default, but with WRITE_TRUNCATE write\n",
    "    # disposition it replaces the table with the loaded data.\n",
    "    write_disposition='WRITE_TRUNCATE',\n",
    ")\n",
    "\n",
    "# save the dataframe to a table in the created dataset\n",
    "job = bq_client.load_table_from_dataframe(\n",
    "    new_df,\n",
    "    f'{PROJECT_ID}.{dataset_id}.{SALES_TABLE}',\n",
    "    job_config=job_config,\n",
    ")  # Make an API request.\n",
    "job.result()  # Wait for the job to complete."
   ]
  },
  {
   "cell_type": "markdown",
   "id": "1f608f6d-da3f-4fc6-84fc-6e051f0e2d0d",
   "metadata": {
    "id": "c2e0e9aa67cd"
   },
   "source": [
    "**Create a training dataset by setting a date range that limits the data being used.**"
   ]
  },
  {
   "cell_type": "code",
   "execution_count": 42,
   "id": "65bd3afe-4db5-462e-9efe-31918f31600d",
   "metadata": {
    "id": "e1fffed34704"
   },
   "outputs": [
    {
     "name": "stdout",
     "output_type": "stream",
     "text": [
      "<google.cloud.bigquery.table._EmptyRowIterator object at 0x7fe823c5e7d0>\n"
     ]
    }
   ],
   "source": [
    "# select the date-range and item-id(top 5) for training-data and create a table for the same\n",
    "TRAININGDATA_STARTDATE = '2022-01-01'\n",
    "TRAININGDATA_ENDDATE = '2023-01-01'\n",
    "query = f'''\n",
    "CREATE OR REPLACE TABLE {PROJECT_ID}.{dataset_id}.training_data AS (\n",
    "    SELECT\n",
    "        *\n",
    "    FROM\n",
    "        `{dataset_id}.{SALES_TABLE}`\n",
    "    WHERE\n",
    "        date BETWEEN '{TRAININGDATA_STARTDATE}' AND '{TRAININGDATA_ENDDATE}'\n",
    "        );\n",
    "'''\n",
    "# execute the query (as it is a create query, there won't be any tabular output)\n",
    "query_job = bq_client.query(query)\n",
    "print(query_job.result())"
   ]
  },
  {
   "cell_type": "markdown",
   "id": "3574b10a-cd13-4164-97d4-c9e5956528d7",
   "metadata": {
    "id": "2f7d9d2d4229"
   },
   "source": [
    "**Select the original data for plotting.**"
   ]
  },
  {
   "cell_type": "code",
   "execution_count": 43,
   "id": "f858570f-14a7-4934-bea1-323eab173663",
   "metadata": {
    "id": "1b82fc7c7bf6"
   },
   "outputs": [
    {
     "data": {
      "text/html": [
       "<div>\n",
       "<style scoped>\n",
       "    .dataframe tbody tr th:only-of-type {\n",
       "        vertical-align: middle;\n",
       "    }\n",
       "\n",
       "    .dataframe tbody tr th {\n",
       "        vertical-align: top;\n",
       "    }\n",
       "\n",
       "    .dataframe thead th {\n",
       "        text-align: right;\n",
       "    }\n",
       "</style>\n",
       "<table border=\"1\" class=\"dataframe\">\n",
       "  <thead>\n",
       "    <tr style=\"text-align: right;\">\n",
       "      <th></th>\n",
       "      <th>date</th>\n",
       "      <th>product_id</th>\n",
       "      <th>sales_count</th>\n",
       "    </tr>\n",
       "  </thead>\n",
       "  <tbody>\n",
       "    <tr>\n",
       "      <th>1229</th>\n",
       "      <td>2022-01-01</td>\n",
       "      <td>20552</td>\n",
       "      <td>1</td>\n",
       "    </tr>\n",
       "    <tr>\n",
       "      <th>1230</th>\n",
       "      <td>2022-01-02</td>\n",
       "      <td>20552</td>\n",
       "      <td>1</td>\n",
       "    </tr>\n",
       "    <tr>\n",
       "      <th>1231</th>\n",
       "      <td>2022-01-03</td>\n",
       "      <td>20552</td>\n",
       "      <td>0</td>\n",
       "    </tr>\n",
       "    <tr>\n",
       "      <th>1232</th>\n",
       "      <td>2022-01-04</td>\n",
       "      <td>20552</td>\n",
       "      <td>1</td>\n",
       "    </tr>\n",
       "    <tr>\n",
       "      <th>1233</th>\n",
       "      <td>2022-01-05</td>\n",
       "      <td>20552</td>\n",
       "      <td>4</td>\n",
       "    </tr>\n",
       "    <tr>\n",
       "      <th>...</th>\n",
       "      <td>...</td>\n",
       "      <td>...</td>\n",
       "      <td>...</td>\n",
       "    </tr>\n",
       "    <tr>\n",
       "      <th>8622</th>\n",
       "      <td>2022-12-28</td>\n",
       "      <td>20547</td>\n",
       "      <td>1</td>\n",
       "    </tr>\n",
       "    <tr>\n",
       "      <th>8623</th>\n",
       "      <td>2022-12-29</td>\n",
       "      <td>20547</td>\n",
       "      <td>0</td>\n",
       "    </tr>\n",
       "    <tr>\n",
       "      <th>8624</th>\n",
       "      <td>2022-12-30</td>\n",
       "      <td>20547</td>\n",
       "      <td>0</td>\n",
       "    </tr>\n",
       "    <tr>\n",
       "      <th>8625</th>\n",
       "      <td>2022-12-31</td>\n",
       "      <td>20547</td>\n",
       "      <td>0</td>\n",
       "    </tr>\n",
       "    <tr>\n",
       "      <th>8626</th>\n",
       "      <td>2023-01-01</td>\n",
       "      <td>20547</td>\n",
       "      <td>1</td>\n",
       "    </tr>\n",
       "  </tbody>\n",
       "</table>\n",
       "<p>1830 rows × 3 columns</p>\n",
       "</div>"
      ],
      "text/plain": [
       "           date  product_id  sales_count\n",
       "1229 2022-01-01       20552            1\n",
       "1230 2022-01-02       20552            1\n",
       "1231 2022-01-03       20552            0\n",
       "1232 2022-01-04       20552            1\n",
       "1233 2022-01-05       20552            4\n",
       "...         ...         ...          ...\n",
       "8622 2022-12-28       20547            1\n",
       "8623 2022-12-29       20547            0\n",
       "8624 2022-12-30       20547            0\n",
       "8625 2022-12-31       20547            0\n",
       "8626 2023-01-01       20547            1\n",
       "\n",
       "[1830 rows x 3 columns]"
      ]
     },
     "execution_count": 43,
     "metadata": {},
     "output_type": "execute_result"
    }
   ],
   "source": [
    "df_historical = new_df[\n",
    "    (new_df['date'] >= pd.to_datetime(TRAININGDATA_STARTDATE))\n",
    "    & (new_df['date'] <= pd.to_datetime(TRAININGDATA_ENDDATE))\n",
    "].copy()\n",
    "df_historical"
   ]
  },
  {
   "cell_type": "markdown",
   "id": "31a61841-e41f-4eaf-b4ed-0d313cdb1f50",
   "metadata": {
    "id": "c25b75dc957a"
   },
   "source": [
    "## Modeling with BigQuery and the ARIMA model\n",
    "\n",
    "**Create an ARIMA model using the training data.**"
   ]
  },
  {
   "cell_type": "code",
   "execution_count": 44,
   "id": "10ec836f-84da-4dbd-8721-d6655c805c75",
   "metadata": {
    "id": "00638d9f7e55"
   },
   "outputs": [
    {
     "data": {
      "text/plain": [
       "<google.cloud.bigquery.table._EmptyRowIterator at 0x7fe822f7d310>"
      ]
     },
     "execution_count": 44,
     "metadata": {},
     "output_type": "execute_result"
    }
   ],
   "source": [
    "# Train an ARIMA model on the created dataset\n",
    "query = f'''\n",
    "CREATE OR REPLACE MODEL `{PROJECT_ID}.{dataset_id}.arima_model`\n",
    "\n",
    "OPTIONS(\n",
    "  MODEL_TYPE='ARIMA_PLUS',\n",
    "  TIME_SERIES_TIMESTAMP_COL='date',\n",
    "  TIME_SERIES_DATA_COL='sales_count',\n",
    "  TIME_SERIES_ID_COL='product_id',\n",
    "  SEASONALITIES=['DAILY','WEEKLY','MONTHLY','QUARTERLY','YEARLY'],\n",
    "  DATA_FREQUENCY='DAILY',\n",
    "  model_registry='vertex_ai') AS\n",
    "\n",
    "SELECT\n",
    "    date,\n",
    "    product_id,\n",
    "    sales_count\n",
    "FROM\n",
    "  `{dataset_id}.training_data`\n",
    "'''\n",
    "job = bq_client.query(query)\n",
    "job.result()"
   ]
  },
  {
   "cell_type": "markdown",
   "id": "73e1783e-ba13-48aa-b605-a468ffc9e8e2",
   "metadata": {
    "id": "a02551627598"
   },
   "source": [
    "## Evaluate the model\n",
    "\n",
    "To evaluate the trained model, get forecasts for the 90 days after the last date of the training data. In BigQuery ML, provide the number of forecast days using the `HORIZON` argument. Specify the confidence interval for the forecast using the `CONFIDENCE_LEVEL` argument."
   ]
  },
  {
   "cell_type": "markdown",
   "id": "1637b141-0834-427d-a623-ee8d423711fa",
   "metadata": {
    "id": "801528e3e2c7"
   },
   "source": [
    "**Load the data into a dataframe named `dfforecast`.**"
   ]
  },
  {
   "cell_type": "code",
   "execution_count": 45,
   "id": "dd524928-2665-48c5-ab81-66ed04434ee5",
   "metadata": {
    "id": "f1277e846d10"
   },
   "outputs": [],
   "source": [
    "query = f'''DECLARE HORIZON STRING DEFAULT \"90\"; #number of values to forecast\n",
    "DECLARE CONFIDENCE_LEVEL STRING DEFAULT \"0.90\"; ## required confidence level\n",
    "\n",
    "EXECUTE IMMEDIATE format(\"\"\"\n",
    "    SELECT\n",
    "      * , \n",
    "      ROUND(forecast_value) AS forecast_value_rnd,\n",
    "      ROUND(forecast_value) - standard_error AS prediction_interval_lower_bound_rnd,\n",
    "      ROUND(forecast_value) - standard_error AS confidence_interval_lower_bound_rnd,\n",
    "      ROUND(forecast_value) + standard_error AS prediction_interval_upper_bound_rnd,\n",
    "      ROUND(forecast_value) + standard_error AS confidence_interval_upper_bound_rnd\n",
    "    FROM\n",
    "      ML.FORECAST(MODEL {dataset_id}.arima_model,\n",
    "                  STRUCT(%s AS horizon,\n",
    "                         %s AS confidence_level)\n",
    "                 )\n",
    "    \"\"\",HORIZON,CONFIDENCE_LEVEL)'''\n",
    "job = bq_client.query(query)\n",
    "dfforecast = job.to_dataframe()"
   ]
  },
  {
   "cell_type": "markdown",
   "id": "ab7d9061-f3ba-472a-87af-9e4f5d2c6356",
   "metadata": {
    "id": "1e0549381849"
   },
   "source": [
    "**View the first few rows.**"
   ]
  },
  {
   "cell_type": "code",
   "execution_count": 46,
   "id": "45069cd8-cafb-4ed3-b475-1c6713cce790",
   "metadata": {
    "id": "83b07f243b72"
   },
   "outputs": [
    {
     "data": {
      "text/html": [
       "<div>\n",
       "<style scoped>\n",
       "    .dataframe tbody tr th:only-of-type {\n",
       "        vertical-align: middle;\n",
       "    }\n",
       "\n",
       "    .dataframe tbody tr th {\n",
       "        vertical-align: top;\n",
       "    }\n",
       "\n",
       "    .dataframe thead th {\n",
       "        text-align: right;\n",
       "    }\n",
       "</style>\n",
       "<table border=\"1\" class=\"dataframe\">\n",
       "  <thead>\n",
       "    <tr style=\"text-align: right;\">\n",
       "      <th></th>\n",
       "      <th>product_id</th>\n",
       "      <th>forecast_timestamp</th>\n",
       "      <th>forecast_value</th>\n",
       "      <th>standard_error</th>\n",
       "      <th>confidence_level</th>\n",
       "      <th>prediction_interval_lower_bound</th>\n",
       "      <th>prediction_interval_upper_bound</th>\n",
       "      <th>confidence_interval_lower_bound</th>\n",
       "      <th>confidence_interval_upper_bound</th>\n",
       "      <th>forecast_value_rnd</th>\n",
       "      <th>prediction_interval_lower_bound_rnd</th>\n",
       "      <th>confidence_interval_lower_bound_rnd</th>\n",
       "      <th>prediction_interval_upper_bound_rnd</th>\n",
       "      <th>confidence_interval_upper_bound_rnd</th>\n",
       "    </tr>\n",
       "  </thead>\n",
       "  <tbody>\n",
       "    <tr>\n",
       "      <th>0</th>\n",
       "      <td>13596</td>\n",
       "      <td>2023-01-02 00:00:00+00:00</td>\n",
       "      <td>-0.166704</td>\n",
       "      <td>0.000149</td>\n",
       "      <td>0.9</td>\n",
       "      <td>-0.166949</td>\n",
       "      <td>-0.166460</td>\n",
       "      <td>-0.166949</td>\n",
       "      <td>-0.166460</td>\n",
       "      <td>-0.0</td>\n",
       "      <td>-0.000149</td>\n",
       "      <td>-0.000149</td>\n",
       "      <td>0.000149</td>\n",
       "      <td>0.000149</td>\n",
       "    </tr>\n",
       "    <tr>\n",
       "      <th>1</th>\n",
       "      <td>13596</td>\n",
       "      <td>2023-01-03 00:00:00+00:00</td>\n",
       "      <td>0.036944</td>\n",
       "      <td>0.000332</td>\n",
       "      <td>0.9</td>\n",
       "      <td>0.036398</td>\n",
       "      <td>0.037491</td>\n",
       "      <td>0.036398</td>\n",
       "      <td>0.037491</td>\n",
       "      <td>0.0</td>\n",
       "      <td>-0.000332</td>\n",
       "      <td>-0.000332</td>\n",
       "      <td>0.000332</td>\n",
       "      <td>0.000332</td>\n",
       "    </tr>\n",
       "    <tr>\n",
       "      <th>2</th>\n",
       "      <td>13596</td>\n",
       "      <td>2023-01-04 00:00:00+00:00</td>\n",
       "      <td>0.403935</td>\n",
       "      <td>0.000556</td>\n",
       "      <td>0.9</td>\n",
       "      <td>0.403020</td>\n",
       "      <td>0.404849</td>\n",
       "      <td>0.403020</td>\n",
       "      <td>0.404849</td>\n",
       "      <td>0.0</td>\n",
       "      <td>-0.000556</td>\n",
       "      <td>-0.000556</td>\n",
       "      <td>0.000556</td>\n",
       "      <td>0.000556</td>\n",
       "    </tr>\n",
       "    <tr>\n",
       "      <th>3</th>\n",
       "      <td>13596</td>\n",
       "      <td>2023-01-05 00:00:00+00:00</td>\n",
       "      <td>0.307543</td>\n",
       "      <td>0.000814</td>\n",
       "      <td>0.9</td>\n",
       "      <td>0.306205</td>\n",
       "      <td>0.308881</td>\n",
       "      <td>0.306205</td>\n",
       "      <td>0.308881</td>\n",
       "      <td>0.0</td>\n",
       "      <td>-0.000814</td>\n",
       "      <td>-0.000814</td>\n",
       "      <td>0.000814</td>\n",
       "      <td>0.000814</td>\n",
       "    </tr>\n",
       "    <tr>\n",
       "      <th>4</th>\n",
       "      <td>13596</td>\n",
       "      <td>2023-01-06 00:00:00+00:00</td>\n",
       "      <td>0.989961</td>\n",
       "      <td>0.001103</td>\n",
       "      <td>0.9</td>\n",
       "      <td>0.988149</td>\n",
       "      <td>0.991773</td>\n",
       "      <td>0.988149</td>\n",
       "      <td>0.991773</td>\n",
       "      <td>1.0</td>\n",
       "      <td>0.998897</td>\n",
       "      <td>0.998897</td>\n",
       "      <td>1.001103</td>\n",
       "      <td>1.001103</td>\n",
       "    </tr>\n",
       "  </tbody>\n",
       "</table>\n",
       "</div>"
      ],
      "text/plain": [
       "   product_id        forecast_timestamp  forecast_value  standard_error  \\\n",
       "0       13596 2023-01-02 00:00:00+00:00       -0.166704        0.000149   \n",
       "1       13596 2023-01-03 00:00:00+00:00        0.036944        0.000332   \n",
       "2       13596 2023-01-04 00:00:00+00:00        0.403935        0.000556   \n",
       "3       13596 2023-01-05 00:00:00+00:00        0.307543        0.000814   \n",
       "4       13596 2023-01-06 00:00:00+00:00        0.989961        0.001103   \n",
       "\n",
       "   confidence_level  prediction_interval_lower_bound  \\\n",
       "0               0.9                        -0.166949   \n",
       "1               0.9                         0.036398   \n",
       "2               0.9                         0.403020   \n",
       "3               0.9                         0.306205   \n",
       "4               0.9                         0.988149   \n",
       "\n",
       "   prediction_interval_upper_bound  confidence_interval_lower_bound  \\\n",
       "0                        -0.166460                        -0.166949   \n",
       "1                         0.037491                         0.036398   \n",
       "2                         0.404849                         0.403020   \n",
       "3                         0.308881                         0.306205   \n",
       "4                         0.991773                         0.988149   \n",
       "\n",
       "   confidence_interval_upper_bound  forecast_value_rnd  \\\n",
       "0                        -0.166460                -0.0   \n",
       "1                         0.037491                 0.0   \n",
       "2                         0.404849                 0.0   \n",
       "3                         0.308881                 0.0   \n",
       "4                         0.991773                 1.0   \n",
       "\n",
       "   prediction_interval_lower_bound_rnd  confidence_interval_lower_bound_rnd  \\\n",
       "0                            -0.000149                            -0.000149   \n",
       "1                            -0.000332                            -0.000332   \n",
       "2                            -0.000556                            -0.000556   \n",
       "3                            -0.000814                            -0.000814   \n",
       "4                             0.998897                             0.998897   \n",
       "\n",
       "   prediction_interval_upper_bound_rnd  confidence_interval_upper_bound_rnd  \n",
       "0                             0.000149                             0.000149  \n",
       "1                             0.000332                             0.000332  \n",
       "2                             0.000556                             0.000556  \n",
       "3                             0.000814                             0.000814  \n",
       "4                             1.001103                             1.001103  "
      ]
     },
     "execution_count": 46,
     "metadata": {},
     "output_type": "execute_result"
    }
   ],
   "source": [
    "dfforecast.head()"
   ]
  },
  {
   "cell_type": "code",
   "execution_count": 47,
   "id": "0c0936a3-9625-4568-84ff-1f56483cab12",
   "metadata": {
    "id": "0e01aa3098f8"
   },
   "outputs": [
    {
     "name": "stdout",
     "output_type": "stream",
     "text": [
      "Number of rows: 450\n"
     ]
    }
   ],
   "source": [
    "print(f'Number of rows: {dfforecast.shape[0]}')"
   ]
  },
  {
   "cell_type": "markdown",
   "id": "83d99080-198d-4dc7-9939-5ef96a8ba272",
   "metadata": {
    "id": "6fa36b762a33"
   },
   "source": [
    "**Clean the historical and forecasted values for plotting.**"
   ]
  },
  {
   "cell_type": "code",
   "execution_count": 48,
   "id": "05f807f4-8ec3-4f67-a843-79e02fbd874c",
   "metadata": {
    "id": "073a2dd6a5d3"
   },
   "outputs": [
    {
     "data": {
      "text/plain": [
       "(450, 3)"
      ]
     },
     "execution_count": 48,
     "metadata": {},
     "output_type": "execute_result"
    }
   ],
   "source": [
    "df_historical.sort_values(by=['product_id', 'date'], inplace=True)\n",
    "dfforecast.sort_values(by=['product_id', 'forecast_timestamp'], inplace=True)\n",
    "\n",
    "# Select the actual data to plot against the forecasted data\n",
    "day_diff = (new_df['date'] - pd.to_datetime(TRAININGDATA_ENDDATE)).dt.days\n",
    "df_actual_90d = new_df[new_df['product_id'].isin(dfforecast['product_id'].unique())][\n",
    "    (day_diff > 0) & (day_diff <= 90)\n",
    "].copy()\n",
    "df_actual_90d.shape"
   ]
  },
  {
   "cell_type": "markdown",
   "id": "4b523acb-aae3-4b26-856d-f43b44defc98",
   "metadata": {
    "id": "d40a95ad0616"
   },
   "source": [
    "**Plot the historical and forecast data.**\n"
   ]
  },
  {
   "cell_type": "code",
   "execution_count": 49,
   "id": "923d7d34-fcf0-4384-a4b3-0e15f2ff9ed6",
   "metadata": {
    "id": "c6845ad425d3"
   },
   "outputs": [
    {
     "name": "stdout",
     "output_type": "stream",
     "text": [
      "Product_id :  13596\n"
     ]
    },
    {
     "data": {
      "image/png": "[encoded data removed]",
      "text/plain": [
       "<Figure size 1500x400 with 1 Axes>"
      ]
     },
     "metadata": {},
     "output_type": "display_data"
    },
    {
     "name": "stdout",
     "output_type": "stream",
     "text": [
      "Product_id :  20547\n"
     ]
    },
    {
     "data": {
      "image/png": "[encoded data removed]",
      "text/plain": [
       "<Figure size 1500x400 with 1 Axes>"
      ]
     },
     "metadata": {},
     "output_type": "display_data"
    },
    {
     "name": "stdout",
     "output_type": "stream",
     "text": [
      "Product_id :  20552\n"
     ]
    },
    {
     "data": {
      "image/png": "[encoded data removed]",
      "text/plain": [
       "<Figure size 1500x400 with 1 Axes>"
      ]
     },
     "metadata": {},
     "output_type": "display_data"
    },
    {
     "name": "stdout",
     "output_type": "stream",
     "text": [
      "Product_id :  23641\n"
     ]
    },
    {
     "data": {
      "image/png": "[encoded data removed]",
      "text/plain": [
       "<Figure size 1500x400 with 1 Axes>"
      ]
     },
     "metadata": {},
     "output_type": "display_data"
    },
    {
     "name": "stdout",
     "output_type": "stream",
     "text": [
      "Product_id :  28305\n"
     ]
    },
    {
     "data": {
      "image/png": "[encoded data removed]",
      "text/plain": [
       "<Figure size 1500x400 with 1 Axes>"
      ]
     },
     "metadata": {},
     "output_type": "display_data"
    }
   ],
   "source": [
    "def plot_hist_forecast(\n",
    "    historical, forecast, actual, hist_start='', hist_end='', title=''\n",
    "):\n",
    "    if hist_start != '':\n",
    "        historical = historical[\n",
    "            historical['date'] >= pd.to_datetime(hist_start, format='%Y-%m-%d')\n",
    "        ].copy()\n",
    "    if hist_end != '':\n",
    "        historical = historical[\n",
    "            historical['date'] <= pd.to_datetime(hist_end, format='%Y-%m-%d')\n",
    "        ].copy()\n",
    "\n",
    "    plt.figure(figsize=(15, 4))\n",
    "    plt.plot(historical['date'], historical['sales_count'], label='historical')\n",
    "    # Plot the forecast data\n",
    "    plt.plot(\n",
    "        forecast['forecast_timestamp'],\n",
    "        forecast['forecast_value_rnd'],\n",
    "        label='forecast',\n",
    "        linestyle='--',\n",
    "    )\n",
    "    # Plot the actual data\n",
    "    plt.plot(actual['date'], actual['sales_count'], label='actual')\n",
    "    # plot the confidence interval\n",
    "    confidence_level = forecast['confidence_level'].iloc[0] * 100\n",
    "    low_CI = forecast['confidence_interval_lower_bound_rnd']\n",
    "    upper_CI = forecast['confidence_interval_upper_bound_rnd']\n",
    "\n",
    "    # Shade the confidence interval\n",
    "    plt.fill_between(\n",
    "        forecast['forecast_timestamp'],\n",
    "        low_CI,\n",
    "        upper_CI,\n",
    "        color='#539caf',\n",
    "        alpha=0.4,\n",
    "        label=f'{confidence_level} confidence interval',\n",
    "    )\n",
    "    plt.legend()\n",
    "    plt.title(title)\n",
    "    plt.show()\n",
    "    return\n",
    "\n",
    "\n",
    "product_id_list = dfforecast['product_id'].unique()\n",
    "for i in product_id_list:\n",
    "    print('Product_id : ', i)\n",
    "    plot_hist_forecast(\n",
    "        df_historical[df_historical['product_id'] == i],\n",
    "        dfforecast[dfforecast['product_id'] == i],\n",
    "        df_actual_90d[df_actual_90d['product_id'] == i],\n",
    "        hist_start='2023-02-01',\n",
    "        title=i,\n",
    "    )"
   ]
  },
  {
   "cell_type": "markdown",
   "id": "611ea679-0206-4303-8a53-326f65a8b8bc",
   "metadata": {
    "id": "76b5f6fab0b8"
   },
   "source": [
    "While most of the predictions are looking decent, you can also see that the actual ranges fall into the 90% confidence interval suggested by the model. Under the hood, BigQuery ML performs many computationally expensive tasks even considering the seasonal and holiday information.\n",
    "<img src=\"https://cloud.google.com/bigquery-ml/images/BQ_ARIMA_diagram.png\"> <a href=\"https://cloud.google.com/bigquery-ml/docs/reference/standard-sql/bigqueryml-syntax-create-time-series\"> Source</a> </img>\n",
    "\n",
    "The coefficients learned by BigQuery ML's ARIMA model can also be checked by querying for <a href=\"https://cloud.google.com/bigquery-ml/docs/reference/standard-sql/bigqueryml-syntax-arima-coefficients\">ARIMA_COEFFICIENTS</a> from the model."
   ]
  },
  {
   "cell_type": "code",
   "execution_count": 50,
   "id": "70d0bbe6-8f73-4915-96be-2d187bdd91b7",
   "metadata": {
    "id": "owAuWLkAp94U"
   },
   "outputs": [],
   "source": [
    "query = f'''\n",
    "SELECT\n",
    "  *\n",
    "FROM \n",
    "  ML.ARIMA_COEFFICIENTS(MODEL {dataset_id}.arima_model)\n",
    "'''\n",
    "query_job = bq_client.query(query)"
   ]
  },
  {
   "cell_type": "code",
   "execution_count": 51,
   "id": "84b6e472-5396-4a92-9e38-4f3b5bfb642f",
   "metadata": {
    "id": "l3xmi8bOp94U"
   },
   "outputs": [
    {
     "data": {
      "text/html": [
       "<div>\n",
       "<style scoped>\n",
       "    .dataframe tbody tr th:only-of-type {\n",
       "        vertical-align: middle;\n",
       "    }\n",
       "\n",
       "    .dataframe tbody tr th {\n",
       "        vertical-align: top;\n",
       "    }\n",
       "\n",
       "    .dataframe thead th {\n",
       "        text-align: right;\n",
       "    }\n",
       "</style>\n",
       "<table border=\"1\" class=\"dataframe\">\n",
       "  <thead>\n",
       "    <tr style=\"text-align: right;\">\n",
       "      <th></th>\n",
       "      <th>product_id</th>\n",
       "      <th>ar_coefficients</th>\n",
       "      <th>ma_coefficients</th>\n",
       "      <th>intercept_or_drift</th>\n",
       "    </tr>\n",
       "  </thead>\n",
       "  <tbody>\n",
       "    <tr>\n",
       "      <th>0</th>\n",
       "      <td>13596</td>\n",
       "      <td>[]</td>\n",
       "      <td>[]</td>\n",
       "      <td>0.000000</td>\n",
       "    </tr>\n",
       "    <tr>\n",
       "      <th>1</th>\n",
       "      <td>20547</td>\n",
       "      <td>[]</td>\n",
       "      <td>[]</td>\n",
       "      <td>0.000653</td>\n",
       "    </tr>\n",
       "    <tr>\n",
       "      <th>2</th>\n",
       "      <td>20552</td>\n",
       "      <td>[]</td>\n",
       "      <td>[0.1090983535507289]</td>\n",
       "      <td>0.000000</td>\n",
       "    </tr>\n",
       "    <tr>\n",
       "      <th>3</th>\n",
       "      <td>23641</td>\n",
       "      <td>[]</td>\n",
       "      <td>[]</td>\n",
       "      <td>0.000000</td>\n",
       "    </tr>\n",
       "    <tr>\n",
       "      <th>4</th>\n",
       "      <td>28305</td>\n",
       "      <td>[]</td>\n",
       "      <td>[]</td>\n",
       "      <td>0.000000</td>\n",
       "    </tr>\n",
       "  </tbody>\n",
       "</table>\n",
       "</div>"
      ],
      "text/plain": [
       "   product_id ar_coefficients       ma_coefficients  intercept_or_drift\n",
       "0       13596              []                    []            0.000000\n",
       "1       20547              []                    []            0.000653\n",
       "2       20552              []  [0.1090983535507289]            0.000000\n",
       "3       23641              []                    []            0.000000\n",
       "4       28305              []                    []            0.000000"
      ]
     },
     "execution_count": 51,
     "metadata": {},
     "output_type": "execute_result"
    }
   ],
   "source": [
    "query_job.to_dataframe()"
   ]
  },
  {
   "cell_type": "markdown",
   "id": "6c12407f-08e2-46e2-8474-128aa310a902",
   "metadata": {
    "id": "f37aa9ddfb8f"
   },
   "source": [
    "In the above results, \n",
    "- The <b>product_id</b> column represents the index column that we've specified while training the ARIMA model.\n",
    "- The <b>ar_coefficients</b> column corresponds to the autoregressive coefficients in the ARIMA algorithm (non-seasonal p).\n",
    "- <b>ma_coefficients</b> refers to the moving average coefficients in the ARIMA algorithm (non-seasonal q).\n",
    "- <b>intercept_or_drift</b> is the constant term in the ARIMA algorithm."
   ]
  },
  {
   "cell_type": "markdown",
   "id": "d480c839-933d-42c2-959e-b2199dbf72a2",
   "metadata": {
    "id": "27bf1ef88ea7"
   },
   "source": [
    "## Evaluating the model results using BigQuery ML \n",
    "\n",
    "BigQuery ML also provides the <a href=\"https://cloud.google.com/bigquery-ml/docs/reference/standard-sql/bigqueryml-syntax-evaluate\">ML.EVALUATE</a> function for checking the evaluation metrics of the trained model. For the ARIMA model, you can see the model being evaluated on `log_likelihood`, `AIC` and `variance`. "
   ]
  },
  {
   "cell_type": "code",
   "execution_count": 52,
   "id": "49f335b9-0975-4bed-a988-6ad15d1303f9",
   "metadata": {
    "id": "CtM-g5ixp94V"
   },
   "outputs": [],
   "source": [
    "query = f'''\n",
    "SELECT\n",
    "  *\n",
    "FROM\n",
    "  ML.EVALUATE(MODEL {dataset_id}.arima_model)\n",
    "'''\n",
    "query_job = bq_client.query(query)"
   ]
  },
  {
   "cell_type": "code",
   "execution_count": 53,
   "id": "395a97a9-170b-4400-b0cd-99295075354c",
   "metadata": {
    "id": "JQwOWcgMp94V"
   },
   "outputs": [
    {
     "data": {
      "text/html": [
       "<div>\n",
       "<style scoped>\n",
       "    .dataframe tbody tr th:only-of-type {\n",
       "        vertical-align: middle;\n",
       "    }\n",
       "\n",
       "    .dataframe tbody tr th {\n",
       "        vertical-align: top;\n",
       "    }\n",
       "\n",
       "    .dataframe thead th {\n",
       "        text-align: right;\n",
       "    }\n",
       "</style>\n",
       "<table border=\"1\" class=\"dataframe\">\n",
       "  <thead>\n",
       "    <tr style=\"text-align: right;\">\n",
       "      <th></th>\n",
       "      <th>product_id</th>\n",
       "      <th>non_seasonal_p</th>\n",
       "      <th>non_seasonal_d</th>\n",
       "      <th>non_seasonal_q</th>\n",
       "      <th>has_drift</th>\n",
       "      <th>log_likelihood</th>\n",
       "      <th>AIC</th>\n",
       "      <th>variance</th>\n",
       "      <th>seasonal_periods</th>\n",
       "      <th>has_holiday_effect</th>\n",
       "      <th>has_spikes_and_dips</th>\n",
       "      <th>has_step_changes</th>\n",
       "    </tr>\n",
       "  </thead>\n",
       "  <tbody>\n",
       "    <tr>\n",
       "      <th>0</th>\n",
       "      <td>13596</td>\n",
       "      <td>0</td>\n",
       "      <td>2</td>\n",
       "      <td>0</td>\n",
       "      <td>False</td>\n",
       "      <td>2691.656780</td>\n",
       "      <td>-5381.313560</td>\n",
       "      <td>2.211079e-08</td>\n",
       "      <td>[WEEKLY, MONTHLY, QUARTERLY]</td>\n",
       "      <td>False</td>\n",
       "      <td>True</td>\n",
       "      <td>False</td>\n",
       "    </tr>\n",
       "    <tr>\n",
       "      <th>1</th>\n",
       "      <td>20547</td>\n",
       "      <td>0</td>\n",
       "      <td>1</td>\n",
       "      <td>0</td>\n",
       "      <td>True</td>\n",
       "      <td>1958.712420</td>\n",
       "      <td>-3913.424841</td>\n",
       "      <td>1.277574e-06</td>\n",
       "      <td>[WEEKLY, MONTHLY, QUARTERLY]</td>\n",
       "      <td>False</td>\n",
       "      <td>True</td>\n",
       "      <td>True</td>\n",
       "    </tr>\n",
       "    <tr>\n",
       "      <th>2</th>\n",
       "      <td>20552</td>\n",
       "      <td>0</td>\n",
       "      <td>2</td>\n",
       "      <td>1</td>\n",
       "      <td>False</td>\n",
       "      <td>2507.187216</td>\n",
       "      <td>-5010.374432</td>\n",
       "      <td>6.092246e-08</td>\n",
       "      <td>[WEEKLY, MONTHLY, QUARTERLY]</td>\n",
       "      <td>False</td>\n",
       "      <td>True</td>\n",
       "      <td>False</td>\n",
       "    </tr>\n",
       "    <tr>\n",
       "      <th>3</th>\n",
       "      <td>23641</td>\n",
       "      <td>0</td>\n",
       "      <td>2</td>\n",
       "      <td>0</td>\n",
       "      <td>False</td>\n",
       "      <td>2771.032261</td>\n",
       "      <td>-5540.064522</td>\n",
       "      <td>1.429539e-08</td>\n",
       "      <td>[WEEKLY, MONTHLY, QUARTERLY]</td>\n",
       "      <td>False</td>\n",
       "      <td>True</td>\n",
       "      <td>False</td>\n",
       "    </tr>\n",
       "    <tr>\n",
       "      <th>4</th>\n",
       "      <td>28305</td>\n",
       "      <td>0</td>\n",
       "      <td>2</td>\n",
       "      <td>0</td>\n",
       "      <td>False</td>\n",
       "      <td>2757.135374</td>\n",
       "      <td>-5512.270749</td>\n",
       "      <td>1.542969e-08</td>\n",
       "      <td>[WEEKLY, MONTHLY, QUARTERLY]</td>\n",
       "      <td>False</td>\n",
       "      <td>True</td>\n",
       "      <td>False</td>\n",
       "    </tr>\n",
       "  </tbody>\n",
       "</table>\n",
       "</div>"
      ],
      "text/plain": [
       "   product_id  non_seasonal_p  non_seasonal_d  non_seasonal_q  has_drift  \\\n",
       "0       13596               0               2               0      False   \n",
       "1       20547               0               1               0       True   \n",
       "2       20552               0               2               1      False   \n",
       "3       23641               0               2               0      False   \n",
       "4       28305               0               2               0      False   \n",
       "\n",
       "   log_likelihood          AIC      variance              seasonal_periods  \\\n",
       "0     2691.656780 -5381.313560  2.211079e-08  [WEEKLY, MONTHLY, QUARTERLY]   \n",
       "1     1958.712420 -3913.424841  1.277574e-06  [WEEKLY, MONTHLY, QUARTERLY]   \n",
       "2     2507.187216 -5010.374432  6.092246e-08  [WEEKLY, MONTHLY, QUARTERLY]   \n",
       "3     2771.032261 -5540.064522  1.429539e-08  [WEEKLY, MONTHLY, QUARTERLY]   \n",
       "4     2757.135374 -5512.270749  1.542969e-08  [WEEKLY, MONTHLY, QUARTERLY]   \n",
       "\n",
       "   has_holiday_effect  has_spikes_and_dips  has_step_changes  \n",
       "0               False                 True             False  \n",
       "1               False                 True              True  \n",
       "2               False                 True             False  \n",
       "3               False                 True             False  \n",
       "4               False                 True             False  "
      ]
     },
     "execution_count": 53,
     "metadata": {},
     "output_type": "execute_result"
    }
   ],
   "source": [
    "query_job.to_dataframe()"
   ]
  },
  {
   "cell_type": "markdown",
   "id": "cdafae56-e2b7-4473-b26a-28d4f45e8fdf",
   "metadata": {},
   "source": [
    "## Evaluating the model results - MAE, MAPE, MSE, RMSE (on Test data)\n",
    "\n",
    "Generally, to evaluate the forecast model, you can choose metrics depending on how you want to evaluate. For starters, you can choose from the following:\n",
    "\n",
    "- **Mean Absolute Error (MAE)**: Average of the absolute differences between the actual values and the forecasted values.\n",
    "- **Mean Absolute Percentage Error (MAPE)**: Average of the percentages of absolute difference between the actual and forecasted values to the actual values.\n",
    "- **Mean Squared Error (MSE)**: Average of squared differences between the actual and forecasted values.\n",
    "- **Root Mean Squared Error (RMSE)**: Root of MSE"
   ]
  },
  {
   "cell_type": "code",
   "execution_count": 54,
   "id": "cd722d4e-0aa3-41e5-9423-4eec4b41bdd8",
   "metadata": {},
   "outputs": [],
   "source": [
    "df_actual_90d.sort_values(by=['product_id', 'date'], inplace=True)\n",
    "df_actual_90d.reset_index(drop=True, inplace=True)\n",
    "dfforecast.sort_values(by=['product_id', 'forecast_timestamp'], inplace=True)\n",
    "dfforecast.reset_index(drop=True, inplace=True)"
   ]
  },
  {
   "cell_type": "code",
   "execution_count": 61,
   "id": "6e8c83e1-caa9-47b6-82c5-40a9df83e603",
   "metadata": {},
   "outputs": [
    {
     "data": {
      "text/html": [
       "<div>\n",
       "<style scoped>\n",
       "    .dataframe tbody tr th:only-of-type {\n",
       "        vertical-align: middle;\n",
       "    }\n",
       "\n",
       "    .dataframe tbody tr th {\n",
       "        vertical-align: top;\n",
       "    }\n",
       "\n",
       "    .dataframe thead th {\n",
       "        text-align: right;\n",
       "    }\n",
       "</style>\n",
       "<table border=\"1\" class=\"dataframe\">\n",
       "  <thead>\n",
       "    <tr style=\"text-align: right;\">\n",
       "      <th></th>\n",
       "      <th>product_id</th>\n",
       "      <th>MAE</th>\n",
       "      <th>MAPE</th>\n",
       "      <th>MSE</th>\n",
       "      <th>RMSE</th>\n",
       "    </tr>\n",
       "  </thead>\n",
       "  <tbody>\n",
       "    <tr>\n",
       "      <th>0</th>\n",
       "      <td>13596</td>\n",
       "      <td>0.700000</td>\n",
       "      <td>9.507599e+14</td>\n",
       "      <td>1.233333</td>\n",
       "      <td>1.110555</td>\n",
       "    </tr>\n",
       "    <tr>\n",
       "      <th>1</th>\n",
       "      <td>20547</td>\n",
       "      <td>0.577778</td>\n",
       "      <td>1.651320e+15</td>\n",
       "      <td>0.622222</td>\n",
       "      <td>0.788811</td>\n",
       "    </tr>\n",
       "    <tr>\n",
       "      <th>2</th>\n",
       "      <td>20552</td>\n",
       "      <td>0.977778</td>\n",
       "      <td>2.401920e+15</td>\n",
       "      <td>1.644444</td>\n",
       "      <td>1.282359</td>\n",
       "    </tr>\n",
       "    <tr>\n",
       "      <th>3</th>\n",
       "      <td>23641</td>\n",
       "      <td>0.488889</td>\n",
       "      <td>7.505999e+14</td>\n",
       "      <td>0.644444</td>\n",
       "      <td>0.802773</td>\n",
       "    </tr>\n",
       "    <tr>\n",
       "      <th>4</th>\n",
       "      <td>28305</td>\n",
       "      <td>0.888889</td>\n",
       "      <td>2.401920e+15</td>\n",
       "      <td>1.333333</td>\n",
       "      <td>1.154701</td>\n",
       "    </tr>\n",
       "  </tbody>\n",
       "</table>\n",
       "</div>"
      ],
      "text/plain": [
       "   product_id       MAE          MAPE       MSE      RMSE\n",
       "0       13596  0.700000  9.507599e+14  1.233333  1.110555\n",
       "1       20547  0.577778  1.651320e+15  0.622222  0.788811\n",
       "2       20552  0.977778  2.401920e+15  1.644444  1.282359\n",
       "3       23641  0.488889  7.505999e+14  0.644444  0.802773\n",
       "4       28305  0.888889  2.401920e+15  1.333333  1.154701"
      ]
     },
     "execution_count": 61,
     "metadata": {},
     "output_type": "execute_result"
    }
   ],
   "source": [
    "errors = {'product_id': [], 'MAE': [], 'MAPE': [], 'MSE': [], 'RMSE': []}\n",
    "for i in product_id_list:\n",
    "    mae = mean_absolute_error(\n",
    "        df_actual_90d[df_actual_90d['product_id'] == i]['sales_count'],\n",
    "        dfforecast[dfforecast['product_id'] == i]['forecast_value_rnd'],\n",
    "    )\n",
    "    mape = mean_absolute_percentage_error(\n",
    "        df_actual_90d[df_actual_90d['product_id'] == i]['sales_count'],\n",
    "        dfforecast[dfforecast['product_id'] == i]['forecast_value_rnd'],\n",
    "    )\n",
    "\n",
    "    mse = mean_squared_error(\n",
    "        df_actual_90d[df_actual_90d['product_id'] == i]['sales_count'],\n",
    "        dfforecast[dfforecast['product_id'] == i]['forecast_value_rnd'],\n",
    "        squared=True,\n",
    "    )\n",
    "\n",
    "    rmse = mean_squared_error(\n",
    "        df_actual_90d[df_actual_90d['product_id'] == i]['sales_count'],\n",
    "        dfforecast[dfforecast['product_id'] == i]['forecast_value_rnd'],\n",
    "        squared=False,\n",
    "    )\n",
    "\n",
    "    errors['product_id'].append(i)\n",
    "    errors['MAE'].append(mae)\n",
    "    errors['MAPE'].append(mape)\n",
    "    errors['MSE'].append(mse)\n",
    "    errors['RMSE'].append(rmse)\n",
    "errors = pd.DataFrame(errors)\n",
    "errors"
   ]
  },
  {
   "cell_type": "markdown",
   "id": "460acdf5-2fb2-4cce-ac3f-93dce3efd907",
   "metadata": {
    "jp-MarkdownHeadingCollapsed": true,
    "tags": []
   },
   "source": [
    "# Part 2 : Automating pipeline creation with AutoMLOps<a id='automlops'></a>"
   ]
  },
  {
   "cell_type": "markdown",
   "id": "00e69055-9e3d-4269-87dd-1825e0004d7d",
   "metadata": {
    "tags": []
   },
   "source": [
    "## Import AutoMLOps"
   ]
  },
  {
   "cell_type": "code",
   "execution_count": 62,
   "id": "a240118d-6e9d-494a-a0e7-83d67360c286",
   "metadata": {},
   "outputs": [],
   "source": [
    "from google_cloud_automlops import AutoMLOps"
   ]
  },
  {
   "cell_type": "markdown",
   "id": "20ad9f17-874f-4845-81ba-d2419d3cf5e4",
   "metadata": {},
   "source": [
    "## Other Imports"
   ]
  },
  {
   "cell_type": "code",
   "execution_count": null,
   "id": "1041dd30-240b-4cd8-b66f-8eba8f8f9724",
   "metadata": {},
   "outputs": [],
   "source": [
    "!pip3 install 'kfp<2.0.0'"
   ]
  },
  {
   "cell_type": "code",
   "execution_count": 63,
   "id": "fb7e69f1-6129-44cd-91b5-5c840f403334",
   "metadata": {},
   "outputs": [],
   "source": [
    "from kfp.v2 import dsl\n",
    "from kfp.v2.dsl import Artifact, Dataset, Metrics, Output"
   ]
  },
  {
   "cell_type": "markdown",
   "id": "ab5061a5-f94e-4285-b98f-d663b271e6b9",
   "metadata": {
    "tags": []
   },
   "source": [
    "## Clear the cache\n",
    "`AutoMLOps.clear_cache` will remove previous instantiations of AutoMLOps components and pipelines. Use this function if you have previously defined a component that you no longer need."
   ]
  },
  {
   "cell_type": "code",
   "execution_count": 64,
   "id": "e5d1d275-db30-4189-ba54-41ea700e4b3d",
   "metadata": {},
   "outputs": [
    {
     "name": "stdout",
     "output_type": "stream",
     "text": [
      "Cache cleared.\n"
     ]
    }
   ],
   "source": [
    "AutoMLOps.clear_cache()"
   ]
  },
  {
   "cell_type": "markdown",
   "id": "c2fc9f06-de7c-4593-afe6-9a359152cc8c",
   "metadata": {
    "tags": []
   },
   "source": [
    "## Define an AutoMLOps component for Preparing Sales Table"
   ]
  },
  {
   "cell_type": "code",
   "execution_count": 65,
   "id": "2a302583-85a8-4687-bd9a-578f8c955eb3",
   "metadata": {},
   "outputs": [],
   "source": [
    "@AutoMLOps.component\n",
    "def prepare_sales_table(\n",
    "    dataset_id: str,\n",
    "    project_id: str,\n",
    "    sales_table: str\n",
    "):\n",
    "    \"\"\"Custom component that prepares the sales table.\n",
    "\n",
    "    Args:\n",
    "        dataset_id: Destination BigQuery dataset.\n",
    "        project_id: The project ID.\n",
    "        sales_table: Source BigQuery table.\n",
    "    \"\"\"\n",
    "    import datetime\n",
    "    \n",
    "    import pandas as pd\n",
    "    from google.cloud import bigquery\n",
    "    bq_client = bigquery.Client(project=project_id)\n",
    "\n",
    "    def merge_dataframes(base_df, dates_df, product_id):\n",
    "        ''' Zero-fill dates with no product purchases'''\n",
    "        dataframe = (\n",
    "            pd.merge(\n",
    "                base_df.loc[base_df['product_id'] == product_id],\n",
    "                dates_df,\n",
    "                left_on='date',\n",
    "                right_on=0,\n",
    "                how='outer',\n",
    "            )\n",
    "            .sort_values(by=['date'])\n",
    "            .drop(columns=0)\n",
    "        )  # merging dates dataframe with product_id matching rows\n",
    "        dataframe['product_id'] = product_id  # product_id will be null so making it the specified values\n",
    "        dataframe.reset_index(inplace=True, drop=True)  # making index to start from 0\n",
    "        dataframe = dataframe.fillna(0)  # for sales_count making null values as 0\n",
    "        dataframe['sales_count'] = dataframe['sales_count'].astype(\n",
    "            'int'\n",
    "        )\n",
    "        return dataframe\n",
    "\n",
    "    query = f'''\n",
    "    SELECT * FROM {dataset_id}.top_five_products\n",
    "    '''\n",
    "    query_job = bq_client.query(query)\n",
    "    df = query_job.to_dataframe()\n",
    "    \n",
    "    df['date'] = pd.to_datetime(df['date'], format='%Y-%m-%d')\n",
    "    end_time = datetime.datetime.now().strftime('%Y-%m-%d')\n",
    "    start_time = '2018-08-14' # min date\n",
    "    dates = pd.date_range(start=start_time, end=end_time).to_frame()\n",
    "    \n",
    "    product_dataframes = []\n",
    "    for product_id in df['product_id'].unique():\n",
    "        product_dataframes.append(merge_dataframes(df, dates, product_id))\n",
    "    \n",
    "    full_df = pd.concat(product_dataframes)\n",
    "    full_df.reset_index(inplace=True, drop=True)\n",
    "\n",
    "    job_config = bigquery.LoadJobConfig(\n",
    "        schema=[\n",
    "            bigquery.SchemaField('product_id', bigquery.enums.SqlTypeNames.INTEGER),\n",
    "            bigquery.SchemaField('date', bigquery.enums.SqlTypeNames.DATE),\n",
    "            bigquery.SchemaField('sales_count', bigquery.enums.SqlTypeNames.INTEGER),\n",
    "        ],\n",
    "        write_disposition='WRITE_TRUNCATE'\n",
    "    )\n",
    "    # save the dataframe to a table in the created dataset\n",
    "    job = bq_client.load_table_from_dataframe(\n",
    "        full_df,\n",
    "        f'{project_id}.{dataset_id}.{sales_table}',\n",
    "        job_config=job_config)\n",
    "    job.result()"
   ]
  },
  {
   "cell_type": "markdown",
   "id": "2808b2e9-a296-4fbb-950d-0a958dd1faaa",
   "metadata": {
    "tags": []
   },
   "source": [
    "## Define an AutoMLOps component for Creating Training Data"
   ]
  },
  {
   "cell_type": "code",
   "execution_count": 66,
   "id": "c896ce62-1108-47d0-a9dd-46c74f9f9b96",
   "metadata": {},
   "outputs": [],
   "source": [
    "@AutoMLOps.component\n",
    "def create_training_dataset(\n",
    "    dataset_id: str,\n",
    "    project_id: str,\n",
    "    sales_table: str,\n",
    "    year_range: int\n",
    "):\n",
    "    \"\"\"Custom component that creates training data, ranging from today to N year(s) ago.\n",
    "\n",
    "    Args:\n",
    "        dataset_id: Destination BigQuery dataset.\n",
    "        project_id: The project ID.\n",
    "        sales_table: Source BigQuery table.\n",
    "        year_range: Number of years to train the model on.\n",
    "    \"\"\"\n",
    "    from google.cloud import bigquery\n",
    "    bq_client = bigquery.Client(project=project_id)\n",
    "\n",
    "    query = f'''\n",
    "    CREATE OR REPLACE TABLE {project_id}.{dataset_id}.training_data AS (\n",
    "        SELECT\n",
    "            *\n",
    "        FROM\n",
    "            `{dataset_id}.{sales_table}`\n",
    "        WHERE\n",
    "            date BETWEEN DATE_ADD(CURRENT_DATE(), INTERVAL -{year_range} YEAR) AND CURRENT_DATE()\n",
    "            );\n",
    "    '''\n",
    "    query_job = bq_client.query(query)\n",
    "    print(query_job.result())"
   ]
  },
  {
   "cell_type": "markdown",
   "id": "0d1f8ef2-4e18-46a4-a891-dc27c889b6b7",
   "metadata": {
    "tags": []
   },
   "source": [
    "## Define an AutoMLOps component for Model Training"
   ]
  },
  {
   "cell_type": "code",
   "execution_count": 67,
   "id": "29a7bace-47be-4321-a4a0-708792381fae",
   "metadata": {},
   "outputs": [],
   "source": [
    "@AutoMLOps.component\n",
    "def train_model(\n",
    "    dataset_id: str,\n",
    "    model_name: str,\n",
    "    model_type: str,\n",
    "    project_id: str\n",
    "):\n",
    "    \"\"\"Train an ARIMA model on the training dataset.\n",
    "\n",
    "    Args:\n",
    "        dataset_id: Destination BigQuery dataset.\n",
    "        model_name: Name for the model.\n",
    "        model_type: The column which are the labels.\n",
    "        project_id: The project ID.\n",
    "    \"\"\"\n",
    "    from google.cloud import bigquery\n",
    "    bq_client = bigquery.Client(project=project_id)\n",
    "\n",
    "    query = f'''\n",
    "    CREATE OR REPLACE MODEL `{project_id}.{dataset_id}.{model_name}`\n",
    "\n",
    "    OPTIONS(\n",
    "      MODEL_TYPE='{model_type}',\n",
    "      TIME_SERIES_TIMESTAMP_COL='date',\n",
    "      TIME_SERIES_DATA_COL='sales_count',\n",
    "      TIME_SERIES_ID_COL='product_id',\n",
    "      SEASONALITIES=['DAILY','WEEKLY','MONTHLY','QUARTERLY','YEARLY'],\n",
    "      DATA_FREQUENCY='DAILY',\n",
    "      model_registry='vertex_ai') AS\n",
    "\n",
    "    SELECT\n",
    "        date,\n",
    "        product_id,\n",
    "        sales_count\n",
    "    FROM\n",
    "      `{dataset_id}.training_data`\n",
    "    '''\n",
    "    query_job = bq_client.query(query)\n",
    "    print(query_job.result())"
   ]
  },
  {
   "cell_type": "markdown",
   "id": "9db829e3-8e97-4ad5-af08-f15f05d047d6",
   "metadata": {
    "tags": []
   },
   "source": [
    "## Define a Component for Model Evaluation"
   ]
  },
  {
   "cell_type": "code",
   "execution_count": 68,
   "id": "85d4cb64-8645-49d5-9b97-1ebe489b0814",
   "metadata": {
    "tags": []
   },
   "outputs": [],
   "source": [
    "@dsl.component(\n",
    "    packages_to_install=[\n",
    "        'google-cloud-bigquery', \n",
    "        'pandas',\n",
    "        'pyarrow',\n",
    "        'db_dtypes'\n",
    "    ],\n",
    "    output_component_file=f'{AutoMLOps.OUTPUT_DIR}/evaluate_model.yaml')\n",
    "def evaluate_model(\n",
    "    dataset_id: str,\n",
    "    metrics: Output[Metrics],\n",
    "    model_name: str,\n",
    "    project_id: str\n",
    "):\n",
    "    \"\"\"Evaluate the trained ARIMA model.\n",
    "\n",
    "    Args:\n",
    "        dataset_id: Destination BigQuery dataset.\n",
    "        model_name: Name for the model.\n",
    "        project_id: The project ID.\n",
    "    \"\"\"\n",
    "    from google.cloud import bigquery\n",
    "    bq_client = bigquery.Client(project=project_id)\n",
    "\n",
    "    query = f'''\n",
    "    SELECT\n",
    "      *\n",
    "    FROM\n",
    "      ML.EVALUATE(MODEL {dataset_id}.{model_name})\n",
    "    '''\n",
    "    query_job = bq_client.query(query)\n",
    "    results = query_job.result().to_dataframe()\n",
    "\n",
    "    for _, row in results.iterrows():\n",
    "        for m in ['log_likelihood', 'AIC', 'variance']:\n",
    "            metrics.log_metric(f'''Product id: {row['product_id']} | Metric: {m}''', row[m])"
   ]
  },
  {
   "cell_type": "markdown",
   "id": "962468ae-c9a8-4df4-8739-b0c5008904cc",
   "metadata": {
    "tags": []
   },
   "source": [
    "## Define a Component for Forecasting"
   ]
  },
  {
   "cell_type": "code",
   "execution_count": 69,
   "id": "a7564a4c-ea69-4023-91eb-68f5a57d6899",
   "metadata": {
    "tags": []
   },
   "outputs": [],
   "source": [
    "@dsl.component(\n",
    "    packages_to_install=[\n",
    "        'google-cloud-bigquery'\n",
    "    ],\n",
    "    output_component_file=f'{AutoMLOps.OUTPUT_DIR}/forecast.yaml')\n",
    "def forecast(\n",
    "    bq_forecast_table: Output[Dataset],\n",
    "    confidence_lvl: float,\n",
    "    dashboard: Output[Artifact],\n",
    "    dataset_id: str,\n",
    "    forecast_horizon: int,\n",
    "    project_id: str\n",
    "):\n",
    "    \"\"\"Custom component that runs a forecast for a given horizon period.\n",
    "\n",
    "    Args:\n",
    "        bq_forecast_table: Full uri of the BQ table forecast results.\n",
    "        confidence_lvl: Required confidence level.\n",
    "        dashboard: URL of the Looker dashboard.\n",
    "        dataset_id: Destination BigQuery dataset.\n",
    "        forecast_horizon: Number of days forward to forecast.\n",
    "        project_id: The project ID.\n",
    "    \"\"\"\n",
    "    from google.cloud import bigquery\n",
    "    bq_client = bigquery.Client(project=project_id)\n",
    "\n",
    "    query = f'''DECLARE HORIZON STRING DEFAULT \"{forecast_horizon}\";\n",
    "    DECLARE CONFIDENCE_LEVEL STRING DEFAULT \"{confidence_lvl}\";\n",
    "\n",
    "    EXECUTE IMMEDIATE format(\"\"\"\n",
    "        CREATE OR REPLACE VIEW {dataset_id}.arima_forecast AS (\n",
    "        SELECT\n",
    "          * , \n",
    "          ROUND(forecast_value) AS forecast_value_rnd,\n",
    "          ROUND(forecast_value) - standard_error AS prediction_interval_lower_bound_rnd,\n",
    "          ROUND(forecast_value) - standard_error AS confidence_interval_lower_bound_rnd,\n",
    "          ROUND(forecast_value) + standard_error AS prediction_interval_upper_bound_rnd,\n",
    "          ROUND(forecast_value) + standard_error AS confidence_interval_upper_bound_rnd\n",
    "        FROM\n",
    "          ML.FORECAST(MODEL {dataset_id}.arima_model,\n",
    "                      STRUCT(%s AS horizon,\n",
    "                             %s AS confidence_level)\n",
    "                     )\n",
    "        )\n",
    "        \"\"\",HORIZON,CONFIDENCE_LEVEL)'''\n",
    "    job = bq_client.query(query)\n",
    "    bq_forecast_table.uri = f'bq://{project_id}.{dataset_id}.arima_forecast'\n",
    "    dashboard.uri = 'https://lookerstudio.google.com/reporting/526d02a9-37f5-404a-87a4-148343e1cc49'"
   ]
  },
  {
   "cell_type": "markdown",
   "id": "62bdafcf-dafe-461b-a161-b1db0ea1062c",
   "metadata": {
    "tags": []
   },
   "source": [
    "## Define an AutoMLOps pipeline"
   ]
  },
  {
   "cell_type": "code",
   "execution_count": 70,
   "id": "26726ec7-3021-438e-9d60-000cd89483b9",
   "metadata": {},
   "outputs": [],
   "source": [
    "@AutoMLOps.pipeline(\n",
    "    name='bqml-automlops-retail-forecasting',\n",
    "    description='This is an example of retail demand forecasting using AutoMLOps and BQML.')\n",
    "def pipeline(confidence_lvl: float,\n",
    "             dataset_id: str,\n",
    "             forecast_horizon: int,\n",
    "             machine_type: str,\n",
    "             model_name: str,\n",
    "             model_type: str,\n",
    "             project_id: str,\n",
    "             sales_table: str,\n",
    "             year_range: int):\n",
    "    \n",
    "    prepare_sales_table_task = prepare_sales_table(\n",
    "        dataset_id=dataset_id,\n",
    "        project_id=project_id,\n",
    "        sales_table=sales_table)        \n",
    "\n",
    "    create_training_dataset_task = create_training_dataset(\n",
    "        dataset_id=dataset_id,\n",
    "        project_id=project_id,\n",
    "        sales_table=sales_table,\n",
    "        year_range=year_range).after(prepare_sales_table_task)\n",
    "\n",
    "    train_model_task = train_model(\n",
    "        dataset_id=dataset_id,\n",
    "        model_name=model_name,\n",
    "        model_type=model_type,\n",
    "        project_id=project_id).after(create_training_dataset_task)\n",
    "\n",
    "    evaluate_model_task = evaluate_model(\n",
    "        dataset_id=dataset_id,\n",
    "        model_name=model_name,\n",
    "        project_id=project_id).after(train_model_task)\n",
    "    \n",
    "    forecast_task = forecast(\n",
    "        confidence_lvl=confidence_lvl,\n",
    "        dataset_id=dataset_id,\n",
    "        forecast_horizon=forecast_horizon,\n",
    "        project_id=project_id).after(evaluate_model_task)"
   ]
  },
  {
   "cell_type": "markdown",
   "id": "3874f4f6",
   "metadata": {
    "tags": []
   },
   "source": [
    "## Define the Pipeline Arguments"
   ]
  },
  {
   "cell_type": "code",
   "execution_count": 71,
   "id": "4cb3786b",
   "metadata": {},
   "outputs": [],
   "source": [
    "pipeline_params = {\n",
    "    'confidence_lvl': 0.90,\n",
    "    'dataset_id': dataset_id,\n",
    "    'forecast_horizon': 90,\n",
    "    'machine_type': 'n1-standard-4',\n",
    "    'model_name': 'arima_model',\n",
    "    'model_type': 'ARIMA_PLUS',\n",
    "    'project_id': PROJECT_ID,\n",
    "    'sales_table': SALES_TABLE,\n",
    "    'year_range': 1\n",
    "}"
   ]
  },
  {
   "cell_type": "markdown",
   "id": "c1e0aa05",
   "metadata": {
    "tags": []
   },
   "source": [
    "## Generate and Run the pipeline\n",
    "`AutoMLOps.generate(...)` generates the MLOps codebase. Users can specify the tooling and technologies they would like to use in their MLOps pipeline."
   ]
  },
  {
   "cell_type": "code",
   "execution_count": null,
   "id": "5fb26b3e",
   "metadata": {},
   "outputs": [
    {
     "name": "stdout",
     "output_type": "stream",
     "text": [
      "Writing directories under AutoMLOps/\n",
      "Writing configurations to AutoMLOps/configs/defaults.yaml\n",
      "Writing Kubeflow Pipelines code to AutoMLOps/pipelines, AutoMLOps/components, AutoMLOps/services\n",
      "Writing README.md to AutoMLOps/README.md\n",
      "Writing scripts to AutoMLOps/scripts\n",
      "Writing CloudBuild config to AutoMLOps/cloudbuild.yaml\n",
      "Code Generation Complete.\n"
     ]
    }
   ],
   "source": [
    "AutoMLOps.generate(project_id=PROJECT_ID,\n",
    "                   pipeline_params=pipeline_params,\n",
    "                   use_ci=True,\n",
    "                   naming_prefix=MODEL_ID,\n",
    "                   schedule_pattern='59 11 * * 0' # retrain every Sunday at Midnight\n",
    ")"
   ]
  },
  {
   "cell_type": "markdown",
   "id": "9f8f2dfb",
   "metadata": {},
   "source": [
    "`AutoMLOps.provision(...)` runs provisioning scripts to create and maintain necessary infra for MLOps."
   ]
  },
  {
   "cell_type": "code",
   "execution_count": null,
   "id": "8cb0fc2c",
   "metadata": {},
   "outputs": [
    {
     "name": "stdout",
     "output_type": "stream",
     "text": [
      "WARNING: Provisioning requires these permissions:\n",
      "-cloudfunctions.functions.get\n",
      "-serviceusage.services.use\n",
      "-serviceusage.services.enable\n",
      "-cloudfunctions.functions.create\n",
      "-pubsub.subscriptions.list\n",
      "-cloudscheduler.jobs.list\n",
      "-pubsub.topics.create\n",
      "-source.repos.list\n",
      "-artifactregistry.repositories.create\n",
      "-resourcemanager.projects.setIamPolicy\n",
      "-iam.serviceAccounts.listiam.serviceAccounts.create\n",
      "-pubsub.subscriptions.create\n",
      "-cloudscheduler.jobs.create\n",
      "-storage.buckets.create\n",
      "-source.repos.create\n",
      "-artifactregistry.repositories.list\n",
      "-cloudbuild.builds.create\n",
      "-cloudbuild.builds.list\n",
      "-pubsub.topics.list\n",
      "-storage.buckets.get\n",
      "\n",
      "You are currently using: srastatter@google.com. Please check your account permissions.\n",
      "The following are the recommended roles for provisioning:\n",
      "-roles/resourcemanager.projectIamAdmin\n",
      "-roles/cloudfunctions.admin\n",
      "-roles/artifactregistry.admin\n",
      "-roles/iam.serviceAccountAdmin\n",
      "-roles/serviceusage.serviceUsageAdmin\n",
      "-roles/aiplatform.serviceAgent\n",
      "-roles/cloudscheduler.admin\n",
      "-roles/pubsub.editor\n",
      "-roles/source.admin\n",
      "-roles/cloudbuild.builds.editor\n",
      "\n",
      "\u001b[0;32m Setting up API services in project automlops-sandbox \u001b[0m\n",
      "Operation \"operations/acat.p2-45373616427-990bb410-2998-4b37-b37f-09ed724e9519\" finished successfully.\n",
      "\u001b[0;32m Setting up Artifact Registry in project automlops-sandbox \u001b[0m\n",
      "Listing items under project automlops-sandbox, location us-central1.\n",
      "\n",
      "dry-beans-dt-artifact-registry  DOCKER  STANDARD_REPOSITORY  Artifact Registry dry-beans-dt-artifact-registry in us-central1.  us-central1          Google-managed key  2023-09-05T11:25:48  2023-09-05T14:47:39  3200.712\n",
      "Artifact Registry: dry-beans-dt-artifact-registry already exists in project automlops-sandbox\n",
      "\u001b[0;32m Setting up Storage Bucket in project automlops-sandbox \u001b[0m\n",
      "gs://automlops-sandbox-dry-beans-dt-bucket/\n",
      "GS Bucket: automlops-sandbox-dry-beans-dt-bucket already exists in project automlops-sandbox\n",
      "\u001b[0;32m Setting up Pipeline Job Runner Service Account in project automlops-sandbox \u001b[0m\n",
      "Pipeline Runner Service Account         vertex-pipelines@automlops-sandbox.iam.gserviceaccount.com           False\n",
      "Service Account: vertex-pipelines already exists in project automlops-sandbox\n",
      "\u001b[0;32m Setting up IAM roles for Pipeline Job Runner Service Account in project automlops-sandbox \u001b[0m\n",
      "\u001b[0;32m Setting up Cloud Source Repository in project automlops-sandbox \u001b[0m\n",
      "dry-beans-dt-repository  automlops-sandbox  https://source.developers.google.com/p/automlops-sandbox/r/dry-beans-dt-repository\n",
      "Cloud Source Repository: dry-beans-dt-repository already exists in project automlops-sandbox\n",
      "\u001b[0;32m Setting up Queueing Service in project automlops-sandbox \u001b[0m\n",
      "name: projects/automlops-sandbox/topics/dry-beans-dt-queueing-svc\n",
      "Pub/Sub Topic: dry-beans-dt-queueing-svc already exists in project automlops-sandbox\n",
      "\u001b[0;32m Deploying Cloud Functions: dry-beans-dt-job-submission-svc in project automlops-sandbox \u001b[0m\n",
      "Deploying function (may take a while - up to 2 minutes)...\n",
      "..\n",
      "For Cloud Build Logs, visit: https://console.cloud.google.com/cloud-build/builds;region=us-central1/0dcd7601-a440-4c7e-8ea9-28d1cf927991?project=45373616427\n",
      "........................................................................done.\n",
      "availableMemoryMb: 512\n",
      "buildId: 0dcd7601-a440-4c7e-8ea9-28d1cf927991\n",
      "buildName: projects/45373616427/locations/us-central1/builds/0dcd7601-a440-4c7e-8ea9-28d1cf927991\n",
      "dockerRegistry: CONTAINER_REGISTRY\n",
      "entryPoint: process_request\n",
      "eventTrigger:\n",
      "  eventType: google.pubsub.topic.publish\n",
      "  failurePolicy: {}\n",
      "  resource: projects/automlops-sandbox/topics/dry-beans-dt-queueing-svc\n",
      "  service: pubsub.googleapis.com\n",
      "ingressSettings: ALLOW_ALL\n",
      "labels:\n",
      "  deployment-tool: cli-gcloud\n",
      "maxInstances: 3000\n",
      "name: projects/automlops-sandbox/locations/us-central1/functions/dry-beans-dt-job-submission-svc\n",
      "runtime: python39\n",
      "serviceAccountEmail: vertex-pipelines@automlops-sandbox.iam.gserviceaccount.com\n",
      "sourceUploadUrl: https://storage.googleapis.com/uploads-961973632599.us-central1.cloudfunctions.appspot.com/a2ee896a-a9dc-41ee-a129-fc000fc59dc9.zip\n",
      "status: ACTIVE\n",
      "timeout: 540s\n",
      "updateTime: '2023-09-08T03:06:05.246Z'\n",
      "versionId: '2'\n",
      "\u001b[0;32m Setting up Cloud Build Trigger in project automlops-sandbox \u001b[0m\n",
      "name: dry-beans-dt-build-trigger\n",
      "Cloudbuild Trigger already exists in project automlops-sandbox for repo dry-beans-dt-repository\n",
      "\u001b[0;32m Setting up Cloud Scheduler Job in project automlops-sandbox \u001b[0m\n",
      "dry-beans-dt-schedule  us-central1  59 11 * * 0 (Etc/UTC)  Pub/Sub      ENABLED\n",
      "Cloud Scheduler Job: dry-beans-dt-schedule already exists in project automlops-sandbox\n"
     ]
    }
   ],
   "source": [
    "AutoMLOps.provision(hide_warnings=False)            # hide_warnings is optional, defaults to True"
   ]
  },
  {
   "cell_type": "markdown",
   "id": "bed1d57b",
   "metadata": {},
   "source": [
    "`AutoMLOps.deploy(...)` builds and pushes component container, then triggers the pipeline job."
   ]
  },
  {
   "cell_type": "code",
   "execution_count": null,
   "id": "79cfffe8",
   "metadata": {},
   "outputs": [
    {
     "name": "stdout",
     "output_type": "stream",
     "text": [
      "WARNING: Running precheck for deploying requires these permissions:\n",
      "-artifactregistry.repositories.get\n",
      "-cloudbuild.builds.get\n",
      "-resourcemanager.projects.getIamPolicy\n",
      "-storage.buckets.update\n",
      "-serviceusage.services.get\n",
      "-cloudfunctions.functions.get\n",
      "-pubsub.topics.get\n",
      "-iam.serviceAccounts.get\n",
      "-source.repos.update\n",
      "-pubsub.subscriptions.get\n",
      "\n",
      "You are currently using: srastatter@google.com. Please check your account permissions.\n",
      "The following are the recommended roles for deploying with precheck:\n",
      "-roles/serviceusage.serviceUsageViewer\n",
      "-roles/iam.roleViewer\n",
      "-roles/pubsub.viewer\n",
      "-roles/storage.admin\n",
      "-roles/cloudbuild.builds.editor\n",
      "-roles/source.writer\n",
      "-roles/iam.serviceAccountUser\n",
      "-roles/cloudfunctions.viewer\n",
      "-roles/artifactregistry.reader\n",
      "\n",
      "Checking for required API services in project automlops-sandbox...\n",
      "Checking for Artifact Registry in project automlops-sandbox...\n",
      "Checking for Storage Bucket in project automlops-sandbox...\n",
      "Checking for Pipeline Runner Service Account in project automlops-sandbox...\n",
      "Checking for IAM roles on Pipeline Runner Service Account in project automlops-sandbox...\n",
      "Checking for Cloud Source Repo in project automlops-sandbox...\n",
      "Checking for Pub/Sub Topic in project automlops-sandbox...\n",
      "Checking for Pub/Sub Subscription in project automlops-sandbox...\n",
      "Checking for Cloud Functions Pipeline Job Submission Service in project automlops-sandbox...\n",
      "Checking for Cloud Build Trigger in project automlops-sandbox...\n",
      "Precheck successfully completed, continuing to deployment.\n",
      "\n",
      "[automlops 1fa5664] Run AutoMLOps\n",
      " 7 files changed, 34 insertions(+), 228 deletions(-)\n",
      " delete mode 100644 AutoMLOps/components/component_base/src/custom_train_model.py\n",
      " delete mode 100644 AutoMLOps/components/custom_train_model/component.yaml\n",
      "remote: Waiting for private key checker: 5/5 objects left        \n",
      "To https://source.developers.google.com/p/automlops-sandbox/r/dry-beans-dt-repository\n",
      "   70a23dd..1fa5664  automlops -> automlops\n",
      "Pushing code to automlops branch, triggering build...\n",
      "Cloud Build job running at: https://console.cloud.google.com/cloud-build/builds;region=us-central1\n",
      "Please wait for this build job to complete.\n",
      "\n",
      "#################################################################\n",
      "#                                                               #\n",
      "#                       RESOURCES MANIFEST                      #\n",
      "#---------------------------------------------------------------#\n",
      "#     Generated resources can be found at the following urls    #\n",
      "#                                                               #\n",
      "#################################################################\n",
      "\n",
      "Google Cloud Storage Bucket: https://console.cloud.google.com/storage/automlops-sandbox-dry-beans-dt-bucket\n",
      "Artifact Registry: https://console.cloud.google.com/artifacts/docker/automlops-sandbox/us-central1/dry-beans-dt-artifact-registry\n",
      "Service Accounts: https://console.cloud.google.com/iam-admin/serviceaccounts?project=automlops-sandbox\n",
      "APIs: https://console.cloud.google.com/apis\n",
      "Cloud Source Repository: https://source.cloud.google.com/automlops-sandbox/dry-beans-dt-repository/+/automlops:\n",
      "Cloud Build Jobs: https://console.cloud.google.com/cloud-build/builds;region=us-central1\n",
      "Vertex AI Pipeline Runs: https://console.cloud.google.com/vertex-ai/pipelines/runs\n",
      "Cloud Build Trigger: https://console.cloud.google.com/cloud-build/triggers;region=us-central1\n",
      "Pipeline Job Submission Service (Cloud Functions): https://console.cloud.google.com/functions/details/us-central1/dry-beans-dt-job-submission-svc\n",
      "Pub/Sub Queueing Service Topic: https://console.cloud.google.com/cloudpubsub/topic/detail/dry-beans-dt-queueing-svc\n",
      "Pub/Sub Queueing Service Subscriptions: https://console.cloud.google.com/cloudpubsub/subscription/list\n",
      "Cloud Scheduler Job: https://console.cloud.google.com/cloudscheduler\n"
     ]
    }
   ],
   "source": [
    "AutoMLOps.deploy(precheck=True,                     # precheck is optional, defaults to True\n",
    "                 hide_warnings=False)               # hide_warnings is optional, defaults to True"
   ]
  }
 ],
 "metadata": {
  "environment": {
   "kernel": "python3",
   "name": "common-cpu.m102",
   "type": "gcloud",
   "uri": "gcr.io/deeplearning-platform-release/base-cpu:m102"
  },
  "kernelspec": {
   "display_name": "Python 3 (ipykernel)",
   "language": "python",
   "name": "python3"
  },
  "language_info": {
   "codemirror_mode": {
    "name": "ipython",
    "version": 3
   },
   "file_extension": ".py",
   "mimetype": "text/x-python",
   "name": "python",
   "nbconvert_exporter": "python",
   "pygments_lexer": "ipython3",
   "version": "3.9.6"
  },
  "vscode": {
   "interpreter": {
    "hash": "31f2aee4e71d21fbe5cf8b01ff0e069b9275f58929596ceb00d14d90e3e16cd6"
   }
  }
 },
 "nbformat": 4,
 "nbformat_minor": 5
}
