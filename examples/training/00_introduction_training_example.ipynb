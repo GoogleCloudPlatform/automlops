{
 "cells": [
  {
   "cell_type": "code",
   "execution_count": null,
   "id": "12b45b0b",
   "metadata": {},
   "outputs": [],
   "source": [
    "# Copyright 2023 Google LLC\n",
    "#\n",
    "# Licensed under the Apache License, Version 2.0 (the \"License\");\n",
    "# you may not use this file except in compliance with the License.\n",
    "# You may obtain a copy of the License at\n",
    "#\n",
    "#     https://www.apache.org/licenses/LICENSE-2.0\n",
    "#\n",
    "# Unless required by applicable law or agreed to in writing, software\n",
    "# distributed under the License is distributed on an \"AS IS\" BASIS,\n",
    "# WITHOUT WARRANTIES OR CONDITIONS OF ANY KIND, either express or implied.\n",
    "# See the License for the specific language governing permissions and\n",
    "# limitations under the License."
   ]
  },
  {
   "cell_type": "markdown",
   "id": "8790d7ed",
   "metadata": {},
   "source": [
    "# AutoMLOps - Introduction Training Example\n",
    "\n",
    "<table align=\"left\">\n",
    "  <td>\n",
    "    <a href=\"https://colab.research.google.com/github/GoogleCloudPlatform/automlops/blob/main/examples/training/00_introduction_training_example.ipynb\">\n",
    "      <img src=\"https://cloud.google.com/ml-engine/images/colab-logo-32px.png\" alt=\"Colab logo\"> Run in Colab\n",
    "    </a>\n",
    "  </td>\n",
    "  <td>\n",
    "    <a href=\"https://github.com/GoogleCloudPlatform/automlops/blob/main/examples/training/00_introduction_training_example.ipynb\">\n",
    "      <img src=\"https://cloud.google.com/ml-engine/images/github-logo-32px.png\" alt=\"GitHub logo\">\n",
    "      View on GitHub\n",
    "    </a>\n",
    "  </td>\n",
    "  <td>\n",
    "    <a href=\"https://console.cloud.google.com/vertex-ai/workbench/deploy-notebook?download_url=https://raw.githubusercontent.com/GoogleCloudPlatform/automlops/examples/training/00_introduction_training_example.ipynb\">\n",
    "        <img src=\"https://lh3.googleusercontent.com/UiNooY4LUgW_oTvpsNhPpQzsstV5W8F7rYgxgGBD85cWJoLmrOzhVs_ksK_vgx40SHs7jCqkTkCk=e14-rj-sc0xffffff-h130-w32\" alt=\"Vertex AI logo\">\n",
    "      Open in Vertex AI Workbench\n",
    "    </a>\n",
    "  </td>\n",
    "</table>\n",
    "<br/><br/><br/>"
   ]
  },
  {
   "cell_type": "markdown",
   "id": "6f938540",
   "metadata": {},
   "source": [
    "# Overview\n",
    "\n",
    "In this tutorial, you will build two [Vertex AI](https://cloud.google.com/vertex-ai) pipelines, complete with an integrated CI/CD pipeline. This tutorial will walk you through how to use AutoMLOps to define, create and run pipelines."
   ]
  },
  {
   "cell_type": "markdown",
   "id": "22881a6a",
   "metadata": {},
   "source": [
    "# Objective\n",
    "In this tutorial, you will learn how to create and run MLOps pipelines integrated with CI/CD. This tutorial goes through an example pipeline that is defined two ways: first using a custom python syntax, and second using Kubeflow syntax (either option is valid, whichever is preferred is up to you). The example pipeline builds and deploys a classification model; the pipeline go through a very basic workflow:\n",
    "1. create_dataset: A custom component that will export the dataset from BQ to GCS as a csv.\n",
    "2. train_model: A custom component that will train a decision tree classifier on the training data.\n",
    "3. deploy_model: A custom component that will upload the saved_model to Vertex AI Model Registry and deploy it to an endpoint.\n",
    "\n",
    "# Prerequisites\n",
    "\n",
    "In order to use AutoMLOps, the following are required:\n",
    "\n",
    "- Python 3.7 - 3.10\n",
    "- [Google Cloud SDK 407.0.0](https://cloud.google.com/sdk/gcloud/reference)\n",
    "- [beta 2022.10.21](https://cloud.google.com/sdk/gcloud/reference/beta)\n",
    "- `git` installed\n",
    "- `git` logged-in:\n",
    "```\n",
    "  git config --global user.email \"you@example.com\"\n",
    "  git config --global user.name \"Your Name\"\n",
    "```\n",
    "- [Application Default Credentials (ADC)](https://cloud.google.com/docs/authentication/provide-credentials-adc) are setup. This can be done through the following commands:\n",
    "```\n",
    "gcloud auth application-default login\n",
    "gcloud config set account <account@example.com>\n",
    "```\n",
    "\n",
    "# Dependencies\n",
    "- `docopt==0.6.2`,\n",
    "- `docstring-parser==0.15`,\n",
    "- `pipreqs==0.4.11`,\n",
    "- `PyYAML==5.4.1`,\n",
    "- `yarg==0.1.9`\n",
    "\n",
    "# APIs & IAM\n",
    "AutoMLOps will enable the following APIs:\n",
    "- [cloudresourcemanager.googleapis.com](https://cloud.google.com/resource-manager/reference/rest)\n",
    "- [aiplatform.googleapis.com](https://cloud.google.com/vertex-ai/docs/reference/rest)\n",
    "- [artifactregistry.googleapis.com](https://cloud.google.com/artifact-registry/docs/reference/rest)\n",
    "- [cloudbuild.googleapis.com](https://cloud.google.com/build/docs/api/reference/rest)\n",
    "- [cloudscheduler.googleapis.com](https://cloud.google.com/scheduler/docs/reference/rest)\n",
    "- [cloudtasks.googleapis.com](https://cloud.google.com/tasks/docs/reference/rest)\n",
    "- [compute.googleapis.com](https://cloud.google.com/compute/docs/reference/rest/v1)\n",
    "- [iam.googleapis.com](https://cloud.google.com/iam/docs/reference/rest)\n",
    "- [iamcredentials.googleapis.com](https://cloud.google.com/iam/docs/reference/credentials/rest)\n",
    "- [ml.googleapis.com](https://cloud.google.com/ai-platform/training/docs/reference/rest)\n",
    "- [run.googleapis.com](https://cloud.google.com/run/docs/reference/rest)\n",
    "- [storage.googleapis.com](https://cloud.google.com/storage/docs/apis)\n",
    "- [sourcerepo.googleapis.com](https://cloud.google.com/source-repositories/docs/reference/rest)\n",
    "\n",
    "AutoMLOps will update [IAM privileges](https://cloud.google.com/iam/docs/understanding-roles) for the following accounts:\n",
    "1. Pipeline Runner Service Account (one is created if it does exist, defaults to: vertex-pipelines@PROJECT_ID.iam.gserviceaccount.com). Roles added:\n",
    "- roles/aiplatform.user\n",
    "- roles/artifactregistry.reader\n",
    "- roles/bigquery.user\n",
    "- roles/bigquery.dataEditor\n",
    "- roles/iam.serviceAccountUser\n",
    "- roles/storage.admin\n",
    "- roles/run.admin\n",
    "2. Cloudbuild Default Service Account (PROJECT_NUMBER@cloudbuild.gserviceaccount.com). Roles added:\n",
    "- roles/run.admin\n",
    "- roles/iam.serviceAccountUser\n",
    "- roles/cloudtasks.enqueuer\n",
    "- roles/cloudscheduler.admin\n",
    "\n",
    "# User Guide\n",
    "\n",
    "For a user-guide, please view these [slides](../AutoMLOps_Implementation_Guide_External.pdf).\n",
    "\n",
    "# Costs\n",
    "\n",
    "This tutorial uses billable components of Google Cloud:\n",
    "- Vertex AI\n",
    "- Artifact Registry\n",
    "- Cloud Storage\n",
    "- Cloud Source Repository\n",
    "- Cloud Build\n",
    "- Cloud Run\n",
    "- Cloud Scheduler\n",
    "\n",
    "Learn about [Vertex AI pricing](https://cloud.google.com/vertex-ai/pricing), and use the [Pricing Calculator](https://cloud.google.com/products/calculator/) to generate a cost estimate based on your projected usage.\n",
    "\n",
    "# Ground-rules for using AutoMLOps\n",
    "1. Do not use variables, functions, code, etc. not defined within the scope of a custom component. These custom components will become containers and will have no reference to the out of scope code.\n",
    "2. Import statements and helper functions must be added inside the function. Provide parameter type hints.\n",
    "3. Test each of your components for accuracy and correctness before running them using AutoMLOps. We cannot fix bugs automatically; bugs are much more difficult to fix once they are made into pipelines.\n",
    "4. If you are using Kubeflow, be sure to define all the requirements needed to run the custom component - it can be easy to leave out packages which will cause the container to fail when running within a pipeline. \n"
   ]
  },
  {
   "cell_type": "markdown",
   "id": "12381413",
   "metadata": {},
   "source": [
    "# Dataset\n",
    "For training data, we are using the [dry beans dataset](https://archive.ics.uci.edu/ml/datasets/dry+bean+dataset) which contains metadata on images of seven different types of dry beans taken with a high-resolution camera. The raw dataset can be found [here](https://github.com/GoogleCloudPlatform/automlops/blob/main/example/data/Dry_Beans_Dataset.csv)."
   ]
  },
  {
   "cell_type": "markdown",
   "id": "a231b629",
   "metadata": {},
   "source": [
    "# Setup Git\n",
    "Set up your git configuration below"
   ]
  },
  {
   "cell_type": "code",
   "execution_count": null,
   "id": "92f90b44",
   "metadata": {},
   "outputs": [],
   "source": [
    "!git config --global user.email 'you@example.com'\n",
    "!git config --global user.name 'Your Name'"
   ]
  },
  {
   "cell_type": "markdown",
   "id": "d5e4d190",
   "metadata": {},
   "source": [
    "# Install AutoMLOps\n",
    "\n",
    "Install AutoMLOps from [PyPI](https://pypi.org/project/google-cloud-automlops/), or locally by cloning the repo and running `pip install .`"
   ]
  },
  {
   "cell_type": "code",
   "execution_count": null,
   "id": "94451868",
   "metadata": {},
   "outputs": [],
   "source": [
    "!pip3 install google-cloud-automlops --user"
   ]
  },
  {
   "cell_type": "markdown",
   "id": "17db55d5",
   "metadata": {},
   "source": [
    "# Restart the kernel\n",
    "Once you've installed the AutoMLOps package, you need to restart the notebook kernel so it can find the package.\n",
    "\n",
    "**Note: Once this cell has finished running, continue on. You do not need to re-run any of the cells above.**"
   ]
  },
  {
   "cell_type": "code",
   "execution_count": null,
   "id": "57c53b86",
   "metadata": {},
   "outputs": [],
   "source": [
    "import os\n",
    "\n",
    "if not os.getenv('IS_TESTING'):\n",
    "    # Automatically restart kernel after installs\n",
    "    import IPython\n",
    "\n",
    "    app = IPython.Application.instance()\n",
    "    app.kernel.do_shutdown(True)"
   ]
  },
  {
   "cell_type": "markdown",
   "id": "250d511b",
   "metadata": {},
   "source": [
    "# Set your project ID\n",
    "Set your project ID below. If you don't know your project ID, leave the field blank and the following cells may be able to find it."
   ]
  },
  {
   "cell_type": "code",
   "execution_count": 1,
   "id": "931ff517",
   "metadata": {},
   "outputs": [],
   "source": [
    "PROJECT_ID = '[your-project-id]'  # @param {type:\"string\"}"
   ]
  },
  {
   "cell_type": "code",
   "execution_count": 2,
   "id": "be0be295",
   "metadata": {},
   "outputs": [
    {
     "name": "stdout",
     "output_type": "stream",
     "text": [
      "Project ID: automlops-sandbox\n"
     ]
    }
   ],
   "source": [
    "if PROJECT_ID == '' or PROJECT_ID is None or PROJECT_ID == '[your-project-id]':\n",
    "    # Get your GCP project id from gcloud\n",
    "    shell_output = !gcloud config list --format 'value(core.project)' 2>/dev/null\n",
    "    PROJECT_ID = shell_output[0]\n",
    "    print('Project ID:', PROJECT_ID)"
   ]
  },
  {
   "cell_type": "code",
   "execution_count": 3,
   "id": "2c36482d",
   "metadata": {},
   "outputs": [
    {
     "name": "stdout",
     "output_type": "stream",
     "text": [
      "Updated property [core/project].\r\n"
     ]
    }
   ],
   "source": [
    "! gcloud config set project $PROJECT_ID"
   ]
  },
  {
   "cell_type": "markdown",
   "id": "503f4a85-c357-4ec4-8ea5-0eeb2c8afd39",
   "metadata": {},
   "source": [
    "# Upload Data\n",
    "This will create a BQ table and upload the Dry Beans csv. "
   ]
  },
  {
   "cell_type": "code",
   "execution_count": 4,
   "id": "28557b2d-598c-466b-8116-bc1e34ba090d",
   "metadata": {},
   "outputs": [
    {
     "name": "stdout",
     "output_type": "stream",
     "text": [
      "Dataset automlops-sandbox.test_dataset already exists\n",
      "Table test_dataset.dry-beans already exists\n"
     ]
    }
   ],
   "source": [
    "!python3 -m data.load_data_to_bq --project $PROJECT_ID --file data/Dry_Beans_Dataset.csv"
   ]
  },
  {
   "cell_type": "markdown",
   "id": "7b3fe994",
   "metadata": {},
   "source": [
    "# 1. AutoMLOps Pipeline\n",
    "This workflow will define and generate a pipeline without using Kubeflow spec. `generate()` will create all the necessary files but not run them. `go()` will create all the necessary files, resources, push the code to the source repo to trigger the build, and then submit a Pipeline training job to Vertex AI. Please see the [readme](https://github.com/GoogleCloudPlatform/automlops/blob/main/README.md) for more information."
   ]
  },
  {
   "cell_type": "markdown",
   "id": "2219ee67",
   "metadata": {},
   "source": [
    "## Import AutoMLOps"
   ]
  },
  {
   "cell_type": "code",
   "execution_count": 5,
   "id": "cd5ac7db",
   "metadata": {},
   "outputs": [],
   "source": [
    "from AutoMLOps import AutoMLOps"
   ]
  },
  {
   "cell_type": "markdown",
   "id": "7ac0c712-acdd-4830-a9bd-44f41eaa590c",
   "metadata": {},
   "source": [
    "## Data Loading\n",
    "Define a custom component for loading and creating a dataset. Import statements and helper functions must be added inside the function. Provide parameter type hints.\n",
    "\n",
    "**Note: we currently only support python primitive types for component parameters. If you would like to use something more advanced, please use the Kubeflow spec instead (see below in this notebook).**"
   ]
  },
  {
   "cell_type": "code",
   "execution_count": 6,
   "id": "94a96074-761f-40f0-84bb-adfcb9bf6911",
   "metadata": {},
   "outputs": [],
   "source": [
    "@AutoMLOps.component(\n",
    "    packages_to_install=[\n",
    "        'google-cloud-bigquery', \n",
    "        'pandas',\n",
    "        'pyarrow',\n",
    "        'db_dtypes',\n",
    "        'fsspec',\n",
    "        'gcsfs'\n",
    "    ]\n",
    ")\n",
    "def create_dataset(\n",
    "    bq_table: str,\n",
    "    data_path: str,\n",
    "    project_id: str\n",
    "):\n",
    "    \"\"\"Custom component that takes in a BQ table and writes it to GCS.\n",
    "\n",
    "    Args:\n",
    "        bq_table: The source biquery table.\n",
    "        data_path: The gcs location to write the csv.\n",
    "        project_id: The project ID.\n",
    "    \"\"\"\n",
    "    from google.cloud import bigquery\n",
    "    import pandas as pd\n",
    "    from sklearn import preprocessing\n",
    "    \n",
    "    bq_client = bigquery.Client(project=project_id)\n",
    "\n",
    "    def get_query(bq_input_table: str) -> str:\n",
    "        \"\"\"Generates BQ Query to read data.\n",
    "\n",
    "        Args:\n",
    "        bq_input_table: The full name of the bq input table to be read into\n",
    "        the dataframe (e.g. <project>.<dataset>.<table>)\n",
    "        Returns: A BQ query string.\n",
    "        \"\"\"\n",
    "        return f'''\n",
    "        SELECT *\n",
    "        FROM `{bq_input_table}`\n",
    "        '''\n",
    "\n",
    "    def load_bq_data(query: str, client: bigquery.Client) -> pd.DataFrame:\n",
    "        \"\"\"Loads data from bq into a Pandas Dataframe for EDA.\n",
    "        Args:\n",
    "        query: BQ Query to generate data.\n",
    "        client: BQ Client used to execute query.\n",
    "        Returns:\n",
    "        pd.DataFrame: A dataframe with the requested data.\n",
    "        \"\"\"\n",
    "        df = client.query(query).to_dataframe()\n",
    "        return df\n",
    "\n",
    "    dataframe = load_bq_data(get_query(bq_table), bq_client)\n",
    "    le = preprocessing.LabelEncoder()\n",
    "    dataframe['Class'] = le.fit_transform(dataframe['Class'])\n",
    "    dataframe.to_csv(data_path, index=False)"
   ]
  },
  {
   "cell_type": "markdown",
   "id": "d4476cb4-91c5-42ff-a500-8cc275fedbd1",
   "metadata": {},
   "source": [
    "## Model Training\n",
    "Define a custom component for training a model. Import statements and helper functions must be added inside the function."
   ]
  },
  {
   "cell_type": "code",
   "execution_count": 7,
   "id": "5371be73-db3f-4d79-bde7-94fcd5ea13b2",
   "metadata": {},
   "outputs": [],
   "source": [
    "@AutoMLOps.component(\n",
    "    packages_to_install=[\n",
    "        'scikit-learn==1.2.0',\n",
    "        'pandas',\n",
    "        'joblib',\n",
    "        'tensorflow'\n",
    "    ]\n",
    ")\n",
    "def train_model(\n",
    "    data_path: str,\n",
    "    model_directory: str\n",
    "):\n",
    "    \"\"\"Custom component that trains a decision tree on the training data.\n",
    "\n",
    "    Args:\n",
    "        data_path: GS location where the training data.\n",
    "        model_directory: GS location of saved model.\n",
    "    \"\"\"\n",
    "    from sklearn.tree import DecisionTreeClassifier\n",
    "    from sklearn.model_selection import train_test_split\n",
    "    import pandas as pd\n",
    "    import tensorflow as tf\n",
    "    import pickle\n",
    "    import os\n",
    "    \n",
    "    def save_model(model, uri):\n",
    "        \"\"\"Saves a model to uri.\"\"\"\n",
    "        with tf.io.gfile.GFile(uri, 'w') as f:\n",
    "            pickle.dump(model, f)\n",
    "    \n",
    "    df = pd.read_csv(data_path)\n",
    "    labels = df.pop('Class').tolist()\n",
    "    data = df.values.tolist()\n",
    "    x_train, x_test, y_train, y_test = train_test_split(data, labels)\n",
    "    skmodel = DecisionTreeClassifier()\n",
    "    skmodel.fit(x_train,y_train)\n",
    "    score = skmodel.score(x_test,y_test)\n",
    "    print('accuracy is:',score)\n",
    "\n",
    "    output_uri = os.path.join(model_directory, f'model.pkl')\n",
    "    save_model(skmodel, output_uri)"
   ]
  },
  {
   "cell_type": "markdown",
   "id": "b5ed1eaa",
   "metadata": {},
   "source": [
    "## Uploading & Deploying the Model\n",
    "Define a custom component for uploading and deploying a model in Vertex AI. Import statements and helper functions must be added inside the function."
   ]
  },
  {
   "cell_type": "code",
   "execution_count": 8,
   "id": "47377d7b",
   "metadata": {},
   "outputs": [],
   "source": [
    "@AutoMLOps.component(\n",
    "    packages_to_install=[\n",
    "        'google-cloud-aiplatform'\n",
    "    ]\n",
    ")\n",
    "def deploy_model(\n",
    "    model_directory: str,\n",
    "    project_id: str,\n",
    "    region: str\n",
    "):\n",
    "    \"\"\"Custom component that trains a decision tree on the training data.\n",
    "\n",
    "    Args:\n",
    "        model_directory: GS location of saved model.\n",
    "        project_id: Project_id.\n",
    "        region: Region.\n",
    "    \"\"\"\n",
    "    from google.cloud import aiplatform\n",
    "\n",
    "    aiplatform.init(project=project_id, location=region)\n",
    "    # Check if model exists\n",
    "    models = aiplatform.Model.list()\n",
    "    model_name = 'beans-model'\n",
    "    if 'beans-model' in (m.name for m in models):\n",
    "        parent_model = model_name\n",
    "        model_id = None\n",
    "        is_default_version=False\n",
    "        version_aliases=['experimental', 'challenger', 'custom-training', 'decision-tree']\n",
    "        version_description='challenger version'\n",
    "    else:\n",
    "        parent_model = None\n",
    "        model_id = model_name\n",
    "        is_default_version=True\n",
    "        version_aliases=['champion', 'custom-training', 'decision-tree']\n",
    "        version_description='first version'\n",
    "\n",
    "    serving_container = 'us-docker.pkg.dev/vertex-ai/prediction/sklearn-cpu.1-2:latest'\n",
    "    uploaded_model = aiplatform.Model.upload(\n",
    "        artifact_uri=model_directory,\n",
    "        model_id=model_id,\n",
    "        display_name=model_name,\n",
    "        parent_model=parent_model,\n",
    "        is_default_version=is_default_version,\n",
    "        version_aliases=version_aliases,\n",
    "        version_description=version_description,\n",
    "        serving_container_image_uri=serving_container,\n",
    "        serving_container_ports=[8080],\n",
    "        labels={'created_by': 'automlops-team'},\n",
    "    )\n",
    "\n",
    "    endpoint = uploaded_model.deploy(\n",
    "        machine_type='n1-standard-4',\n",
    "        deployed_model_display_name='deployed-beans-model')"
   ]
  },
  {
   "cell_type": "markdown",
   "id": "73d96dcb-a020-4bab-b0e3-1e32f6b2aecf",
   "metadata": {},
   "source": [
    "## Define the Pipeline\n",
    "Define your pipeline. You can optionally give the pipeline a name and description. Define the structure by listing the components to be called in your pipeline; use `.after` to specify the order of execution."
   ]
  },
  {
   "cell_type": "code",
   "execution_count": 9,
   "id": "a36e0154",
   "metadata": {},
   "outputs": [],
   "source": [
    "@AutoMLOps.pipeline #(name='automlops-pipeline', description='This is an optional description')\n",
    "def pipeline(bq_table: str,\n",
    "             model_directory: str,\n",
    "             data_path: str,\n",
    "             project_id: str,\n",
    "             region: str,\n",
    "            ):\n",
    "\n",
    "    create_dataset_task = create_dataset(\n",
    "        bq_table=bq_table,\n",
    "        data_path=data_path,\n",
    "        project_id=project_id)\n",
    "\n",
    "    train_model_task = train_model(\n",
    "        model_directory=model_directory,\n",
    "        data_path=data_path).after(create_dataset_task)\n",
    "\n",
    "    deploy_model_task = deploy_model(\n",
    "        model_directory=model_directory,\n",
    "        project_id=project_id,\n",
    "        region=region).after(train_model_task)"
   ]
  },
  {
   "cell_type": "markdown",
   "id": "3874f4f6",
   "metadata": {},
   "source": [
    "## Define the Pipeline Arguments"
   ]
  },
  {
   "cell_type": "code",
   "execution_count": 10,
   "id": "4cb3786b",
   "metadata": {},
   "outputs": [],
   "source": [
    "import datetime\n",
    "pipeline_params = {\n",
    "    'bq_table': f'{PROJECT_ID}.test_dataset.dry-beans',\n",
    "    'model_directory': f'gs://{PROJECT_ID}-bucket/trained_models/{datetime.datetime.now()}',\n",
    "    'data_path': f'gs://{PROJECT_ID}-bucket/data.csv',\n",
    "    'project_id': f'{PROJECT_ID}',\n",
    "    'region': 'us-central1'\n",
    "}"
   ]
  },
  {
   "cell_type": "markdown",
   "id": "c1e0aa05",
   "metadata": {},
   "source": [
    "## Generate and Run the pipeline\n",
    "`AutoMLOps.generate` generates the code for the MLOps pipeline. `AutoMLOps.go` generates the code and runs the pipeline."
   ]
  },
  {
   "cell_type": "code",
   "execution_count": 11,
   "id": "db51a8d0",
   "metadata": {},
   "outputs": [
    {
     "name": "stdout",
     "output_type": "stream",
     "text": [
      "INFO: Successfully saved requirements file in AutoMLOps/components/component_base/requirements.txt\n"
     ]
    }
   ],
   "source": [
    "AutoMLOps.generate(project_id=PROJECT_ID,\n",
    "                   pipeline_params=pipeline_params,\n",
    "                   run_local=False,\n",
    "                   schedule_pattern='59 11 * * 0' # retrain every Sunday at Midnight\n",
    ")"
   ]
  },
  {
   "cell_type": "code",
   "execution_count": 12,
   "id": "7ef279e8",
   "metadata": {
    "scrolled": false
   },
   "outputs": [
    {
     "name": "stdout",
     "output_type": "stream",
     "text": [
      "INFO: Successfully saved requirements file in AutoMLOps/components/component_base/requirements.txt\n",
      "\u001b[0;32m Updating required API services in project automlops-sandbox \u001b[0m\n",
      "Operation \"operations/acat.p2-45373616427-e9de598e-6db8-4b29-bf02-1f1a9b1f3dbc\" finished successfully.\n",
      "\u001b[0;32m Checking for Artifact Registry: vertex-mlops-af in project automlops-sandbox \u001b[0m\n",
      "Listing items under project automlops-sandbox, location us-central1.\n",
      "\n",
      "vertex-mlops-af  DOCKER  STANDARD_REPOSITORY  Artifact Registry vertex-mlops-af in us-central1.  us-central1          Google-managed key  2023-01-11T17:12:26  2023-07-13T17:11:23  77876.431\n",
      "Artifact Registry: vertex-mlops-af already exists in project automlops-sandbox\n",
      "\u001b[0;32m Checking for GS Bucket: automlops-sandbox-bucket in project automlops-sandbox \u001b[0m\n",
      "gs://automlops-sandbox-bucket/\n",
      "GS Bucket: automlops-sandbox-bucket already exists in project automlops-sandbox\n",
      "\u001b[0;32m Checking for Service Account: vertex-pipelines in project automlops-sandbox \u001b[0m\n",
      "Pipeline Runner Service Account         vertex-pipelines@automlops-sandbox.iam.gserviceaccount.com  False\n",
      "Service Account: vertex-pipelines already exists in project automlops-sandbox\n",
      "\u001b[0;32m Updating required IAM roles in project automlops-sandbox \u001b[0m\n",
      "\u001b[0;32m Checking for Cloud Source Repository: AutoMLOps-repo in project automlops-sandbox \u001b[0m\n",
      "AutoMLOps-repo  automlops-sandbox  https://source.developers.google.com/p/automlops-sandbox/r/AutoMLOps-repo\n",
      "Cloud Source Repository: AutoMLOps-repo already exists in project automlops-sandbox\n",
      "\u001b[0;32m Checking for Cloud Tasks Queue: queueing-svc in project automlops-sandbox \u001b[0m\n",
      "queueing-svc       RUNNING  1000              500.0            100\n",
      "Cloud Tasks Queue: queueing-svc already exists in project automlops-sandbox\n",
      "\u001b[0;32m Checking for Cloudbuild Trigger: automlops-trigger in project automlops-sandbox \u001b[0m\n",
      "name: automlops-trigger\n",
      "Cloudbuild Trigger already exists in project automlops-sandbox for repo AutoMLOps-repo\n",
      "[automlops 648544e] Run AutoMLOps\n",
      " 6 files changed, 14 insertions(+), 67 deletions(-)\n",
      "remote: Waiting for private key checker: 3/4 objects left        \n",
      "To https://source.developers.google.com/p/automlops-sandbox/r/AutoMLOps-repo\n",
      "   71ae13a..648544e  automlops -> automlops\n",
      "Pushing code to automlops branch, triggering cloudbuild...\n",
      "Cloudbuild job running at: https://console.cloud.google.com/cloud-build/builds;region=us-central1\n",
      "\n",
      "#################################################################\n",
      "#                                                               #\n",
      "#                       RESOURCES MANIFEST                      #\n",
      "#---------------------------------------------------------------#\n",
      "#     Generated resources can be found at the following urls    #\n",
      "#                                                               #\n",
      "#################################################################\n",
      "\n",
      "Google Cloud Storage Bucket: https://console.cloud.google.com/storage/automlops-sandbox-bucket\n",
      "Artifact Registry: https://console.cloud.google.com/artifacts/docker/automlops-sandbox/us-central1/vertex-mlops-af\n",
      "Service Accounts: https://console.cloud.google.com/iam-admin/serviceaccounts?project=automlops-sandbox\n",
      "APIs: https://console.cloud.google.com/apis\n",
      "Cloud Source Repository: https://source.cloud.google.com/automlops-sandbox/AutoMLOps-repo/+/automlops:\n",
      "Cloud Build Jobs: https://console.cloud.google.com/cloud-build/builds;region=us-central1\n",
      "Vertex AI Pipeline Runs: https://console.cloud.google.com/vertex-ai/pipelines/runs\n",
      "Cloud Build Trigger: https://console.cloud.google.com/cloud-build/triggers;region=us-central1\n",
      "Cloud Run Service: https://console.cloud.google.com/run/detail/us-central1/run-pipeline\n",
      "Cloud Tasks Queue: https://console.cloud.google.com/cloudtasks/queue/us-central1/queueing-svc/tasks\n",
      "Cloud Scheduler Job: https://console.cloud.google.com/cloudscheduler\n"
     ]
    }
   ],
   "source": [
    "AutoMLOps.go(project_id=PROJECT_ID,\n",
    "             pipeline_params=pipeline_params,\n",
    "             run_local=False,\n",
    "             schedule_pattern='59 11 * * 0'\n",
    ")"
   ]
  },
  {
   "cell_type": "markdown",
   "id": "cf929353",
   "metadata": {},
   "source": [
    "## Set Pipeline Compute Resources\n",
    "Use the `custom_training_job_specs` parameter to specify custom resources for any custom component in the pipeline. The example below uses a GPU for accelerated training.\n",
    "See [Machine types](https://cloud.google.com/vertex-ai/docs/training/configure-compute#machine-types) and [GPUs](https://cloud.google.com/vertex-ai/docs/training/configure-compute#specifying_gpus)."
   ]
  },
  {
   "cell_type": "code",
   "execution_count": 13,
   "id": "89f42645",
   "metadata": {},
   "outputs": [
    {
     "name": "stdout",
     "output_type": "stream",
     "text": [
      "INFO: Successfully saved requirements file in AutoMLOps/components/component_base/requirements.txt\n"
     ]
    }
   ],
   "source": [
    "AutoMLOps.generate(project_id=PROJECT_ID, \n",
    "                   pipeline_params=pipeline_params, \n",
    "                   run_local=False, \n",
    "                   schedule_pattern='0 */12 * * *',\n",
    "                   base_image='us-docker.pkg.dev/vertex-ai/training/tf-gpu.2-11.py310:latest', # includes required cuda pacakges\n",
    "                   custom_training_job_specs = [{\n",
    "                       'component_spec': 'train_model',\n",
    "                       'display_name': 'train-model-accelerated',\n",
    "                       'machine_type': 'a2-highgpu-1g',\n",
    "                       'accelerator_type': 'NVIDIA_TESLA_A100',\n",
    "                       'accelerator_count': '1'\n",
    "                   }]\n",
    ")"
   ]
  },
  {
   "cell_type": "markdown",
   "id": "ccca3907",
   "metadata": {},
   "source": [
    "## Default Run Settings\n",
    "Below are the default parameters for running `AutoMLOps`. Note there are only two required parameters:\n",
    "1. project_id\n",
    "2. pipeline_params\n",
    "\n",
    "The other parameters are optional. You can customize the output of `AutoMLOps` by specify the resources you'd like to use (or specifying the name of resources you'd like `AutoMLOps` to create if they don't currently exist). A description of the parameters is below:\n",
    "- `project_id`: The project ID.\n",
    "- `pipeline_params`: Dictionary containing runtime pipeline parameters.\n",
    "- `af_registry_location`: Region of the Artifact Registry.\n",
    "- `af_registry_name`: Artifact Registry name where components are stored.\n",
    "- `base_image`: The image to use in the component base dockerfile.\n",
    "- `cb_trigger_location`: The location of the cloudbuild trigger.\n",
    "- `cb_trigger_name`: The name of the cloudbuild trigger.\n",
    "- `cloud_run_location`: The location of the cloud runner service.\n",
    "- `cloud_run_name`: The name of the cloud runner service.\n",
    "- `cloud_tasks_queue_location`: The location of the cloud tasks queue.\n",
    "- `cloud_tasks_queue_name`: The name of the cloud tasks queue.\n",
    "- `csr_branch_name`: The name of the csr branch to push to to trigger cb job.\n",
    "- `csr_name`: The name of the cloud source repo to use.\n",
    "- `custom_training_job_specs`: Specifies the specs to run the training job with.\n",
    "- `gs_bucket_location`: Region of the GS bucket.\n",
    "- `gs_bucket_name`: GS bucket name where pipeline run metadata is stored.\n",
    "- `pipeline_runner_sa`: Service Account to runner PipelineJobs.\n",
    "- `run_local`: Flag that determines whether to use Cloud Run CI/CD.\n",
    "- `schedule_location`: The location of the scheduler resource.\n",
    "- `schedule_name`: The name of the scheduler resource.\n",
    "- `schedule_pattern`: Cron formatted value used to create a Scheduled retrain job.\n",
    "- `vpc_connector`: The name of the vpc connector to use.\n",
    "\n",
    "The `run_local` parameter specifies whether to use the generated `scripts/run_all.sh` local script to submit the build job and PipelineJob. If this parameter is set to False, `AutoMLOps` will use the cloud [CI/CD workflow](https://github.com/GoogleCloudPlatform/automlops#cloud-continuous-integration-and-continuous-deployment-workflow). The run above uses `run_local=False`, and the run below uses `run_local=True`, notice the differences in output (`run_local=True` means you will not use Cloud Source Repository to trigger build jobs on push). "
   ]
  },
  {
   "cell_type": "code",
   "execution_count": 14,
   "id": "c92f80a8",
   "metadata": {
    "scrolled": true
   },
   "outputs": [
    {
     "name": "stdout",
     "output_type": "stream",
     "text": [
      "INFO: Successfully saved requirements file in AutoMLOps/components/component_base/requirements.txt\n",
      "\u001b[0;32m Updating required API services in project automlops-sandbox \u001b[0m\n",
      "Operation \"operations/acat.p2-45373616427-e3f24865-9abc-481f-b6cf-2a2edb18b401\" finished successfully.\n",
      "\u001b[0;32m Checking for Artifact Registry: vertex-mlops-af in project automlops-sandbox \u001b[0m\n",
      "Listing items under project automlops-sandbox, location us-central1.\n",
      "\n",
      "vertex-mlops-af  DOCKER  STANDARD_REPOSITORY  Artifact Registry vertex-mlops-af in us-central1.  us-central1          Google-managed key  2023-01-11T17:12:26  2023-05-31T11:38:17  53972.621\n",
      "Artifact Registry: vertex-mlops-af already exists in project automlops-sandbox\n",
      "\u001b[0;32m Checking for GS Bucket: automlops-sandbox-bucket in project automlops-sandbox \u001b[0m\n",
      "gs://automlops-sandbox-bucket/\n",
      "GS Bucket: automlops-sandbox-bucket already exists in project automlops-sandbox\n",
      "\u001b[0;32m Checking for Service Account: vertex-pipelines in project automlops-sandbox \u001b[0m\n",
      "Pipeline Runner Service Account         vertex-pipelines@automlops-sandbox.iam.gserviceaccount.com  False\n",
      "Service Account: vertex-pipelines already exists in project automlops-sandbox\n",
      "\u001b[0;32m Updating required IAM roles in project automlops-sandbox \u001b[0m\n",
      "\u001b[0;32m Checking for Cloud Source Repository: AutoMLOps-repo in project automlops-sandbox \u001b[0m\n",
      "AutoMLOps-repo  automlops-sandbox  https://source.developers.google.com/p/automlops-sandbox/r/AutoMLOps-repo\n",
      "Cloud Source Repository: AutoMLOps-repo already exists in project automlops-sandbox\n",
      "\u001b[0;32m BUILDING COMPONENTS \u001b[0m\n",
      "Creating temporary tarball archive of 41 file(s) totalling 2.9 MiB before compression.\n",
      "Uploading tarball of [..] to [gs://automlops-sandbox_cloudbuild/source/1685548213.117596-38197c38366a48afb8f7ee54570f9b98.tgz]\n",
      "Created [https://cloudbuild.googleapis.com/v1/projects/automlops-sandbox/locations/global/builds/40d945f3-1c46-4376-a93d-cfdd440bd122].\n",
      "Logs are available at [ https://console.cloud.google.com/cloud-build/builds/40d945f3-1c46-4376-a93d-cfdd440bd122?project=45373616427 ].\n",
      "----------------------------- REMOTE BUILD OUTPUT ------------------------------\n",
      "starting build \"40d945f3-1c46-4376-a93d-cfdd440bd122\"\n",
      "\n",
      "FETCHSOURCE\n",
      "Fetching storage object: gs://automlops-sandbox_cloudbuild/source/1685548213.117596-38197c38366a48afb8f7ee54570f9b98.tgz#1685548213974303\n",
      "Copying gs://automlops-sandbox_cloudbuild/source/1685548213.117596-38197c38366a48afb8f7ee54570f9b98.tgz#1685548213974303...\n",
      "/ [1 files][  1.2 MiB/  1.2 MiB]                                                \n",
      "Operation completed over 1 objects/1.2 MiB.\n",
      "BUILD\n",
      "Starting Step #0 - \"build_component_base\"\n",
      "Step #0 - \"build_component_base\": Already have image (with digest): gcr.io/cloud-builders/docker\n",
      "Step #0 - \"build_component_base\": Sending build context to Docker daemon  14.85kB\n",
      "Step #0 - \"build_component_base\": Step 1/6 : FROM python:3.9-slim\n",
      "Step #0 - \"build_component_base\": 3.9-slim: Pulling from library/python\n",
      "Step #0 - \"build_component_base\": f03b40093957: Pulling fs layer\n",
      "Step #0 - \"build_component_base\": 05c2151a829c: Pulling fs layer\n",
      "Step #0 - \"build_component_base\": 413e4e4760ae: Pulling fs layer\n",
      "Step #0 - \"build_component_base\": 92ec8b395aa1: Pulling fs layer\n",
      "Step #0 - \"build_component_base\": 295d2f1818b0: Pulling fs layer\n",
      "Step #0 - \"build_component_base\": 92ec8b395aa1: Waiting\n",
      "Step #0 - \"build_component_base\": 295d2f1818b0: Waiting\n",
      "Step #0 - \"build_component_base\": 05c2151a829c: Verifying Checksum\n",
      "Step #0 - \"build_component_base\": 05c2151a829c: Download complete\n",
      "Step #0 - \"build_component_base\": 92ec8b395aa1: Verifying Checksum\n",
      "Step #0 - \"build_component_base\": 92ec8b395aa1: Download complete\n",
      "Step #0 - \"build_component_base\": 295d2f1818b0: Verifying Checksum\n",
      "Step #0 - \"build_component_base\": 295d2f1818b0: Download complete\n",
      "Step #0 - \"build_component_base\": 413e4e4760ae: Verifying Checksum\n",
      "Step #0 - \"build_component_base\": 413e4e4760ae: Download complete\n",
      "Step #0 - \"build_component_base\": f03b40093957: Verifying Checksum\n",
      "Step #0 - \"build_component_base\": f03b40093957: Download complete\n",
      "Step #0 - \"build_component_base\": f03b40093957: Pull complete\n",
      "Step #0 - \"build_component_base\": 05c2151a829c: Pull complete\n",
      "Step #0 - \"build_component_base\": 413e4e4760ae: Pull complete\n",
      "Step #0 - \"build_component_base\": 92ec8b395aa1: Pull complete\n",
      "Step #0 - \"build_component_base\": 295d2f1818b0: Pull complete\n",
      "Step #0 - \"build_component_base\": Digest: sha256:5cde4e147c4165ad8dbf8a4df9631863766eeb0b79b890fafe6885b3b127af74\n",
      "Step #0 - \"build_component_base\": Status: Downloaded newer image for python:3.9-slim\n",
      "Step #0 - \"build_component_base\":  ---> babdc67dc69c\n",
      "Step #0 - \"build_component_base\": Step 2/6 : RUN python -m pip install --upgrade pip\n",
      "Step #0 - \"build_component_base\":  ---> Running in dd1fcc19c2b3\n",
      "Step #0 - \"build_component_base\": Requirement already satisfied: pip in /usr/local/lib/python3.9/site-packages (22.0.4)\n",
      "Step #0 - \"build_component_base\": Collecting pip\n",
      "Step #0 - \"build_component_base\":   Downloading pip-23.1.2-py3-none-any.whl (2.1 MB)\n",
      "Step #0 - \"build_component_base\":      ━━━━━━━━━━━━━━━━━━━━━━━━━━━━━━━━━━━━━━━━ 2.1/2.1 MB 51.4 MB/s eta 0:00:00\n",
      "Step #0 - \"build_component_base\": Installing collected packages: pip\n",
      "Step #0 - \"build_component_base\":   Attempting uninstall: pip\n",
      "Step #0 - \"build_component_base\":     Found existing installation: pip 22.0.4\n",
      "Step #0 - \"build_component_base\":     Uninstalling pip-22.0.4:\n",
      "Step #0 - \"build_component_base\":       Successfully uninstalled pip-22.0.4\n",
      "Step #0 - \"build_component_base\": Successfully installed pip-23.1.2\n",
      "Step #0 - \"build_component_base\": \u001b[91mWARNING: Running pip as the 'root' user can result in broken permissions and conflicting behaviour with the system package manager. It is recommended to use a virtual environment instead: https://pip.pypa.io/warnings/venv\n",
      "Step #0 - \"build_component_base\": \u001b[0mRemoving intermediate container dd1fcc19c2b3\n",
      "Step #0 - \"build_component_base\":  ---> 435a601f6d13\n",
      "Step #0 - \"build_component_base\": Step 3/6 : COPY requirements.txt .\n",
      "Step #0 - \"build_component_base\":  ---> 5e531309800a\n",
      "Step #0 - \"build_component_base\": Step 4/6 : RUN python -m pip install -r     requirements.txt --quiet --no-cache-dir     && rm -f requirements.txt\n",
      "Step #0 - \"build_component_base\":  ---> Running in c986461f6e26\n",
      "Step #0 - \"build_component_base\": \u001b[91mWARNING: Running pip as the 'root' user can result in broken permissions and conflicting behaviour with the system package manager. It is recommended to use a virtual environment instead: https://pip.pypa.io/warnings/venv\n",
      "Step #0 - \"build_component_base\": \u001b[0mRemoving intermediate container c986461f6e26\n",
      "Step #0 - \"build_component_base\":  ---> 265a6ae3df5c\n",
      "Step #0 - \"build_component_base\": Step 5/6 : COPY ./src /pipelines/component/src\n",
      "Step #0 - \"build_component_base\":  ---> 947da7a97ad6\n",
      "Step #0 - \"build_component_base\": Step 6/6 : ENTRYPOINT [\"/bin/bash\"]\n",
      "Step #0 - \"build_component_base\":  ---> Running in 27ed325719a3\n",
      "Step #0 - \"build_component_base\": Removing intermediate container 27ed325719a3\n",
      "Step #0 - \"build_component_base\":  ---> 38d1e654b8a2\n",
      "Step #0 - \"build_component_base\": Successfully built 38d1e654b8a2\n",
      "Step #0 - \"build_component_base\": Successfully tagged us-central1-docker.pkg.dev/automlops-sandbox/vertex-mlops-af/components/component_base:latest\n",
      "Finished Step #0 - \"build_component_base\"\n",
      "Starting Step #1 - \"build_pipeline_runner_svc\"\n",
      "Step #1 - \"build_pipeline_runner_svc\": Already have image (with digest): gcr.io/cloud-builders/docker\n",
      "Step #1 - \"build_pipeline_runner_svc\": Sending build context to Docker daemon  87.04kB\n",
      "Step #1 - \"build_pipeline_runner_svc\": Step 1/10 : FROM python:3.9-slim\n",
      "Step #1 - \"build_pipeline_runner_svc\":  ---> babdc67dc69c\n",
      "Step #1 - \"build_pipeline_runner_svc\": Step 2/10 : ENV PYTHONUNBUFFERED True\n",
      "Step #1 - \"build_pipeline_runner_svc\":  ---> Running in 3b7b4b6a67a8\n",
      "Step #1 - \"build_pipeline_runner_svc\": Removing intermediate container 3b7b4b6a67a8\n",
      "Step #1 - \"build_pipeline_runner_svc\":  ---> 31fbd2f0e6fe\n",
      "Step #1 - \"build_pipeline_runner_svc\": Step 3/10 : ENV APP_HOME /app\n",
      "Step #1 - \"build_pipeline_runner_svc\":  ---> Running in 31fe328d5edc\n",
      "Step #1 - \"build_pipeline_runner_svc\": Removing intermediate container 31fe328d5edc\n",
      "Step #1 - \"build_pipeline_runner_svc\":  ---> fd7e094cfcef\n",
      "Step #1 - \"build_pipeline_runner_svc\": Step 4/10 : WORKDIR $APP_HOME\n",
      "Step #1 - \"build_pipeline_runner_svc\":  ---> Running in 1bc36a13cb07\n",
      "Step #1 - \"build_pipeline_runner_svc\": Removing intermediate container 1bc36a13cb07\n",
      "Step #1 - \"build_pipeline_runner_svc\":  ---> f25eaba96a62\n",
      "Step #1 - \"build_pipeline_runner_svc\": Step 5/10 : COPY ./ ./\n",
      "Step #1 - \"build_pipeline_runner_svc\":  ---> 6118d363972e\n",
      "Step #1 - \"build_pipeline_runner_svc\": Step 6/10 : RUN python -m pip install --upgrade pip\n",
      "Step #1 - \"build_pipeline_runner_svc\":  ---> Running in 94aaf4341d65\n",
      "Step #1 - \"build_pipeline_runner_svc\": Requirement already satisfied: pip in /usr/local/lib/python3.9/site-packages (22.0.4)\n",
      "Step #1 - \"build_pipeline_runner_svc\": Collecting pip\n",
      "Step #1 - \"build_pipeline_runner_svc\":   Downloading pip-23.1.2-py3-none-any.whl (2.1 MB)\n",
      "Step #1 - \"build_pipeline_runner_svc\":      ━━━━━━━━━━━━━━━━━━━━━━━━━━━━━━━━━━━━━━━━ 2.1/2.1 MB 56.8 MB/s eta 0:00:00\n",
      "Step #1 - \"build_pipeline_runner_svc\": Installing collected packages: pip\n",
      "Step #1 - \"build_pipeline_runner_svc\":   Attempting uninstall: pip\n",
      "Step #1 - \"build_pipeline_runner_svc\":     Found existing installation: pip 22.0.4\n",
      "Step #1 - \"build_pipeline_runner_svc\":     Uninstalling pip-22.0.4:\n",
      "Step #1 - \"build_pipeline_runner_svc\":       Successfully uninstalled pip-22.0.4\n",
      "Step #1 - \"build_pipeline_runner_svc\": Successfully installed pip-23.1.2\n",
      "Step #1 - \"build_pipeline_runner_svc\": \u001b[91mWARNING: Running pip as the 'root' user can result in broken permissions and conflicting behaviour with the system package manager. It is recommended to use a virtual environment instead: https://pip.pypa.io/warnings/venv\n",
      "Step #1 - \"build_pipeline_runner_svc\": \u001b[0mRemoving intermediate container 94aaf4341d65\n",
      "Step #1 - \"build_pipeline_runner_svc\":  ---> e0b816f25d1e\n",
      "Step #1 - \"build_pipeline_runner_svc\": Step 7/10 : RUN pip install --no-cache-dir -r /app/cloud_run/run_pipeline/requirements.txt\n",
      "Step #1 - \"build_pipeline_runner_svc\":  ---> Running in da8b6ed1637d\n",
      "Step #1 - \"build_pipeline_runner_svc\": Collecting kfp (from -r /app/cloud_run/run_pipeline/requirements.txt (line 1))\n",
      "Step #1 - \"build_pipeline_runner_svc\":   Downloading kfp-1.8.22.tar.gz (304 kB)\n",
      "Step #1 - \"build_pipeline_runner_svc\":      ━━━━━━━━━━━━━━━━━━━━━━━━━━━━━━━━━━━━━━━ 304.9/304.9 kB 3.1 MB/s eta 0:00:00\n",
      "Step #1 - \"build_pipeline_runner_svc\":   Preparing metadata (setup.py): started\n",
      "Step #1 - \"build_pipeline_runner_svc\":   Preparing metadata (setup.py): finished with status 'done'\n",
      "Step #1 - \"build_pipeline_runner_svc\": Collecting google-cloud-aiplatform (from -r /app/cloud_run/run_pipeline/requirements.txt (line 2))\n",
      "Step #1 - \"build_pipeline_runner_svc\":   Downloading google_cloud_aiplatform-1.25.0-py2.py3-none-any.whl (2.6 MB)\n",
      "Step #1 - \"build_pipeline_runner_svc\":      ━━━━━━━━━━━━━━━━━━━━━━━━━━━━━━━━━━━━━━━━ 2.6/2.6 MB 115.0 MB/s eta 0:00:00\n",
      "Step #1 - \"build_pipeline_runner_svc\": Collecting google-cloud-pipeline-components (from -r /app/cloud_run/run_pipeline/requirements.txt (line 3))\n",
      "Step #1 - \"build_pipeline_runner_svc\":   Downloading google_cloud_pipeline_components-1.0.44-py3-none-any.whl (1.5 MB)\n",
      "Step #1 - \"build_pipeline_runner_svc\":      ━━━━━━━━━━━━━━━━━━━━━━━━━━━━━━━━━━━━━━━━ 1.5/1.5 MB 175.5 MB/s eta 0:00:00\n",
      "Step #1 - \"build_pipeline_runner_svc\": Collecting Flask (from -r /app/cloud_run/run_pipeline/requirements.txt (line 4))\n",
      "Step #1 - \"build_pipeline_runner_svc\":   Downloading Flask-2.3.2-py3-none-any.whl (96 kB)\n",
      "Step #1 - \"build_pipeline_runner_svc\":      ━━━━━━━━━━━━━━━━━━━━━━━━━━━━━━━━━━━━━━━ 96.9/96.9 kB 157.8 MB/s eta 0:00:00\n",
      "Step #1 - \"build_pipeline_runner_svc\": Collecting gunicorn (from -r /app/cloud_run/run_pipeline/requirements.txt (line 5))\n",
      "Step #1 - \"build_pipeline_runner_svc\":   Downloading gunicorn-20.1.0-py3-none-any.whl (79 kB)\n",
      "Step #1 - \"build_pipeline_runner_svc\":      ━━━━━━━━━━━━━━━━━━━━━━━━━━━━━━━━━━━━━━━ 79.5/79.5 kB 159.1 MB/s eta 0:00:00\n",
      "Step #1 - \"build_pipeline_runner_svc\": Collecting pyyaml (from -r /app/cloud_run/run_pipeline/requirements.txt (line 6))\n",
      "Step #1 - \"build_pipeline_runner_svc\":   Downloading PyYAML-6.0-cp39-cp39-manylinux_2_5_x86_64.manylinux1_x86_64.manylinux_2_12_x86_64.manylinux2010_x86_64.whl (661 kB)\n",
      "Step #1 - \"build_pipeline_runner_svc\":      ━━━━━━━━━━━━━━━━━━━━━━━━━━━━━━━━━━━━━ 661.8/661.8 kB 174.7 MB/s eta 0:00:00\n",
      "Step #1 - \"build_pipeline_runner_svc\": Collecting absl-py<2,>=0.9 (from kfp->-r /app/cloud_run/run_pipeline/requirements.txt (line 1))\n",
      "Step #1 - \"build_pipeline_runner_svc\":   Downloading absl_py-1.4.0-py3-none-any.whl (126 kB)\n",
      "Step #1 - \"build_pipeline_runner_svc\":      ━━━━━━━━━━━━━━━━━━━━━━━━━━━━━━━━━━━━━ 126.5/126.5 kB 167.3 MB/s eta 0:00:00\n",
      "Step #1 - \"build_pipeline_runner_svc\": Collecting google-api-core!=2.0.*,!=2.1.*,!=2.2.*,!=2.3.0,<3.0.0dev,>=1.31.5 (from kfp->-r /app/cloud_run/run_pipeline/requirements.txt (line 1))\n",
      "Step #1 - \"build_pipeline_runner_svc\":   Downloading google_api_core-2.11.0-py3-none-any.whl (120 kB)\n",
      "Step #1 - \"build_pipeline_runner_svc\":      ━━━━━━━━━━━━━━━━━━━━━━━━━━━━━━━━━━━━━ 120.3/120.3 kB 167.6 MB/s eta 0:00:00\n",
      "Step #1 - \"build_pipeline_runner_svc\": Collecting google-cloud-storage<3,>=1.20.0 (from kfp->-r /app/cloud_run/run_pipeline/requirements.txt (line 1))\n",
      "Step #1 - \"build_pipeline_runner_svc\":   Downloading google_cloud_storage-2.9.0-py2.py3-none-any.whl (113 kB)\n",
      "Step #1 - \"build_pipeline_runner_svc\":      ━━━━━━━━━━━━━━━━━━━━━━━━━━━━━━━━━━━━━ 113.5/113.5 kB 154.5 MB/s eta 0:00:00\n",
      "Step #1 - \"build_pipeline_runner_svc\": Collecting kubernetes<26,>=8.0.0 (from kfp->-r /app/cloud_run/run_pipeline/requirements.txt (line 1))\n",
      "Step #1 - \"build_pipeline_runner_svc\":   Downloading kubernetes-25.3.0-py2.py3-none-any.whl (1.4 MB)\n",
      "Step #1 - \"build_pipeline_runner_svc\":      ━━━━━━━━━━━━━━━━━━━━━━━━━━━━━━━━━━━━━━━━ 1.4/1.4 MB 166.3 MB/s eta 0:00:00\n",
      "Step #1 - \"build_pipeline_runner_svc\": Collecting google-api-python-client<2,>=1.7.8 (from kfp->-r /app/cloud_run/run_pipeline/requirements.txt (line 1))\n",
      "Step #1 - \"build_pipeline_runner_svc\":   Downloading google_api_python_client-1.12.11-py2.py3-none-any.whl (62 kB)\n",
      "Step #1 - \"build_pipeline_runner_svc\":      ━━━━━━━━━━━━━━━━━━━━━━━━━━━━━━━━━━━━━━━ 62.1/62.1 kB 118.0 MB/s eta 0:00:00\n",
      "Step #1 - \"build_pipeline_runner_svc\": Collecting google-auth<3,>=1.6.1 (from kfp->-r /app/cloud_run/run_pipeline/requirements.txt (line 1))\n",
      "Step #1 - \"build_pipeline_runner_svc\":   Downloading google_auth-2.19.0-py2.py3-none-any.whl (181 kB)\n",
      "Step #1 - \"build_pipeline_runner_svc\":      ━━━━━━━━━━━━━━━━━━━━━━━━━━━━━━━━━━━━━ 181.3/181.3 kB 182.3 MB/s eta 0:00:00\n"
     ]
    },
    {
     "name": "stdout",
     "output_type": "stream",
     "text": [
      "Step #1 - \"build_pipeline_runner_s\n",
      "#################################################################\n",
      "#                                                               #\n",
      "#                       RESOURCES MANIFEST                      #\n",
      "#---------------------------------------------------------------#\n",
      "#     Generated resources can be found at the following urls    #\n",
      "#                                                               #\n",
      "#################################################################\n",
      "\n",
      "Google Cloud Storage Bucket: https://console.cloud.google.com/storage/automlops-sandbox-bucket\n",
      "Artifact Registry: https://console.cloud.google.com/artifacts/docker/automlops-sandbox/us-central1/vertex-mlops-af\n",
      "Service Accounts: https://console.cloud.google.com/iam-admin/serviceaccounts?project=automlops-sandbox\n",
      "APIs: https://console.cloud.google.com/apis\n",
      "Cloud Source Repository: https://source.cloud.google.com/automlops-sandbox/AutoMLOps-repo/+/automlops:\n",
      "Cloud Build Jobs: https://console.cloud.google.com/cloud-build/builds;region=us-central1\n",
      "Vertex AI Pipeline Runs: https://console.cloud.google.com/vertex-ai/pipelines/runs\n"
     ]
    }
   ],
   "source": [
    "AutoMLOps.go(project_id=PROJECT_ID, # required\n",
    "             pipeline_params=pipeline_params, # required\n",
    "             af_registry_location='us-central1', # default\n",
    "             af_registry_name='vertex-mlops-af', # default\n",
    "             base_image='python:3.9-slim', # default\n",
    "             cb_trigger_location='us-central1', # default\n",
    "             cb_trigger_name='automlops-trigger', # default\n",
    "             cloud_run_location='us-central1', # default\n",
    "             cloud_run_name='run-pipeline', # default\n",
    "             cloud_tasks_queue_location='us-central1', # default\n",
    "             cloud_tasks_queue_name='queueing-svc', # default\n",
    "             csr_branch_name='automlops', # default\n",
    "             csr_name='AutoMLOps-repo', # default\n",
    "             custom_training_job_specs=None, # default\n",
    "             gs_bucket_location='us-central1', # default\n",
    "             gs_bucket_name=None, # default\n",
    "             pipeline_runner_sa=None, # default\n",
    "             run_local=True, # default\n",
    "             schedule_location='us-central1', # default\n",
    "             schedule_name='AutoMLOps-schedule', # default\n",
    "             schedule_pattern='No Schedule Specified', # default\n",
    "             vpc_connector='No VPC Specified' # default\n",
    ")"
   ]
  },
  {
   "cell_type": "markdown",
   "id": "715a8a22",
   "metadata": {},
   "source": [
    "# 2. AutoMLOps Pipeline - Using Kubeflow components\n",
    "This workflow will generate a pipeline using Kubeflow spec. `generate()` will create all the necessary files but not run them. `go()` will create all the necessary files, resources, push the code to the source repo to trigger the build, and then submit a Pipeline training job to Vertex AI. Please see the [readme](https://github.com/GoogleCloudPlatform/automlops/blob/main/README.md) for more information.\n",
    "\n",
    "**Note: This workflow requires python packages `kfp<2.0.0` and `google-cloud-aiplatform`.**"
   ]
  },
  {
   "cell_type": "code",
   "execution_count": null,
   "id": "98f82908",
   "metadata": {},
   "outputs": [],
   "source": [
    "!pip3 install kfp<2.0.0 google-cloud-aiplatform"
   ]
  },
  {
   "cell_type": "markdown",
   "id": "0856cbc0",
   "metadata": {},
   "source": [
    "## Imports"
   ]
  },
  {
   "cell_type": "code",
   "execution_count": 11,
   "id": "36329f82",
   "metadata": {},
   "outputs": [],
   "source": [
    "from kfp.v2 import compiler, dsl\n",
    "from kfp.v2.dsl import Artifact, Dataset, Input, Metrics, Model, Output, OutputPath\n",
    "from AutoMLOps import AutoMLOps"
   ]
  },
  {
   "cell_type": "markdown",
   "id": "a83fcec2",
   "metadata": {},
   "source": [
    "## Clear the cache\n",
    "`AutoMLOps.clear_cache` will remove previous instantiations of AutoMLOps components and pipelines. Use this function if you have previously defined a component that you no longer need."
   ]
  },
  {
   "cell_type": "code",
   "execution_count": 12,
   "id": "cf82f09f",
   "metadata": {},
   "outputs": [
    {
     "name": "stdout",
     "output_type": "stream",
     "text": [
      "Cache cleared.\n"
     ]
    }
   ],
   "source": [
    "AutoMLOps.clear_cache()"
   ]
  },
  {
   "cell_type": "markdown",
   "id": "1bb34204",
   "metadata": {},
   "source": [
    "## Data Loading\n",
    "Define a Kubeflow custom component for loading and creating a dataset. You must specify the `output_component_file` with the name of your component. For `AutoMLOps` to know where to find the Kubeflow component spec, set this variable to the following string `f\"{AutoMLOps.OUTPUT_DIR}/your_component_name.yaml\"`"
   ]
  },
  {
   "cell_type": "code",
   "execution_count": 13,
   "id": "89b82a23",
   "metadata": {},
   "outputs": [],
   "source": [
    "@dsl.component(\n",
    "    packages_to_install=[\n",
    "        'google-cloud-bigquery', \n",
    "        'pandas',\n",
    "        'pyarrow',\n",
    "        'db_dtypes'\n",
    "    ],\n",
    "    output_component_file=f'{AutoMLOps.OUTPUT_DIR}/create_dataset.yaml'\n",
    ")\n",
    "def create_dataset(\n",
    "    bq_table: str,\n",
    "    output_data_path: OutputPath('Dataset'),\n",
    "    project: str\n",
    "):\n",
    "    \"\"\"Custom component that takes in a BQ table and writes it to GCS.\n",
    "\n",
    "    Args:\n",
    "        bq_table: The source biquery table.\n",
    "        output_data_path: The gcs location to write the csv.\n",
    "        project: The project ID.\n",
    "    \"\"\"\n",
    "    from google.cloud import bigquery\n",
    "    import pandas as pd\n",
    "    bq_client = bigquery.Client(project=project)\n",
    "\n",
    "    def get_query(bq_input_table: str) -> str:\n",
    "        \"\"\"Generates BQ Query to read data.\n",
    "\n",
    "        Args:\n",
    "        bq_input_table: The full name of the bq input table to be read into\n",
    "        the dataframe (e.g. <project>.<dataset>.<table>)\n",
    "        Returns: A BQ query string.\n",
    "        \"\"\"\n",
    "        return f'''\n",
    "        SELECT *\n",
    "        FROM `{bq_input_table}`\n",
    "        '''\n",
    "\n",
    "    def load_bq_data(query: str, client: bigquery.Client) -> pd.DataFrame:\n",
    "        \"\"\"Loads data from bq into a Pandas Dataframe for EDA.\n",
    "        Args:\n",
    "        query: BQ Query to generate data.\n",
    "        client: BQ Client used to execute query.\n",
    "        Returns:\n",
    "        pd.DataFrame: A dataframe with the requested data.\n",
    "        \"\"\"\n",
    "        df = client.query(query).to_dataframe()\n",
    "        return df\n",
    "\n",
    "    dataframe = load_bq_data(get_query(bq_table), bq_client)\n",
    "    dataframe.to_csv(output_data_path)"
   ]
  },
  {
   "cell_type": "markdown",
   "id": "03abc18d",
   "metadata": {},
   "source": [
    "## Model Training\n",
    "Define a Kubeflow custom component for training a model."
   ]
  },
  {
   "cell_type": "code",
   "execution_count": 14,
   "id": "4f1a3660",
   "metadata": {},
   "outputs": [],
   "source": [
    "@dsl.component(\n",
    "    packages_to_install=[\n",
    "        'scikit-learn==1.2.0',\n",
    "        'pandas',\n",
    "        'joblib',\n",
    "        'tensorflow'\n",
    "    ],\n",
    "    output_component_file=f'{AutoMLOps.OUTPUT_DIR}/train_model.yaml'\n",
    ")\n",
    "def train_model(\n",
    "    output_model_directory: str,\n",
    "    dataset: Input[Dataset],\n",
    "    metrics: Output[Metrics],\n",
    "    model: Output[Model]\n",
    "):\n",
    "    from sklearn.tree import DecisionTreeClassifier\n",
    "    from sklearn.model_selection import train_test_split\n",
    "    import pandas as pd\n",
    "    import tensorflow as tf\n",
    "    import pickle\n",
    "    import os\n",
    "    \n",
    "    def save_model(model, uri):\n",
    "        \"\"\"Saves a model to uri.\"\"\"\n",
    "        with tf.io.gfile.GFile(uri, 'w') as f:\n",
    "            pickle.dump(model, f)\n",
    "    \n",
    "    df = pd.read_csv(dataset.path)\n",
    "    labels = df.pop('Class').tolist()\n",
    "    data = df.values.tolist()\n",
    "    x_train, x_test, y_train, y_test = train_test_split(data, labels)\n",
    "    skmodel = DecisionTreeClassifier()\n",
    "    skmodel.fit(x_train,y_train)\n",
    "    score = skmodel.score(x_test,y_test)\n",
    "    print('accuracy is:',score)\n",
    "    metrics.log_metric('accuracy', (score * 100.0))\n",
    "    metrics.log_metric('framework', 'Scikit Learn')\n",
    "    metrics.log_metric('dataset_size', len(df))\n",
    "\n",
    "    output_uri = os.path.join(output_model_directory, f'model.pkl')\n",
    "    save_model(skmodel, output_uri)\n",
    "    model.path = output_model_directory"
   ]
  },
  {
   "cell_type": "markdown",
   "id": "cae46f9f",
   "metadata": {},
   "source": [
    "## Uploading & Deploying the Model\n",
    "Define a Kubeflow custom component for uploading and deploying a model in Vertex AI."
   ]
  },
  {
   "cell_type": "code",
   "execution_count": 15,
   "id": "aa8047d6",
   "metadata": {},
   "outputs": [],
   "source": [
    "@dsl.component(\n",
    "    packages_to_install=[\n",
    "        'google-cloud-aiplatform'\n",
    "    ],\n",
    "    output_component_file=f'{AutoMLOps.OUTPUT_DIR}/deploy_model.yaml'    \n",
    ")\n",
    "def deploy_model(\n",
    "    model: Input[Model],\n",
    "    project: str,\n",
    "    region: str,\n",
    "    vertex_endpoint: Output[Artifact],\n",
    "    vertex_model: Output[Model]\n",
    "):\n",
    "    from google.cloud import aiplatform\n",
    "    aiplatform.init(project=project, location=region)\n",
    "    # Check if model exists\n",
    "    models = aiplatform.Model.list()\n",
    "    model_name = 'beans-model'\n",
    "    if 'beans-model' in (m.name for m in models):\n",
    "        parent_model = model_name\n",
    "        model_id = None\n",
    "        is_default_version=False\n",
    "        version_aliases=['experimental', 'challenger', 'custom-training', 'decision-tree']\n",
    "        version_description='challenger version'\n",
    "    else:\n",
    "        parent_model = None\n",
    "        model_id=model_name\n",
    "        is_default_version=True\n",
    "        version_aliases=['champion', 'custom-training', 'decision-tree']\n",
    "        version_description='first version'\n",
    "\n",
    "    serving_container = 'us-docker.pkg.dev/vertex-ai/prediction/sklearn-cpu.1-2:latest'\n",
    "    uploaded_model = aiplatform.Model.upload(\n",
    "        artifact_uri=model.uri,\n",
    "        model_id=model_id,\n",
    "        display_name=model_name,\n",
    "        parent_model=parent_model,\n",
    "        is_default_version=is_default_version,\n",
    "        version_aliases=version_aliases,\n",
    "        version_description=version_description,\n",
    "        serving_container_image_uri=serving_container,\n",
    "        serving_container_ports=[8080],\n",
    "        labels={'created_by': 'automlops-team'},\n",
    "    )\n",
    "\n",
    "    endpoint = uploaded_model.deploy(\n",
    "        machine_type='n1-standard-4',\n",
    "        deployed_model_display_name='deployed-beans-model')\n",
    "    vertex_endpoint.uri = endpoint.resource_name\n",
    "    vertex_model.uri = endpoint.resource_name"
   ]
  },
  {
   "cell_type": "markdown",
   "id": "3602954f",
   "metadata": {},
   "source": [
    "## Define the Pipeline\n",
    "Define your pipeline. You can optionally give the pipeline a name and description. Define the structure by listing the components to be called in your pipeline; use `.after` to specify the order of execution."
   ]
  },
  {
   "cell_type": "code",
   "execution_count": 16,
   "id": "01996d4c",
   "metadata": {},
   "outputs": [],
   "source": [
    "@AutoMLOps.pipeline\n",
    "def pipeline(bq_table: str,\n",
    "             output_model_directory: str,\n",
    "             project: str,\n",
    "             region: str,\n",
    "            ):\n",
    "\n",
    "    dataset_task = create_dataset(\n",
    "        bq_table=bq_table, \n",
    "        project=project)\n",
    "\n",
    "    model_task = train_model(\n",
    "        output_model_directory=output_model_directory,\n",
    "        dataset=dataset_task.output)\n",
    "\n",
    "    deploy_task = deploy_model(\n",
    "        model=model_task.outputs['model'],\n",
    "        project=project,\n",
    "        region=region)"
   ]
  },
  {
   "cell_type": "markdown",
   "id": "6fe0b0f2",
   "metadata": {},
   "source": [
    "## Define the Pipeline Arguments"
   ]
  },
  {
   "cell_type": "code",
   "execution_count": 17,
   "id": "bc244ca7",
   "metadata": {},
   "outputs": [],
   "source": [
    "import datetime\n",
    "pipeline_params = {\n",
    "    'bq_table': f'{PROJECT_ID}.test_dataset.dry-beans',\n",
    "    'output_model_directory': f'gs://{PROJECT_ID}-bucket/trained_models/{datetime.datetime.now()}',\n",
    "    'project': f'{PROJECT_ID}',\n",
    "    'region': 'us-central1'\n",
    "}"
   ]
  },
  {
   "cell_type": "markdown",
   "id": "1b0c815c",
   "metadata": {},
   "source": [
    "## Generate and Run the pipeline\n",
    "`AutoMLOps.generate` generates the code for the MLOps pipeline. `AutoMLOps.go` generates the code and runs the pipeline."
   ]
  },
  {
   "cell_type": "code",
   "execution_count": 18,
   "id": "36433503",
   "metadata": {},
   "outputs": [
    {
     "name": "stdout",
     "output_type": "stream",
     "text": [
      "INFO: Successfully saved requirements file in AutoMLOps/components/component_base/requirements.txt\n"
     ]
    }
   ],
   "source": [
    "AutoMLOps.generate(project_id=PROJECT_ID,\n",
    "                   pipeline_params=pipeline_params,\n",
    "                   run_local=False,\n",
    "                   schedule_pattern='59 11 * * 0' # retrain every Sunday at Midnight\n",
    ")"
   ]
  },
  {
   "cell_type": "code",
   "execution_count": 19,
   "id": "25cfeff0-c5e9-4861-83f0-844dac5e153a",
   "metadata": {},
   "outputs": [
    {
     "name": "stdout",
     "output_type": "stream",
     "text": [
      "INFO: Successfully saved requirements file in AutoMLOps/components/component_base/requirements.txt\n",
      "\u001b[0;32m Updating required API services in project automlops-sandbox \u001b[0m\n",
      "Operation \"operations/acat.p2-45373616427-652932ad-065e-4eaa-9b94-163b20febc51\" finished successfully.\n",
      "\u001b[0;32m Checking for Artifact Registry: vertex-mlops-af in project automlops-sandbox \u001b[0m\n",
      "Listing items under project automlops-sandbox, location us-central1.\n",
      "\n",
      "vertex-mlops-af  DOCKER  STANDARD_REPOSITORY  Artifact Registry vertex-mlops-af in us-central1.  us-central1          Google-managed key  2023-01-11T17:12:26  2023-07-13T15:27:59  76387.037\n",
      "Artifact Registry: vertex-mlops-af already exists in project automlops-sandbox\n",
      "\u001b[0;32m Checking for GS Bucket: automlops-sandbox-bucket in project automlops-sandbox \u001b[0m\n",
      "gs://automlops-sandbox-bucket/\n",
      "GS Bucket: automlops-sandbox-bucket already exists in project automlops-sandbox\n",
      "\u001b[0;32m Checking for Service Account: vertex-pipelines in project automlops-sandbox \u001b[0m\n",
      "Pipeline Runner Service Account         vertex-pipelines@automlops-sandbox.iam.gserviceaccount.com  False\n",
      "Service Account: vertex-pipelines already exists in project automlops-sandbox\n",
      "\u001b[0;32m Updating required IAM roles in project automlops-sandbox \u001b[0m\n",
      "\u001b[0;32m Checking for Cloud Source Repository: AutoMLOps-repo in project automlops-sandbox \u001b[0m\n",
      "AutoMLOps-repo  automlops-sandbox  https://source.developers.google.com/p/automlops-sandbox/r/AutoMLOps-repo\n",
      "Cloud Source Repository: AutoMLOps-repo already exists in project automlops-sandbox\n",
      "\u001b[0;32m Checking for Cloud Tasks Queue: queueing-svc in project automlops-sandbox \u001b[0m\n",
      "queueing-svc       RUNNING  1000              500.0            100\n",
      "Cloud Tasks Queue: queueing-svc already exists in project automlops-sandbox\n",
      "\u001b[0;32m Checking for Cloudbuild Trigger: automlops-trigger in project automlops-sandbox \u001b[0m\n",
      "name: automlops-trigger\n",
      "Cloudbuild Trigger already exists in project automlops-sandbox for repo AutoMLOps-repo\n",
      "[automlops abdfdd0] Run AutoMLOps\n",
      " 16 files changed, 342 insertions(+), 301 deletions(-)\n",
      "remote: Waiting for private key checker: 11/15 objects left        \n",
      "To https://source.developers.google.com/p/automlops-sandbox/r/AutoMLOps-repo\n",
      "   a57630e..abdfdd0  automlops -> automlops\n",
      "Pushing code to automlops branch, triggering cloudbuild...\n",
      "Cloudbuild job running at: https://console.cloud.google.com/cloud-build/builds;region=us-central1\n",
      "\n",
      "#################################################################\n",
      "#                                                               #\n",
      "#                       RESOURCES MANIFEST                      #\n",
      "#---------------------------------------------------------------#\n",
      "#     Generated resources can be found at the following urls    #\n",
      "#                                                               #\n",
      "#################################################################\n",
      "\n",
      "Google Cloud Storage Bucket: https://console.cloud.google.com/storage/automlops-sandbox-bucket\n",
      "Artifact Registry: https://console.cloud.google.com/artifacts/docker/automlops-sandbox/us-central1/vertex-mlops-af\n",
      "Service Accounts: https://console.cloud.google.com/iam-admin/serviceaccounts?project=automlops-sandbox\n",
      "APIs: https://console.cloud.google.com/apis\n",
      "Cloud Source Repository: https://source.cloud.google.com/automlops-sandbox/AutoMLOps-repo/+/automlops:\n",
      "Cloud Build Jobs: https://console.cloud.google.com/cloud-build/builds;region=us-central1\n",
      "Vertex AI Pipeline Runs: https://console.cloud.google.com/vertex-ai/pipelines/runs\n",
      "Cloud Build Trigger: https://console.cloud.google.com/cloud-build/triggers;region=us-central1\n",
      "Cloud Run Service: https://console.cloud.google.com/run/detail/us-central1/run-pipeline\n",
      "Cloud Tasks Queue: https://console.cloud.google.com/cloudtasks/queue/us-central1/queueing-svc/tasks\n",
      "Cloud Scheduler Job: https://console.cloud.google.com/cloudscheduler\n"
     ]
    }
   ],
   "source": [
    "AutoMLOps.go(project_id=PROJECT_ID, \n",
    "             pipeline_params=pipeline_params, \n",
    "             run_local=False,\n",
    "             schedule_pattern='59 11 * * 0'\n",
    ")"
   ]
  },
  {
   "cell_type": "code",
   "execution_count": null,
   "id": "2265cfd1",
   "metadata": {},
   "outputs": [],
   "source": []
  }
 ],
 "metadata": {
  "environment": {
   "kernel": "python3",
   "name": "common-cpu.m102",
   "type": "gcloud",
   "uri": "gcr.io/deeplearning-platform-release/base-cpu:m102"
  },
  "kernelspec": {
   "display_name": "Python 3 (ipykernel)",
   "language": "python",
   "name": "python3"
  },
  "language_info": {
   "codemirror_mode": {
    "name": "ipython",
    "version": 3
   },
   "file_extension": ".py",
   "mimetype": "text/x-python",
   "name": "python",
   "nbconvert_exporter": "python",
   "pygments_lexer": "ipython3",
   "version": "3.9.6"
  },
  "vscode": {
   "interpreter": {
    "hash": "31f2aee4e71d21fbe5cf8b01ff0e069b9275f58929596ceb00d14d90e3e16cd6"
   }
  }
 },
 "nbformat": 4,
 "nbformat_minor": 5
}
